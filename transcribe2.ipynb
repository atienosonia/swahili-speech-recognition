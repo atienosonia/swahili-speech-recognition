{
 "cells": [
  {
   "cell_type": "code",
   "execution_count": 1,
   "metadata": {},
   "outputs": [],
   "source": [
    "import pandas as pd\n",
    "import numpy as np \n",
    "\n",
    "import tensorflow as tf\n",
    "\n",
    "import os\n",
    "\n",
    "import librosa\n",
    "\n",
    "from sklearn.model_selection import train_test_split\n",
    "from sklearn.preprocessing import LabelEncoder\n",
    "\n"
   ]
  },
  {
   "cell_type": "code",
   "execution_count": 2,
   "metadata": {},
   "outputs": [],
   "source": [
    "# Load CSVs\n",
    "\n",
    "train_df = pd.read_csv('cv-corpus-10.0-delta-2022-07-04-sw/cv-corpus-10.0-delta-2022-07-04/sw/train.tsv', sep='\\t')\n",
    "test_df = pd.read_csv('cv-corpus-10.0-delta-2022-07-04-sw/cv-corpus-10.0-delta-2022-07-04/sw/test.tsv', sep='\\t')\n",
    "\n"
   ]
  },
  {
   "cell_type": "code",
   "execution_count": 4,
   "metadata": {},
   "outputs": [
    {
     "data": {
      "text/html": [
       "<div>\n",
       "<style scoped>\n",
       "    .dataframe tbody tr th:only-of-type {\n",
       "        vertical-align: middle;\n",
       "    }\n",
       "\n",
       "    .dataframe tbody tr th {\n",
       "        vertical-align: top;\n",
       "    }\n",
       "\n",
       "    .dataframe thead th {\n",
       "        text-align: right;\n",
       "    }\n",
       "</style>\n",
       "<table border=\"1\" class=\"dataframe\">\n",
       "  <thead>\n",
       "    <tr style=\"text-align: right;\">\n",
       "      <th></th>\n",
       "      <th>client_id</th>\n",
       "      <th>path</th>\n",
       "      <th>sentence</th>\n",
       "      <th>up_votes</th>\n",
       "      <th>down_votes</th>\n",
       "      <th>age</th>\n",
       "      <th>gender</th>\n",
       "      <th>accents</th>\n",
       "      <th>locale</th>\n",
       "      <th>segment</th>\n",
       "    </tr>\n",
       "  </thead>\n",
       "  <tbody>\n",
       "    <tr>\n",
       "      <th>0</th>\n",
       "      <td>0ac2b2e3e44a446fb9f6989da2b67a98ea65b963ef35ea...</td>\n",
       "      <td>common_voice_sw_31911896.mp3</td>\n",
       "      <td>Unatakiwa kumaliza kazi mapema.</td>\n",
       "      <td>12</td>\n",
       "      <td>0</td>\n",
       "      <td>thirties</td>\n",
       "      <td>male</td>\n",
       "      <td>NaN</td>\n",
       "      <td>sw</td>\n",
       "      <td>NaN</td>\n",
       "    </tr>\n",
       "    <tr>\n",
       "      <th>1</th>\n",
       "      <td>0ac2b2e3e44a446fb9f6989da2b67a98ea65b963ef35ea...</td>\n",
       "      <td>common_voice_sw_31940313.mp3</td>\n",
       "      <td>Kama fuza wana wengi</td>\n",
       "      <td>2</td>\n",
       "      <td>0</td>\n",
       "      <td>thirties</td>\n",
       "      <td>male</td>\n",
       "      <td>NaN</td>\n",
       "      <td>sw</td>\n",
       "      <td>NaN</td>\n",
       "    </tr>\n",
       "  </tbody>\n",
       "</table>\n",
       "</div>"
      ],
      "text/plain": [
       "                                           client_id  \\\n",
       "0  0ac2b2e3e44a446fb9f6989da2b67a98ea65b963ef35ea...   \n",
       "1  0ac2b2e3e44a446fb9f6989da2b67a98ea65b963ef35ea...   \n",
       "\n",
       "                           path                         sentence  up_votes  \\\n",
       "0  common_voice_sw_31911896.mp3  Unatakiwa kumaliza kazi mapema.        12   \n",
       "1  common_voice_sw_31940313.mp3             Kama fuza wana wengi         2   \n",
       "\n",
       "   down_votes       age gender accents locale  segment  \n",
       "0           0  thirties   male     NaN     sw      NaN  \n",
       "1           0  thirties   male     NaN     sw      NaN  "
      ]
     },
     "execution_count": 4,
     "metadata": {},
     "output_type": "execute_result"
    }
   ],
   "source": [
    "train_df.head(2)"
   ]
  },
  {
   "cell_type": "code",
   "execution_count": 5,
   "metadata": {},
   "outputs": [
    {
     "data": {
      "text/html": [
       "<div>\n",
       "<style scoped>\n",
       "    .dataframe tbody tr th:only-of-type {\n",
       "        vertical-align: middle;\n",
       "    }\n",
       "\n",
       "    .dataframe tbody tr th {\n",
       "        vertical-align: top;\n",
       "    }\n",
       "\n",
       "    .dataframe thead th {\n",
       "        text-align: right;\n",
       "    }\n",
       "</style>\n",
       "<table border=\"1\" class=\"dataframe\">\n",
       "  <thead>\n",
       "    <tr style=\"text-align: right;\">\n",
       "      <th></th>\n",
       "      <th>client_id</th>\n",
       "      <th>path</th>\n",
       "      <th>sentence</th>\n",
       "      <th>up_votes</th>\n",
       "      <th>down_votes</th>\n",
       "      <th>age</th>\n",
       "      <th>gender</th>\n",
       "      <th>accents</th>\n",
       "      <th>locale</th>\n",
       "      <th>segment</th>\n",
       "    </tr>\n",
       "  </thead>\n",
       "  <tbody>\n",
       "    <tr>\n",
       "      <th>0</th>\n",
       "      <td>184cb4d570c6c8ed1de5cbd2efeae921de818db23178ab...</td>\n",
       "      <td>common_voice_sw_32195361.mp3</td>\n",
       "      <td>Chuza vyema</td>\n",
       "      <td>2</td>\n",
       "      <td>1</td>\n",
       "      <td>NaN</td>\n",
       "      <td>NaN</td>\n",
       "      <td>NaN</td>\n",
       "      <td>sw</td>\n",
       "      <td>NaN</td>\n",
       "    </tr>\n",
       "    <tr>\n",
       "      <th>1</th>\n",
       "      <td>1cc634ad9e9493ddcb81222bfc9c4703bbf19e38a2cbfe...</td>\n",
       "      <td>common_voice_sw_32366407.mp3</td>\n",
       "      <td>Watoto watukutu wamfuja mimeangwa</td>\n",
       "      <td>2</td>\n",
       "      <td>0</td>\n",
       "      <td>NaN</td>\n",
       "      <td>NaN</td>\n",
       "      <td>NaN</td>\n",
       "      <td>sw</td>\n",
       "      <td>NaN</td>\n",
       "    </tr>\n",
       "  </tbody>\n",
       "</table>\n",
       "</div>"
      ],
      "text/plain": [
       "                                           client_id  \\\n",
       "0  184cb4d570c6c8ed1de5cbd2efeae921de818db23178ab...   \n",
       "1  1cc634ad9e9493ddcb81222bfc9c4703bbf19e38a2cbfe...   \n",
       "\n",
       "                           path                           sentence  up_votes  \\\n",
       "0  common_voice_sw_32195361.mp3                        Chuza vyema         2   \n",
       "1  common_voice_sw_32366407.mp3  Watoto watukutu wamfuja mimeangwa         2   \n",
       "\n",
       "   down_votes  age gender  accents locale  segment  \n",
       "0           1  NaN    NaN      NaN     sw      NaN  \n",
       "1           0  NaN    NaN      NaN     sw      NaN  "
      ]
     },
     "execution_count": 5,
     "metadata": {},
     "output_type": "execute_result"
    }
   ],
   "source": [
    "test_df.head(2)"
   ]
  },
  {
   "cell_type": "code",
   "execution_count": 6,
   "metadata": {},
   "outputs": [],
   "source": [
    "merged_df = pd.concat([train_df, test_df], ignore_index=True)\n"
   ]
  },
  {
   "cell_type": "code",
   "execution_count": 7,
   "metadata": {},
   "outputs": [],
   "source": [
    "import pandas as pd\n",
    "from collections import Counter\n",
    "\n",
    "# Create DataFrame\n",
    "data = merged_df[['path','sentence']]\n",
    "train_df = pd.DataFrame(data)\n",
    "\n",
    "# Count the occurrences of each word in the entire dataset\n",
    "all_words = ' '.join(train_df['sentence']).split()\n",
    "word_counts = Counter(all_words)\n",
    "\n",
    "# Function to check if a sentence can be moved to the test set\n",
    "def can_move_to_test_set(sentence):\n",
    "    words = sentence.split()\n",
    "    for word in words:\n",
    "        if word_counts[word] <= 1:\n",
    "            return False\n",
    "        word_counts[word] -= 1\n",
    "\n",
    "    # Check if each word still appears in the remaining dataset\n",
    "    for word in words:\n",
    "        if word_counts[word] == 0:\n",
    "            for w in words:\n",
    "                word_counts[w] += 1  # Rollback the changes\n",
    "            return False\n",
    "\n",
    "    return True\n",
    "\n",
    "# Form the test set\n",
    "test_set = train_df[train_df['sentence'].apply(can_move_to_test_set)]\n",
    "\n",
    "# The remaining data is the training set\n",
    "train_set = train_df.drop(test_set.index)\n",
    "\n",
    "# Reset word_counts to its original state\n",
    "word_counts = Counter(all_words)\n"
   ]
  },
  {
   "cell_type": "code",
   "execution_count": 8,
   "metadata": {},
   "outputs": [],
   "source": [
    "common = pd.merge(train_df, test_df, on=['path', 'sentence'])\n",
    "\n",
    "# Getting the indexes of the common rows in train_df\n",
    "common_indexes = train_df.merge(common, on=['path', 'sentence']).index\n",
    "\n",
    "# Dropping the common rows from train_df by using the indexes\n",
    "train_df = train_df.drop(common_indexes)\n"
   ]
  },
  {
   "cell_type": "code",
   "execution_count": 9,
   "metadata": {},
   "outputs": [],
   "source": [
    "test_df = test_df[['path', 'sentence']]"
   ]
  },
  {
   "cell_type": "code",
   "execution_count": 10,
   "metadata": {},
   "outputs": [],
   "source": [
    "# Function to extract features\n",
    "def extract_features(audio_path):\n",
    "    y, sr = librosa.load(audio_path, sr=None, duration=5)  \n",
    "    mfccs = librosa.feature.mfcc(y=y, sr=sr, n_mfcc=13)\n",
    "    return mfccs.T"
   ]
  },
  {
   "cell_type": "code",
   "execution_count": 12,
   "metadata": {},
   "outputs": [],
   "source": [
    "# pip install Numpy==1.21.4"
   ]
  },
  {
   "cell_type": "code",
   "execution_count": 13,
   "metadata": {},
   "outputs": [],
   "source": [
    "# pip install numba==0.53.0"
   ]
  },
  {
   "cell_type": "code",
   "execution_count": 11,
   "metadata": {},
   "outputs": [
    {
     "name": "stderr",
     "output_type": "stream",
     "text": [
      "c:\\Users\\user\\anaconda3\\envs\\learn-env\\lib\\site-packages\\librosa\\util\\decorators.py:88: UserWarning: PySoundFile failed. Trying audioread instead.\n",
      "  return f(*args, **kwargs)\n"
     ]
    }
   ],
   "source": [
    "base_dir = 'cv-corpus-10.0-delta-2022-07-04-sw/cv-corpus-10.0-delta-2022-07-04/sw/clips'\n",
    "X_train = np.array([extract_features(os.path.join(base_dir, path)) for path in train_df['path']])\n",
    "X_test = np.array([extract_features(os.path.join(base_dir, path)) for path in test_df['path']])\n"
   ]
  },
  {
   "cell_type": "code",
   "execution_count": 12,
   "metadata": {},
   "outputs": [
    {
     "data": {
      "text/plain": [
       "341"
      ]
     },
     "execution_count": 12,
     "metadata": {},
     "output_type": "execute_result"
    }
   ],
   "source": [
    "len(X_train)"
   ]
  },
  {
   "cell_type": "code",
   "execution_count": 13,
   "metadata": {},
   "outputs": [
    {
     "data": {
      "text/plain": [
       "302"
      ]
     },
     "execution_count": 13,
     "metadata": {},
     "output_type": "execute_result"
    }
   ],
   "source": [
    "len(X_test)"
   ]
  },
  {
   "cell_type": "code",
   "execution_count": 14,
   "metadata": {},
   "outputs": [],
   "source": [
    "le = LabelEncoder()\n",
    "\n",
    "y_train = le.fit_transform(train_df['sentence'])\n",
    "y_test = le.transform(test_df['sentence'])\n"
   ]
  },
  {
   "cell_type": "code",
   "execution_count": 15,
   "metadata": {},
   "outputs": [
    {
     "name": "stdout",
     "output_type": "stream",
     "text": [
      "Model: \"sequential\"\n",
      "_________________________________________________________________\n",
      "Layer (type)                 Output Shape              Param #   \n",
      "=================================================================\n",
      "bidirectional (Bidirectional (None, None, 512)         552960    \n",
      "_________________________________________________________________\n",
      "bidirectional_1 (Bidirection (None, 512)               1574912   \n",
      "_________________________________________________________________\n",
      "dense (Dense)                (None, 341)               174933    \n",
      "=================================================================\n",
      "Total params: 2,302,805\n",
      "Trainable params: 2,302,805\n",
      "Non-trainable params: 0\n",
      "_________________________________________________________________\n"
     ]
    }
   ],
   "source": [
    "# Build Model\n",
    "model = tf.keras.Sequential([\n",
    "    tf.keras.layers.Input(shape=(None, 13)), \n",
    "    tf.keras.layers.Bidirectional(tf.keras.layers.LSTM(256, return_sequences=True)),\n",
    "    tf.keras.layers.Bidirectional(tf.keras.layers.LSTM(256)),\n",
    "    tf.keras.layers.Dense(len(np.unique(y_train)), activation='softmax')\n",
    "])\n",
    "\n",
    "# Compile Model\n",
    "model.compile(optimizer='adam', loss='sparse_categorical_crossentropy', metrics=['accuracy'])\n",
    "\n",
    "# Print Model Summary\n",
    "model.summary()\n"
   ]
  },
  {
   "cell_type": "code",
   "execution_count": 16,
   "metadata": {},
   "outputs": [
    {
     "name": "stdout",
     "output_type": "stream",
     "text": [
      "(341,)\n",
      "(341,)\n",
      "(302,)\n",
      "(302,)\n"
     ]
    }
   ],
   "source": [
    "print(X_train.shape)\n",
    "print(y_train.shape)\n",
    "print(X_test.shape)\n",
    "print(y_test.shape)\n"
   ]
  },
  {
   "cell_type": "code",
   "execution_count": 17,
   "metadata": {},
   "outputs": [
    {
     "name": "stdout",
     "output_type": "stream",
     "text": [
      "<class 'numpy.ndarray'>\n",
      "(313, 13)\n"
     ]
    }
   ],
   "source": [
    "print(type(X_train[0]))\n",
    "print(X_train[0].shape)\n"
   ]
  },
  {
   "cell_type": "code",
   "execution_count": 18,
   "metadata": {},
   "outputs": [],
   "source": [
    "from tensorflow.keras.preprocessing.sequence import pad_sequences\n",
    "\n",
    "# Assuming X_train is a list of 2D arrays\n",
    "X_train = pad_sequences(X_train, padding='post', dtype='float32')\n",
    "X_test = pad_sequences(X_test, padding='post', dtype='float32')\n"
   ]
  },
  {
   "cell_type": "code",
   "execution_count": 19,
   "metadata": {},
   "outputs": [
    {
     "name": "stdout",
     "output_type": "stream",
     "text": [
      "Epoch 1/30\n",
      "11/11 [==============================] - 285s 26s/step - loss: 6.0638 - accuracy: 0.0000e+00 - val_loss: 5.6145 - val_accuracy: 0.0430\n",
      "Epoch 2/30\n",
      "11/11 [==============================] - 266s 24s/step - loss: 5.5796 - accuracy: 0.0147 - val_loss: 5.1844 - val_accuracy: 0.0894\n",
      "Epoch 3/30\n",
      "11/11 [==============================] - 223s 20s/step - loss: 5.1750 - accuracy: 0.0557 - val_loss: 4.7122 - val_accuracy: 0.1689\n",
      "Epoch 4/30\n",
      "11/11 [==============================] - 254s 23s/step - loss: 4.7250 - accuracy: 0.0968 - val_loss: 4.1768 - val_accuracy: 0.2583\n",
      "Epoch 5/30\n",
      "11/11 [==============================] - 243s 22s/step - loss: 4.2752 - accuracy: 0.1701 - val_loss: 3.6390 - val_accuracy: 0.3642\n",
      "Epoch 6/30\n",
      "11/11 [==============================] - 237s 22s/step - loss: 3.7265 - accuracy: 0.2698 - val_loss: 3.1555 - val_accuracy: 0.4503\n",
      "Epoch 7/30\n",
      "11/11 [==============================] - 261s 24s/step - loss: 3.3155 - accuracy: 0.3695 - val_loss: 2.6723 - val_accuracy: 0.5960\n",
      "Epoch 8/30\n",
      "11/11 [==============================] - 277s 25s/step - loss: 2.8495 - accuracy: 0.4692 - val_loss: 2.2106 - val_accuracy: 0.7152\n",
      "Epoch 9/30\n",
      "11/11 [==============================] - 288s 26s/step - loss: 2.4101 - accuracy: 0.5777 - val_loss: 1.8745 - val_accuracy: 0.7285\n",
      "Epoch 10/30\n",
      "11/11 [==============================] - 213s 19s/step - loss: 2.1391 - accuracy: 0.5836 - val_loss: 1.5919 - val_accuracy: 0.8344\n",
      "Epoch 11/30\n",
      "11/11 [==============================] - 174s 16s/step - loss: 1.7997 - accuracy: 0.7155 - val_loss: 1.2378 - val_accuracy: 0.8907\n",
      "Epoch 12/30\n",
      "11/11 [==============================] - 174s 16s/step - loss: 1.5100 - accuracy: 0.7742 - val_loss: 1.1141 - val_accuracy: 0.8974\n",
      "Epoch 13/30\n",
      "11/11 [==============================] - 170s 15s/step - loss: 1.2552 - accuracy: 0.8240 - val_loss: 0.8191 - val_accuracy: 0.9305\n",
      "Epoch 14/30\n",
      "11/11 [==============================] - 172s 16s/step - loss: 1.0686 - accuracy: 0.8534 - val_loss: 0.6767 - val_accuracy: 0.9603\n",
      "Epoch 15/30\n",
      "11/11 [==============================] - 187s 17s/step - loss: 0.8893 - accuracy: 0.8827 - val_loss: 0.5428 - val_accuracy: 0.9768\n",
      "Epoch 16/30\n",
      "11/11 [==============================] - 186s 17s/step - loss: 0.7081 - accuracy: 0.9150 - val_loss: 0.4325 - val_accuracy: 0.9834\n",
      "Epoch 17/30\n",
      "11/11 [==============================] - 185s 17s/step - loss: 0.5816 - accuracy: 0.9384 - val_loss: 0.3173 - val_accuracy: 0.9868\n",
      "Epoch 18/30\n",
      "11/11 [==============================] - 186s 17s/step - loss: 0.4369 - accuracy: 0.9707 - val_loss: 0.2825 - val_accuracy: 1.0000\n",
      "Epoch 19/30\n",
      "11/11 [==============================] - 172s 16s/step - loss: 0.4081 - accuracy: 0.9501 - val_loss: 0.2126 - val_accuracy: 1.0000\n",
      "Epoch 20/30\n",
      "11/11 [==============================] - 164s 15s/step - loss: 0.3221 - accuracy: 0.9765 - val_loss: 0.1811 - val_accuracy: 1.0000\n",
      "Epoch 21/30\n",
      "11/11 [==============================] - 159s 14s/step - loss: 0.2583 - accuracy: 0.9765 - val_loss: 0.1600 - val_accuracy: 1.0000\n",
      "Epoch 22/30\n",
      "11/11 [==============================] - 159s 14s/step - loss: 0.2267 - accuracy: 0.9824 - val_loss: 0.1260 - val_accuracy: 0.9967\n",
      "Epoch 23/30\n",
      "11/11 [==============================] - 158s 14s/step - loss: 0.2353 - accuracy: 0.9795 - val_loss: 0.1200 - val_accuracy: 0.9967\n",
      "Epoch 24/30\n",
      "11/11 [==============================] - 152s 14s/step - loss: 0.1879 - accuracy: 0.9883 - val_loss: 0.1183 - val_accuracy: 0.9967\n",
      "Epoch 25/30\n",
      "11/11 [==============================] - 159s 14s/step - loss: 0.1635 - accuracy: 0.9912 - val_loss: 0.0920 - val_accuracy: 1.0000\n",
      "Epoch 26/30\n",
      "11/11 [==============================] - 180s 16s/step - loss: 0.1319 - accuracy: 0.9912 - val_loss: 0.0705 - val_accuracy: 1.0000\n",
      "Epoch 27/30\n",
      "11/11 [==============================] - 175s 16s/step - loss: 0.0980 - accuracy: 0.9971 - val_loss: 0.0592 - val_accuracy: 1.0000\n",
      "Epoch 28/30\n",
      "11/11 [==============================] - 170s 15s/step - loss: 0.0959 - accuracy: 0.9912 - val_loss: 0.0510 - val_accuracy: 1.0000\n",
      "Epoch 29/30\n",
      "11/11 [==============================] - 161s 15s/step - loss: 0.0692 - accuracy: 1.0000 - val_loss: 0.0368 - val_accuracy: 1.0000\n",
      "Epoch 30/30\n",
      "11/11 [==============================] - 174s 16s/step - loss: 0.0490 - accuracy: 1.0000 - val_loss: 0.0290 - val_accuracy: 1.0000\n"
     ]
    }
   ],
   "source": [
    "history = model.fit(X_train, y_train, validation_data=(X_test, y_test), epochs=30, batch_size=32)"
   ]
  },
  {
   "cell_type": "code",
   "execution_count": 20,
   "metadata": {},
   "outputs": [
    {
     "data": {
      "text/html": [
       "\n",
       "                <audio  controls=\"controls\" >\n",
       "                    <source src=\"data:audio/mpeg;base64,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\" type=\"audio/mpeg\" />\n",
       "                    Your browser does not support the audio element.\n",
       "                </audio>\n",
       "              "
      ],
      "text/plain": [
       "<IPython.lib.display.Audio object>"
      ]
     },
     "metadata": {},
     "output_type": "display_data"
    },
    {
     "name": "stdout",
     "output_type": "stream",
     "text": [
      "Transcription: Wezi wamehsisha wanafunzi\n"
     ]
    }
   ],
   "source": [
    "# Import IPython.display.Audio for playing audio\n",
    "from IPython.display import Audio, display\n",
    "\n",
    "# Choose a random sample or specific one\n",
    "sample = train_df.sample(1)\n",
    "audio_path = os.path.join(base_dir, sample['path'].values[0])\n",
    "transcription = sample['sentence'].values[0]\n",
    "\n",
    "# Play the audio\n",
    "display(Audio(audio_path))\n",
    "\n",
    "# Print the transcription\n",
    "print(\"Transcription:\", transcription)\n"
   ]
  },
  {
   "cell_type": "code",
   "execution_count": 21,
   "metadata": {},
   "outputs": [
    {
     "data": {
      "text/html": [
       "\n",
       "                <audio  controls=\"controls\" >\n",
       "                    <source src=\"data:audio/mpeg;base64,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\" type=\"audio/mpeg\" />\n",
       "                    Your browser does not support the audio element.\n",
       "                </audio>\n",
       "              "
      ],
      "text/plain": [
       "<IPython.lib.display.Audio object>"
      ]
     },
     "metadata": {},
     "output_type": "display_data"
    },
    {
     "name": "stdout",
     "output_type": "stream",
     "text": [
      "Transcription: Eo mwedhi umeonekana kesho ni ramadhani\n"
     ]
    }
   ],
   "source": [
    "# Import IPython.display.Audio for playing audio\n",
    "from IPython.display import Audio, display\n",
    "\n",
    "# Choose a random sample or specific one\n",
    "sample = train_df.sample(2)\n",
    "audio_path = os.path.join(base_dir, sample['path'].values[0])\n",
    "transcription = sample['sentence'].values[0]\n",
    "\n",
    "# Play the audio\n",
    "display(Audio(audio_path))\n",
    "\n",
    "# Print the transcription\n",
    "print(\"Transcription:\", transcription)\n"
   ]
  },
  {
   "cell_type": "code",
   "execution_count": 22,
   "metadata": {},
   "outputs": [
    {
     "data": {
      "text/html": [
       "\n",
       "                <audio  controls=\"controls\" >\n",
       "                    <source src=\"data:audio/mpeg;base64,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\" type=\"audio/mpeg\" />\n",
       "                    Your browser does not support the audio element.\n",
       "                </audio>\n",
       "              "
      ],
      "text/plain": [
       "<IPython.lib.display.Audio object>"
      ]
     },
     "metadata": {},
     "output_type": "display_data"
    },
    {
     "name": "stdout",
     "output_type": "stream",
     "text": [
      "Transcription: Asha kampata kalamu mpya\n"
     ]
    }
   ],
   "source": [
    "# Import IPython.display.Audio for playing audio\n",
    "from IPython.display import Audio, display\n",
    "\n",
    "# Choose a random sample or specific one\n",
    "sample = test_df.sample(1)\n",
    "audio_path = os.path.join(base_dir, sample['path'].values[0])\n",
    "transcription = sample['sentence'].values[0]\n",
    "\n",
    "# Play the audio\n",
    "display(Audio(audio_path))\n",
    "\n",
    "# Print the transcription\n",
    "print(\"Transcription:\", transcription)\n"
   ]
  },
  {
   "cell_type": "code",
   "execution_count": 23,
   "metadata": {},
   "outputs": [
    {
     "data": {
      "text/html": [
       "\n",
       "                <audio  controls=\"controls\" >\n",
       "                    <source src=\"data:audio/mpeg;base64,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\" type=\"audio/mpeg\" />\n",
       "                    Your browser does not support the audio element.\n",
       "                </audio>\n",
       "              "
      ],
      "text/plain": [
       "<IPython.lib.display.Audio object>"
      ]
     },
     "metadata": {},
     "output_type": "display_data"
    },
    {
     "name": "stdout",
     "output_type": "stream",
     "text": [
      "Transcription: Nchu ambae hueya vanyama\n"
     ]
    }
   ],
   "source": [
    "# Import IPython.display.Audio for playing audio\n",
    "from IPython.display import Audio, display\n",
    "\n",
    "# Choose a random sample or specific one\n",
    "sample = test_df.sample(2)\n",
    "audio_path = os.path.join(base_dir, sample['path'].values[0])\n",
    "transcription = sample['sentence'].values[0]\n",
    "\n",
    "# Play the audio\n",
    "display(Audio(audio_path))\n",
    "\n",
    "# Print the transcription\n",
    "print(\"Transcription:\", transcription)\n"
   ]
  },
  {
   "cell_type": "code",
   "execution_count": 24,
   "metadata": {},
   "outputs": [
    {
     "data": {
      "text/html": [
       "<div>\n",
       "<style scoped>\n",
       "    .dataframe tbody tr th:only-of-type {\n",
       "        vertical-align: middle;\n",
       "    }\n",
       "\n",
       "    .dataframe tbody tr th {\n",
       "        vertical-align: top;\n",
       "    }\n",
       "\n",
       "    .dataframe thead th {\n",
       "        text-align: right;\n",
       "    }\n",
       "</style>\n",
       "<table border=\"1\" class=\"dataframe\">\n",
       "  <thead>\n",
       "    <tr style=\"text-align: right;\">\n",
       "      <th></th>\n",
       "      <th>path</th>\n",
       "      <th>sentence</th>\n",
       "    </tr>\n",
       "  </thead>\n",
       "  <tbody>\n",
       "  </tbody>\n",
       "</table>\n",
       "</div>"
      ],
      "text/plain": [
       "Empty DataFrame\n",
       "Columns: [path, sentence]\n",
       "Index: []"
      ]
     },
     "execution_count": 24,
     "metadata": {},
     "output_type": "execute_result"
    }
   ],
   "source": [
    "train_df[train_df['sentence'] == 'kauza']"
   ]
  },
  {
   "cell_type": "code",
   "execution_count": 25,
   "metadata": {},
   "outputs": [
    {
     "data": {
      "text/plain": [
       "302      Yapo maneno ambayo mmeyaswahilisha wenyewe.\n",
       "303    Ah Mwanamme yule anawivu na mkewe kwelikweli.\n",
       "304                    Kesho tutaenda kazini mapema.\n",
       "305                         Vijana wamebadilika sana\n",
       "306                              Sana twatumia ndugu\n",
       "                           ...                      \n",
       "638                           Jambo baya, jambo zuri\n",
       "639                      Tunataka kuanzisha Taasisi.\n",
       "640                    Sada kajibu swali aliloulizwa\n",
       "641    Watoto wameharibu mashine ya kunyolea nywele.\n",
       "642                             Habib kauza nyumbaye\n",
       "Name: sentence, Length: 341, dtype: object"
      ]
     },
     "execution_count": 25,
     "metadata": {},
     "output_type": "execute_result"
    }
   ],
   "source": [
    "train_df['sentence'] "
   ]
  },
  {
   "cell_type": "code",
   "execution_count": 26,
   "metadata": {},
   "outputs": [
    {
     "data": {
      "text/plain": [
       "302      Yapo maneno ambayo mmeyaswahilisha wenyewe.\n",
       "303    Ah Mwanamme yule anawivu na mkewe kwelikweli.\n",
       "304                    Kesho tutaenda kazini mapema.\n",
       "305                         Vijana wamebadilika sana\n",
       "306                              Sana twatumia ndugu\n",
       "                           ...                      \n",
       "638                           Jambo baya, jambo zuri\n",
       "639                      Tunataka kuanzisha Taasisi.\n",
       "640                    Sada kajibu swali aliloulizwa\n",
       "641    Watoto wameharibu mashine ya kunyolea nywele.\n",
       "642                             Habib kauza nyumbaye\n",
       "Name: sentence, Length: 341, dtype: object"
      ]
     },
     "execution_count": 26,
     "metadata": {},
     "output_type": "execute_result"
    }
   ],
   "source": [
    "train_df['sentence']"
   ]
  },
  {
   "cell_type": "code",
   "execution_count": 27,
   "metadata": {},
   "outputs": [],
   "source": [
    "filtered_df = train_df[train_df['sentence'].str.contains('upepo', case=False, na=False)]\n"
   ]
  },
  {
   "cell_type": "code",
   "execution_count": 28,
   "metadata": {},
   "outputs": [
    {
     "data": {
      "text/html": [
       "<div>\n",
       "<style scoped>\n",
       "    .dataframe tbody tr th:only-of-type {\n",
       "        vertical-align: middle;\n",
       "    }\n",
       "\n",
       "    .dataframe tbody tr th {\n",
       "        vertical-align: top;\n",
       "    }\n",
       "\n",
       "    .dataframe thead th {\n",
       "        text-align: right;\n",
       "    }\n",
       "</style>\n",
       "<table border=\"1\" class=\"dataframe\">\n",
       "  <thead>\n",
       "    <tr style=\"text-align: right;\">\n",
       "      <th></th>\n",
       "      <th>path</th>\n",
       "      <th>sentence</th>\n",
       "    </tr>\n",
       "  </thead>\n",
       "  <tbody>\n",
       "    <tr>\n",
       "      <th>315</th>\n",
       "      <td>common_voice_sw_31997172.mp3</td>\n",
       "      <td>Upepo watoka upande huu</td>\n",
       "    </tr>\n",
       "    <tr>\n",
       "      <th>327</th>\n",
       "      <td>common_voice_sw_31997397.mp3</td>\n",
       "      <td>Kama jamaa akiwa anadungadunga watu\\t4\\t0\\ttwe...</td>\n",
       "    </tr>\n",
       "    <tr>\n",
       "      <th>433</th>\n",
       "      <td>common_voice_sw_32311566.mp3</td>\n",
       "      <td>Bahari inchafuka kwa upepo</td>\n",
       "    </tr>\n",
       "    <tr>\n",
       "      <th>592</th>\n",
       "      <td>common_voice_sw_32264809.mp3</td>\n",
       "      <td>Paa lya nyumba lyekugwa kwa upepo</td>\n",
       "    </tr>\n",
       "  </tbody>\n",
       "</table>\n",
       "</div>"
      ],
      "text/plain": [
       "                             path  \\\n",
       "315  common_voice_sw_31997172.mp3   \n",
       "327  common_voice_sw_31997397.mp3   \n",
       "433  common_voice_sw_32311566.mp3   \n",
       "592  common_voice_sw_32264809.mp3   \n",
       "\n",
       "                                              sentence  \n",
       "315                            Upepo watoka upande huu  \n",
       "327  Kama jamaa akiwa anadungadunga watu\\t4\\t0\\ttwe...  \n",
       "433                         Bahari inchafuka kwa upepo  \n",
       "592                  Paa lya nyumba lyekugwa kwa upepo  "
      ]
     },
     "execution_count": 28,
     "metadata": {},
     "output_type": "execute_result"
    }
   ],
   "source": [
    "filtered_df"
   ]
  }
 ],
 "metadata": {
  "kernelspec": {
   "display_name": "Python (learn-env)",
   "language": "python",
   "name": "learn-env"
  },
  "language_info": {
   "codemirror_mode": {
    "name": "ipython",
    "version": 3
   },
   "file_extension": ".py",
   "mimetype": "text/x-python",
   "name": "python",
   "nbconvert_exporter": "python",
   "pygments_lexer": "ipython3",
   "version": "3.8.5"
  }
 },
 "nbformat": 4,
 "nbformat_minor": 2
}
