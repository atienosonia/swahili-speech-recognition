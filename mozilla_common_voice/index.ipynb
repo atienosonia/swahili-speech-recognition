{
 "cells": [
  {
   "cell_type": "markdown",
   "metadata": {},
   "source": [
    "## Automatic Speech Recognition"
   ]
  },
  {
   "cell_type": "code",
   "execution_count": 3,
   "metadata": {},
   "outputs": [],
   "source": [
    "import pandas as pd\n",
    "import numpy as np\n",
    "\n",
    "import tensorflow as tf\n",
    "\n",
    "import librosa\n",
    "\n",
    "from sklearn.model_selection import train_test_split\n",
    "from sklearn.preprocessing import LabelEncoder\n"
   ]
  },
  {
   "cell_type": "code",
   "execution_count": 21,
   "metadata": {},
   "outputs": [
    {
     "data": {
      "text/html": [
       "<div>\n",
       "<style scoped>\n",
       "    .dataframe tbody tr th:only-of-type {\n",
       "        vertical-align: middle;\n",
       "    }\n",
       "\n",
       "    .dataframe tbody tr th {\n",
       "        vertical-align: top;\n",
       "    }\n",
       "\n",
       "    .dataframe thead th {\n",
       "        text-align: right;\n",
       "    }\n",
       "</style>\n",
       "<table border=\"1\" class=\"dataframe\">\n",
       "  <thead>\n",
       "    <tr style=\"text-align: right;\">\n",
       "      <th></th>\n",
       "      <th>client_id</th>\n",
       "      <th>path</th>\n",
       "      <th>sentence</th>\n",
       "      <th>up_votes</th>\n",
       "      <th>down_votes</th>\n",
       "      <th>age</th>\n",
       "      <th>gender</th>\n",
       "      <th>accents</th>\n",
       "      <th>variant</th>\n",
       "      <th>locale</th>\n",
       "      <th>segment</th>\n",
       "    </tr>\n",
       "  </thead>\n",
       "  <tbody>\n",
       "    <tr>\n",
       "      <th>0</th>\n",
       "      <td>0133d8ddf5c1a3c678fde017e0b07d2835bfd707d5b3ec...</td>\n",
       "      <td>common_voice_sw_31428161.mp3</td>\n",
       "      <td>wachambuzi wa soka wanamtaja Messi kama nyota ...</td>\n",
       "      <td>2</td>\n",
       "      <td>0</td>\n",
       "      <td>twenties</td>\n",
       "      <td>female</td>\n",
       "      <td>NaN</td>\n",
       "      <td>NaN</td>\n",
       "      <td>sw</td>\n",
       "      <td>NaN</td>\n",
       "    </tr>\n",
       "    <tr>\n",
       "      <th>1</th>\n",
       "      <td>41ba4752c376dc7f0502f9c97728bf2f54e47972f3b6e4...</td>\n",
       "      <td>common_voice_sw_30356664.mp3</td>\n",
       "      <td>wachambuzi wa soka wanamtaja Messi kama nyota ...</td>\n",
       "      <td>2</td>\n",
       "      <td>0</td>\n",
       "      <td>fourties</td>\n",
       "      <td>female</td>\n",
       "      <td>NaN</td>\n",
       "      <td>NaN</td>\n",
       "      <td>sw</td>\n",
       "      <td>NaN</td>\n",
       "    </tr>\n",
       "    <tr>\n",
       "      <th>2</th>\n",
       "      <td>01c95772efd3fbe4a1122206c7474c77ed6591c8c9fb00...</td>\n",
       "      <td>common_voice_sw_30317714.mp3</td>\n",
       "      <td>romario aliingia kwenye orodha ya wachezaji wa...</td>\n",
       "      <td>2</td>\n",
       "      <td>1</td>\n",
       "      <td>NaN</td>\n",
       "      <td>NaN</td>\n",
       "      <td>NaN</td>\n",
       "      <td>NaN</td>\n",
       "      <td>sw</td>\n",
       "      <td>NaN</td>\n",
       "    </tr>\n",
       "  </tbody>\n",
       "</table>\n",
       "</div>"
      ],
      "text/plain": [
       "                                           client_id  \\\n",
       "0  0133d8ddf5c1a3c678fde017e0b07d2835bfd707d5b3ec...   \n",
       "1  41ba4752c376dc7f0502f9c97728bf2f54e47972f3b6e4...   \n",
       "2  01c95772efd3fbe4a1122206c7474c77ed6591c8c9fb00...   \n",
       "\n",
       "                           path  \\\n",
       "0  common_voice_sw_31428161.mp3   \n",
       "1  common_voice_sw_30356664.mp3   \n",
       "2  common_voice_sw_30317714.mp3   \n",
       "\n",
       "                                            sentence  up_votes  down_votes  \\\n",
       "0  wachambuzi wa soka wanamtaja Messi kama nyota ...         2           0   \n",
       "1  wachambuzi wa soka wanamtaja Messi kama nyota ...         2           0   \n",
       "2  romario aliingia kwenye orodha ya wachezaji wa...         2           1   \n",
       "\n",
       "        age  gender accents variant locale  segment  \n",
       "0  twenties  female     NaN     NaN     sw      NaN  \n",
       "1  fourties  female     NaN     NaN     sw      NaN  \n",
       "2       NaN     NaN     NaN     NaN     sw      NaN  "
      ]
     },
     "execution_count": 21,
     "metadata": {},
     "output_type": "execute_result"
    }
   ],
   "source": [
    "def load_train_data(path):\n",
    "\n",
    "    \"\"\"A simple function to load data\"\"\"\n",
    "\n",
    "    data = pd.read_csv(path, sep = '\\t', low_memory = False)\n",
    "    return data\n",
    "\n",
    "train_df = load_train_data('C:/Users/user/Documents/hackathon/mozilla_common_voice/data/train.tsv')\n",
    "train_df.head(3)\n"
   ]
  },
  {
   "cell_type": "code",
   "execution_count": 20,
   "metadata": {},
   "outputs": [
    {
     "data": {
      "text/html": [
       "<div>\n",
       "<style scoped>\n",
       "    .dataframe tbody tr th:only-of-type {\n",
       "        vertical-align: middle;\n",
       "    }\n",
       "\n",
       "    .dataframe tbody tr th {\n",
       "        vertical-align: top;\n",
       "    }\n",
       "\n",
       "    .dataframe thead th {\n",
       "        text-align: right;\n",
       "    }\n",
       "</style>\n",
       "<table border=\"1\" class=\"dataframe\">\n",
       "  <thead>\n",
       "    <tr style=\"text-align: right;\">\n",
       "      <th></th>\n",
       "      <th>client_id</th>\n",
       "      <th>path</th>\n",
       "      <th>up_votes</th>\n",
       "      <th>down_votes</th>\n",
       "      <th>age</th>\n",
       "      <th>gender</th>\n",
       "      <th>accents</th>\n",
       "      <th>variant</th>\n",
       "      <th>locale</th>\n",
       "      <th>segment</th>\n",
       "    </tr>\n",
       "  </thead>\n",
       "  <tbody>\n",
       "    <tr>\n",
       "      <th>0</th>\n",
       "      <td>438bcbe0ce4c86f051dc6cc3bbf89b4042ee43c2f4d597...</td>\n",
       "      <td>common_voice_sw_36449395.mp3</td>\n",
       "      <td>5</td>\n",
       "      <td>1</td>\n",
       "      <td>NaN</td>\n",
       "      <td>NaN</td>\n",
       "      <td>NaN</td>\n",
       "      <td>NaN</td>\n",
       "      <td>sw</td>\n",
       "      <td>NaN</td>\n",
       "    </tr>\n",
       "    <tr>\n",
       "      <th>1</th>\n",
       "      <td>4dc4c67b27f709f1eefa97e0436fca8ae830a99f69c8e8...</td>\n",
       "      <td>common_voice_sw_36450168.mp3</td>\n",
       "      <td>2</td>\n",
       "      <td>0</td>\n",
       "      <td>NaN</td>\n",
       "      <td>NaN</td>\n",
       "      <td>NaN</td>\n",
       "      <td>NaN</td>\n",
       "      <td>sw</td>\n",
       "      <td>NaN</td>\n",
       "    </tr>\n",
       "    <tr>\n",
       "      <th>2</th>\n",
       "      <td>5e1ff1f423f80a352b6c9350b26a2202dc3751f2fa5419...</td>\n",
       "      <td>common_voice_sw_35780884.mp3</td>\n",
       "      <td>2</td>\n",
       "      <td>0</td>\n",
       "      <td>NaN</td>\n",
       "      <td>NaN</td>\n",
       "      <td>NaN</td>\n",
       "      <td>NaN</td>\n",
       "      <td>sw</td>\n",
       "      <td>NaN</td>\n",
       "    </tr>\n",
       "  </tbody>\n",
       "</table>\n",
       "</div>"
      ],
      "text/plain": [
       "                                           client_id  \\\n",
       "0  438bcbe0ce4c86f051dc6cc3bbf89b4042ee43c2f4d597...   \n",
       "1  4dc4c67b27f709f1eefa97e0436fca8ae830a99f69c8e8...   \n",
       "2  5e1ff1f423f80a352b6c9350b26a2202dc3751f2fa5419...   \n",
       "\n",
       "                           path  up_votes  down_votes  age gender accents  \\\n",
       "0  common_voice_sw_36449395.mp3         5           1  NaN    NaN     NaN   \n",
       "1  common_voice_sw_36450168.mp3         2           0  NaN    NaN     NaN   \n",
       "2  common_voice_sw_35780884.mp3         2           0  NaN    NaN     NaN   \n",
       "\n",
       "  variant locale  segment  \n",
       "0     NaN     sw      NaN  \n",
       "1     NaN     sw      NaN  \n",
       "2     NaN     sw      NaN  "
      ]
     },
     "execution_count": 20,
     "metadata": {},
     "output_type": "execute_result"
    }
   ],
   "source": [
    "# load test data\n",
    "\n",
    "def load_test_data(path):\n",
    "\n",
    "    \"\"\"A simple function to load test data\"\"\"\n",
    "\n",
    "    data = pd.read_csv(path)\n",
    "    return data\n",
    "\n",
    "test_df = load_test_data('C:/Users/user/Documents/hackathon/mozilla_common_voice/data/test.csv')\n",
    "test_df.head(3)"
   ]
  },
  {
   "cell_type": "code",
   "execution_count": 22,
   "metadata": {},
   "outputs": [
    {
     "data": {
      "text/plain": [
       "(82070, 11)"
      ]
     },
     "execution_count": 22,
     "metadata": {},
     "output_type": "execute_result"
    }
   ],
   "source": [
    "def check_shape(data):\n",
    "\n",
    "    \"\"\"A simple function to check the shape of the dataset\"\"\"\n",
    "\n",
    "    return data.shape\n",
    "\n",
    "# check shape of train df\n",
    "\n",
    "check_shape(train_df)"
   ]
  },
  {
   "cell_type": "code",
   "execution_count": 23,
   "metadata": {},
   "outputs": [
    {
     "data": {
      "text/plain": [
       "(11559, 10)"
      ]
     },
     "execution_count": 23,
     "metadata": {},
     "output_type": "execute_result"
    }
   ],
   "source": [
    "# check shape of test df\n",
    "\n",
    "check_shape(test_df)"
   ]
  },
  {
   "cell_type": "code",
   "execution_count": null,
   "metadata": {},
   "outputs": [],
   "source": []
  }
 ],
 "metadata": {
  "kernelspec": {
   "display_name": "Python (learn-env)",
   "language": "python",
   "name": "learn-env"
  },
  "language_info": {
   "codemirror_mode": {
    "name": "ipython",
    "version": 3
   },
   "file_extension": ".py",
   "mimetype": "text/x-python",
   "name": "python",
   "nbconvert_exporter": "python",
   "pygments_lexer": "ipython3",
   "version": "3.8.5"
  }
 },
 "nbformat": 4,
 "nbformat_minor": 2
}
