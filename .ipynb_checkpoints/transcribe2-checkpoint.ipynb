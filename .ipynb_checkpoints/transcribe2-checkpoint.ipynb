{
 "cells": [
  {
   "cell_type": "code",
   "execution_count": 1,
   "metadata": {},
   "outputs": [
    {
     "name": "stdout",
     "output_type": "stream",
     "text": [
      "Requirement already satisfied: librosa in c:\\users\\user\\anaconda3\\lib\\site-packages (0.10.1)\n",
      "Requirement already satisfied: lazy-loader>=0.1 in c:\\users\\user\\anaconda3\\lib\\site-packages (from librosa) (0.3)\n",
      "Requirement already satisfied: msgpack>=1.0 in c:\\users\\user\\anaconda3\\lib\\site-packages (from librosa) (1.0.3)\n",
      "Requirement already satisfied: typing-extensions>=4.1.1 in c:\\users\\user\\anaconda3\\lib\\site-packages (from librosa) (4.3.0)\n",
      "Requirement already satisfied: decorator>=4.3.0 in c:\\users\\user\\anaconda3\\lib\\site-packages (from librosa) (5.1.1)\n",
      "Requirement already satisfied: numba>=0.51.0 in c:\\users\\user\\anaconda3\\lib\\site-packages (from librosa) (0.55.1)\n",
      "Requirement already satisfied: scipy>=1.2.0 in c:\\users\\user\\anaconda3\\lib\\site-packages (from librosa) (1.9.1)\n",
      "Requirement already satisfied: soundfile>=0.12.1 in c:\\users\\user\\anaconda3\\lib\\site-packages (from librosa) (0.12.1)\n",
      "Requirement already satisfied: pooch>=1.0 in c:\\users\\user\\anaconda3\\lib\\site-packages (from librosa) (1.7.0)\n",
      "Requirement already satisfied: numpy!=1.22.0,!=1.22.1,!=1.22.2,>=1.20.3 in c:\\users\\user\\anaconda3\\lib\\site-packages (from librosa) (1.21.6)\n",
      "Requirement already satisfied: soxr>=0.3.2 in c:\\users\\user\\anaconda3\\lib\\site-packages (from librosa) (0.3.6)\n",
      "Requirement already satisfied: joblib>=0.14 in c:\\users\\user\\anaconda3\\lib\\site-packages (from librosa) (1.2.0)\n",
      "Requirement already satisfied: scikit-learn>=0.20.0 in c:\\users\\user\\anaconda3\\lib\\site-packages (from librosa) (1.2.2)\n",
      "Requirement already satisfied: audioread>=2.1.9 in c:\\users\\user\\anaconda3\\lib\\site-packages (from librosa) (3.0.1)\n",
      "Requirement already satisfied: setuptools in c:\\users\\user\\anaconda3\\lib\\site-packages (from numba>=0.51.0->librosa) (63.4.1)\n",
      "Requirement already satisfied: llvmlite<0.39,>=0.38.0rc1 in c:\\users\\user\\anaconda3\\lib\\site-packages (from numba>=0.51.0->librosa) (0.38.0)\n",
      "Requirement already satisfied: packaging>=20.0 in c:\\users\\user\\anaconda3\\lib\\site-packages (from pooch>=1.0->librosa) (21.3)\n",
      "Requirement already satisfied: platformdirs>=2.5.0 in c:\\users\\user\\anaconda3\\lib\\site-packages (from pooch>=1.0->librosa) (2.5.2)\n",
      "Requirement already satisfied: requests>=2.19.0 in c:\\users\\user\\anaconda3\\lib\\site-packages (from pooch>=1.0->librosa) (2.31.0)\n",
      "Requirement already satisfied: threadpoolctl>=2.0.0 in c:\\users\\user\\anaconda3\\lib\\site-packages (from scikit-learn>=0.20.0->librosa) (3.1.0)\n",
      "Requirement already satisfied: cffi>=1.0 in c:\\users\\user\\anaconda3\\lib\\site-packages (from soundfile>=0.12.1->librosa) (1.15.1)\n",
      "Requirement already satisfied: pycparser in c:\\users\\user\\anaconda3\\lib\\site-packages (from cffi>=1.0->soundfile>=0.12.1->librosa) (2.21)\n",
      "Requirement already satisfied: pyparsing!=3.0.5,>=2.0.2 in c:\\users\\user\\anaconda3\\lib\\site-packages (from packaging>=20.0->pooch>=1.0->librosa) (3.0.9)\n",
      "Requirement already satisfied: urllib3<3,>=1.21.1 in c:\\users\\user\\anaconda3\\lib\\site-packages (from requests>=2.19.0->pooch>=1.0->librosa) (1.25.7)\n",
      "Requirement already satisfied: charset-normalizer<4,>=2 in c:\\users\\user\\anaconda3\\lib\\site-packages (from requests>=2.19.0->pooch>=1.0->librosa) (2.0.4)\n",
      "Requirement already satisfied: idna<4,>=2.5 in c:\\users\\user\\anaconda3\\lib\\site-packages (from requests>=2.19.0->pooch>=1.0->librosa) (2.8)\n",
      "Requirement already satisfied: certifi>=2017.4.17 in c:\\users\\user\\anaconda3\\lib\\site-packages (from requests>=2.19.0->pooch>=1.0->librosa) (2019.11.28)\n"
     ]
    }
   ],
   "source": [
    "!pip install librosa"
   ]
  },
  {
   "cell_type": "code",
   "execution_count": null,
   "metadata": {},
   "outputs": [],
   "source": [
    "pip install --upgrade numpy"
   ]
  },
  {
   "cell_type": "code",
   "execution_count": 2,
   "metadata": {},
   "outputs": [
    {
     "ename": "RuntimeError",
     "evalue": "module compiled against API version 0xf but this version of numpy is 0xe",
     "output_type": "error",
     "traceback": [
      "\u001b[1;31m---------------------------------------------------------------------------\u001b[0m",
      "\u001b[1;31mRuntimeError\u001b[0m                              Traceback (most recent call last)",
      "\u001b[1;31mRuntimeError\u001b[0m: module compiled against API version 0xf but this version of numpy is 0xe"
     ]
    },
    {
     "ename": "RuntimeError",
     "evalue": "module compiled against API version 0xf but this version of numpy is 0xe",
     "output_type": "error",
     "traceback": [
      "\u001b[1;31m---------------------------------------------------------------------------\u001b[0m",
      "\u001b[1;31mRuntimeError\u001b[0m                              Traceback (most recent call last)",
      "\u001b[1;31mRuntimeError\u001b[0m: module compiled against API version 0xf but this version of numpy is 0xe"
     ]
    },
    {
     "ename": "ImportError",
     "evalue": "numpy.core._multiarray_umath failed to import",
     "output_type": "error",
     "traceback": [
      "\u001b[1;31m---------------------------------------------------------------------------\u001b[0m",
      "\u001b[1;31mImportError\u001b[0m                               Traceback (most recent call last)",
      "\u001b[1;31mImportError\u001b[0m: numpy.core._multiarray_umath failed to import"
     ]
    },
    {
     "ename": "ImportError",
     "evalue": "numpy.core.umath failed to import",
     "output_type": "error",
     "traceback": [
      "\u001b[1;31m---------------------------------------------------------------------------\u001b[0m",
      "\u001b[1;31mImportError\u001b[0m                               Traceback (most recent call last)",
      "\u001b[1;31mImportError\u001b[0m: numpy.core.umath failed to import"
     ]
    },
    {
     "ename": "RuntimeError",
     "evalue": "module compiled against API version 0xf but this version of numpy is 0xe",
     "output_type": "error",
     "traceback": [
      "\u001b[1;31m---------------------------------------------------------------------------\u001b[0m",
      "\u001b[1;31mRuntimeError\u001b[0m                              Traceback (most recent call last)",
      "\u001b[1;31mRuntimeError\u001b[0m: module compiled against API version 0xf but this version of numpy is 0xe"
     ]
    },
    {
     "ename": "ImportError",
     "evalue": "numpy.core._multiarray_umath failed to import",
     "output_type": "error",
     "traceback": [
      "\u001b[1;31m---------------------------------------------------------------------------\u001b[0m",
      "\u001b[1;31mImportError\u001b[0m                               Traceback (most recent call last)",
      "\u001b[1;31mImportError\u001b[0m: numpy.core._multiarray_umath failed to import"
     ]
    },
    {
     "ename": "ImportError",
     "evalue": "numpy.core.umath failed to import",
     "output_type": "error",
     "traceback": [
      "\u001b[1;31m---------------------------------------------------------------------------\u001b[0m",
      "\u001b[1;31mImportError\u001b[0m                               Traceback (most recent call last)",
      "\u001b[1;31mImportError\u001b[0m: numpy.core.umath failed to import"
     ]
    },
    {
     "ename": "RuntimeError",
     "evalue": "module compiled against API version 0xf but this version of numpy is 0xe",
     "output_type": "error",
     "traceback": [
      "\u001b[1;31m---------------------------------------------------------------------------\u001b[0m",
      "\u001b[1;31mRuntimeError\u001b[0m                              Traceback (most recent call last)",
      "\u001b[1;31mRuntimeError\u001b[0m: module compiled against API version 0xf but this version of numpy is 0xe"
     ]
    },
    {
     "ename": "ImportError",
     "evalue": "numpy.core._multiarray_umath failed to import",
     "output_type": "error",
     "traceback": [
      "\u001b[1;31m---------------------------------------------------------------------------\u001b[0m",
      "\u001b[1;31mImportError\u001b[0m                               Traceback (most recent call last)",
      "\u001b[1;31mImportError\u001b[0m: numpy.core._multiarray_umath failed to import"
     ]
    },
    {
     "ename": "ImportError",
     "evalue": "numpy.core.umath failed to import",
     "output_type": "error",
     "traceback": [
      "\u001b[1;31m---------------------------------------------------------------------------\u001b[0m",
      "\u001b[1;31mImportError\u001b[0m                               Traceback (most recent call last)",
      "\u001b[1;31mImportError\u001b[0m: numpy.core.umath failed to import"
     ]
    },
    {
     "ename": "TypeError",
     "evalue": "Unable to convert function return value to a Python type! The signature was\n\t() -> handle",
     "output_type": "error",
     "traceback": [
      "\u001b[1;31m---------------------------------------------------------------------------\u001b[0m",
      "\u001b[1;31mTypeError\u001b[0m                                 Traceback (most recent call last)",
      "\u001b[1;32m~\\AppData\\Local\\Temp\\ipykernel_9812\\825587364.py\u001b[0m in \u001b[0;36m<module>\u001b[1;34m\u001b[0m\n\u001b[0;32m      5\u001b[0m \u001b[1;32mimport\u001b[0m \u001b[0mlibrosa\u001b[0m\u001b[1;33m\u001b[0m\u001b[1;33m\u001b[0m\u001b[0m\n\u001b[0;32m      6\u001b[0m \u001b[1;33m\u001b[0m\u001b[0m\n\u001b[1;32m----> 7\u001b[1;33m \u001b[1;32mimport\u001b[0m \u001b[0mtensorflow\u001b[0m \u001b[1;32mas\u001b[0m \u001b[0mtf\u001b[0m\u001b[1;33m\u001b[0m\u001b[1;33m\u001b[0m\u001b[0m\n\u001b[0m\u001b[0;32m      8\u001b[0m \u001b[1;33m\u001b[0m\u001b[0m\n\u001b[0;32m      9\u001b[0m \u001b[1;32mimport\u001b[0m \u001b[0mos\u001b[0m\u001b[1;33m\u001b[0m\u001b[1;33m\u001b[0m\u001b[0m\n",
      "\u001b[1;32m~\\anaconda3\\lib\\site-packages\\tensorflow\\__init__.py\u001b[0m in \u001b[0;36m<module>\u001b[1;34m\u001b[0m\n\u001b[0;32m     35\u001b[0m \u001b[1;32mimport\u001b[0m \u001b[0mtyping\u001b[0m \u001b[1;32mas\u001b[0m \u001b[0m_typing\u001b[0m\u001b[1;33m\u001b[0m\u001b[1;33m\u001b[0m\u001b[0m\n\u001b[0;32m     36\u001b[0m \u001b[1;33m\u001b[0m\u001b[0m\n\u001b[1;32m---> 37\u001b[1;33m \u001b[1;32mfrom\u001b[0m \u001b[0mtensorflow\u001b[0m\u001b[1;33m.\u001b[0m\u001b[0mpython\u001b[0m\u001b[1;33m.\u001b[0m\u001b[0mtools\u001b[0m \u001b[1;32mimport\u001b[0m \u001b[0mmodule_util\u001b[0m \u001b[1;32mas\u001b[0m \u001b[0m_module_util\u001b[0m\u001b[1;33m\u001b[0m\u001b[1;33m\u001b[0m\u001b[0m\n\u001b[0m\u001b[0;32m     38\u001b[0m \u001b[1;32mfrom\u001b[0m \u001b[0mtensorflow\u001b[0m\u001b[1;33m.\u001b[0m\u001b[0mpython\u001b[0m\u001b[1;33m.\u001b[0m\u001b[0mutil\u001b[0m\u001b[1;33m.\u001b[0m\u001b[0mlazy_loader\u001b[0m \u001b[1;32mimport\u001b[0m \u001b[0mLazyLoader\u001b[0m \u001b[1;32mas\u001b[0m \u001b[0m_LazyLoader\u001b[0m\u001b[1;33m\u001b[0m\u001b[1;33m\u001b[0m\u001b[0m\n\u001b[0;32m     39\u001b[0m \u001b[1;33m\u001b[0m\u001b[0m\n",
      "\u001b[1;32m~\\anaconda3\\lib\\site-packages\\tensorflow\\python\\__init__.py\u001b[0m in \u001b[0;36m<module>\u001b[1;34m\u001b[0m\n\u001b[0;32m     40\u001b[0m \u001b[1;33m\u001b[0m\u001b[0m\n\u001b[0;32m     41\u001b[0m \u001b[1;31m# Bring in subpackages.\u001b[0m\u001b[1;33m\u001b[0m\u001b[1;33m\u001b[0m\u001b[0m\n\u001b[1;32m---> 42\u001b[1;33m \u001b[1;32mfrom\u001b[0m \u001b[0mtensorflow\u001b[0m\u001b[1;33m.\u001b[0m\u001b[0mpython\u001b[0m \u001b[1;32mimport\u001b[0m \u001b[0mdata\u001b[0m\u001b[1;33m\u001b[0m\u001b[1;33m\u001b[0m\u001b[0m\n\u001b[0m\u001b[0;32m     43\u001b[0m \u001b[1;32mfrom\u001b[0m \u001b[0mtensorflow\u001b[0m\u001b[1;33m.\u001b[0m\u001b[0mpython\u001b[0m \u001b[1;32mimport\u001b[0m \u001b[0mdistribute\u001b[0m\u001b[1;33m\u001b[0m\u001b[1;33m\u001b[0m\u001b[0m\n\u001b[0;32m     44\u001b[0m \u001b[1;31m# from tensorflow.python import keras\u001b[0m\u001b[1;33m\u001b[0m\u001b[1;33m\u001b[0m\u001b[0m\n",
      "\u001b[1;32m~\\anaconda3\\lib\\site-packages\\tensorflow\\python\\data\\__init__.py\u001b[0m in \u001b[0;36m<module>\u001b[1;34m\u001b[0m\n\u001b[0;32m     19\u001b[0m \u001b[1;33m\u001b[0m\u001b[0m\n\u001b[0;32m     20\u001b[0m \u001b[1;31m# pylint: disable=unused-import\u001b[0m\u001b[1;33m\u001b[0m\u001b[1;33m\u001b[0m\u001b[0m\n\u001b[1;32m---> 21\u001b[1;33m \u001b[1;32mfrom\u001b[0m \u001b[0mtensorflow\u001b[0m\u001b[1;33m.\u001b[0m\u001b[0mpython\u001b[0m\u001b[1;33m.\u001b[0m\u001b[0mdata\u001b[0m \u001b[1;32mimport\u001b[0m \u001b[0mexperimental\u001b[0m\u001b[1;33m\u001b[0m\u001b[1;33m\u001b[0m\u001b[0m\n\u001b[0m\u001b[0;32m     22\u001b[0m \u001b[1;32mfrom\u001b[0m \u001b[0mtensorflow\u001b[0m\u001b[1;33m.\u001b[0m\u001b[0mpython\u001b[0m\u001b[1;33m.\u001b[0m\u001b[0mdata\u001b[0m\u001b[1;33m.\u001b[0m\u001b[0mops\u001b[0m\u001b[1;33m.\u001b[0m\u001b[0mdataset_ops\u001b[0m \u001b[1;32mimport\u001b[0m \u001b[0mAUTOTUNE\u001b[0m\u001b[1;33m\u001b[0m\u001b[1;33m\u001b[0m\u001b[0m\n\u001b[0;32m     23\u001b[0m \u001b[1;32mfrom\u001b[0m \u001b[0mtensorflow\u001b[0m\u001b[1;33m.\u001b[0m\u001b[0mpython\u001b[0m\u001b[1;33m.\u001b[0m\u001b[0mdata\u001b[0m\u001b[1;33m.\u001b[0m\u001b[0mops\u001b[0m\u001b[1;33m.\u001b[0m\u001b[0mdataset_ops\u001b[0m \u001b[1;32mimport\u001b[0m \u001b[0mDataset\u001b[0m\u001b[1;33m\u001b[0m\u001b[1;33m\u001b[0m\u001b[0m\n",
      "\u001b[1;32m~\\anaconda3\\lib\\site-packages\\tensorflow\\python\\data\\experimental\\__init__.py\u001b[0m in \u001b[0;36m<module>\u001b[1;34m\u001b[0m\n\u001b[0;32m     95\u001b[0m \u001b[1;33m\u001b[0m\u001b[0m\n\u001b[0;32m     96\u001b[0m \u001b[1;31m# pylint: disable=unused-import\u001b[0m\u001b[1;33m\u001b[0m\u001b[1;33m\u001b[0m\u001b[0m\n\u001b[1;32m---> 97\u001b[1;33m \u001b[1;32mfrom\u001b[0m \u001b[0mtensorflow\u001b[0m\u001b[1;33m.\u001b[0m\u001b[0mpython\u001b[0m\u001b[1;33m.\u001b[0m\u001b[0mdata\u001b[0m\u001b[1;33m.\u001b[0m\u001b[0mexperimental\u001b[0m \u001b[1;32mimport\u001b[0m \u001b[0mservice\u001b[0m\u001b[1;33m\u001b[0m\u001b[1;33m\u001b[0m\u001b[0m\n\u001b[0m\u001b[0;32m     98\u001b[0m \u001b[1;32mfrom\u001b[0m \u001b[0mtensorflow\u001b[0m\u001b[1;33m.\u001b[0m\u001b[0mpython\u001b[0m\u001b[1;33m.\u001b[0m\u001b[0mdata\u001b[0m\u001b[1;33m.\u001b[0m\u001b[0mexperimental\u001b[0m\u001b[1;33m.\u001b[0m\u001b[0mops\u001b[0m\u001b[1;33m.\u001b[0m\u001b[0mbatching\u001b[0m \u001b[1;32mimport\u001b[0m \u001b[0mdense_to_ragged_batch\u001b[0m\u001b[1;33m\u001b[0m\u001b[1;33m\u001b[0m\u001b[0m\n\u001b[0;32m     99\u001b[0m \u001b[1;32mfrom\u001b[0m \u001b[0mtensorflow\u001b[0m\u001b[1;33m.\u001b[0m\u001b[0mpython\u001b[0m\u001b[1;33m.\u001b[0m\u001b[0mdata\u001b[0m\u001b[1;33m.\u001b[0m\u001b[0mexperimental\u001b[0m\u001b[1;33m.\u001b[0m\u001b[0mops\u001b[0m\u001b[1;33m.\u001b[0m\u001b[0mbatching\u001b[0m \u001b[1;32mimport\u001b[0m \u001b[0mdense_to_sparse_batch\u001b[0m\u001b[1;33m\u001b[0m\u001b[1;33m\u001b[0m\u001b[0m\n",
      "\u001b[1;32m~\\anaconda3\\lib\\site-packages\\tensorflow\\python\\data\\experimental\\service\\__init__.py\u001b[0m in \u001b[0;36m<module>\u001b[1;34m\u001b[0m\n\u001b[0;32m    417\u001b[0m \"\"\"\n\u001b[0;32m    418\u001b[0m \u001b[1;33m\u001b[0m\u001b[0m\n\u001b[1;32m--> 419\u001b[1;33m \u001b[1;32mfrom\u001b[0m \u001b[0mtensorflow\u001b[0m\u001b[1;33m.\u001b[0m\u001b[0mpython\u001b[0m\u001b[1;33m.\u001b[0m\u001b[0mdata\u001b[0m\u001b[1;33m.\u001b[0m\u001b[0mexperimental\u001b[0m\u001b[1;33m.\u001b[0m\u001b[0mops\u001b[0m\u001b[1;33m.\u001b[0m\u001b[0mdata_service_ops\u001b[0m \u001b[1;32mimport\u001b[0m \u001b[0mdistribute\u001b[0m\u001b[1;33m\u001b[0m\u001b[1;33m\u001b[0m\u001b[0m\n\u001b[0m\u001b[0;32m    420\u001b[0m \u001b[1;32mfrom\u001b[0m \u001b[0mtensorflow\u001b[0m\u001b[1;33m.\u001b[0m\u001b[0mpython\u001b[0m\u001b[1;33m.\u001b[0m\u001b[0mdata\u001b[0m\u001b[1;33m.\u001b[0m\u001b[0mexperimental\u001b[0m\u001b[1;33m.\u001b[0m\u001b[0mops\u001b[0m\u001b[1;33m.\u001b[0m\u001b[0mdata_service_ops\u001b[0m \u001b[1;32mimport\u001b[0m \u001b[0mfrom_dataset_id\u001b[0m\u001b[1;33m\u001b[0m\u001b[1;33m\u001b[0m\u001b[0m\n\u001b[0;32m    421\u001b[0m \u001b[1;32mfrom\u001b[0m \u001b[0mtensorflow\u001b[0m\u001b[1;33m.\u001b[0m\u001b[0mpython\u001b[0m\u001b[1;33m.\u001b[0m\u001b[0mdata\u001b[0m\u001b[1;33m.\u001b[0m\u001b[0mexperimental\u001b[0m\u001b[1;33m.\u001b[0m\u001b[0mops\u001b[0m\u001b[1;33m.\u001b[0m\u001b[0mdata_service_ops\u001b[0m \u001b[1;32mimport\u001b[0m \u001b[0mregister_dataset\u001b[0m\u001b[1;33m\u001b[0m\u001b[1;33m\u001b[0m\u001b[0m\n",
      "\u001b[1;32m~\\anaconda3\\lib\\site-packages\\tensorflow\\python\\data\\experimental\\ops\\data_service_ops.py\u001b[0m in \u001b[0;36m<module>\u001b[1;34m\u001b[0m\n\u001b[0;32m     20\u001b[0m \u001b[1;32mfrom\u001b[0m \u001b[0mtensorflow\u001b[0m\u001b[1;33m.\u001b[0m\u001b[0mcore\u001b[0m\u001b[1;33m.\u001b[0m\u001b[0mprotobuf\u001b[0m \u001b[1;32mimport\u001b[0m \u001b[0mdata_service_pb2\u001b[0m\u001b[1;33m\u001b[0m\u001b[1;33m\u001b[0m\u001b[0m\n\u001b[0;32m     21\u001b[0m \u001b[1;32mfrom\u001b[0m \u001b[0mtensorflow\u001b[0m\u001b[1;33m.\u001b[0m\u001b[0mpython\u001b[0m \u001b[1;32mimport\u001b[0m \u001b[0mtf2\u001b[0m\u001b[1;33m\u001b[0m\u001b[1;33m\u001b[0m\u001b[0m\n\u001b[1;32m---> 22\u001b[1;33m \u001b[1;32mfrom\u001b[0m \u001b[0mtensorflow\u001b[0m\u001b[1;33m.\u001b[0m\u001b[0mpython\u001b[0m\u001b[1;33m.\u001b[0m\u001b[0mdata\u001b[0m\u001b[1;33m.\u001b[0m\u001b[0mexperimental\u001b[0m\u001b[1;33m.\u001b[0m\u001b[0mops\u001b[0m \u001b[1;32mimport\u001b[0m \u001b[0mcompression_ops\u001b[0m\u001b[1;33m\u001b[0m\u001b[1;33m\u001b[0m\u001b[0m\n\u001b[0m\u001b[0;32m     23\u001b[0m \u001b[1;32mfrom\u001b[0m \u001b[0mtensorflow\u001b[0m\u001b[1;33m.\u001b[0m\u001b[0mpython\u001b[0m\u001b[1;33m.\u001b[0m\u001b[0mdata\u001b[0m\u001b[1;33m.\u001b[0m\u001b[0mexperimental\u001b[0m\u001b[1;33m.\u001b[0m\u001b[0mservice\u001b[0m \u001b[1;32mimport\u001b[0m \u001b[0m_pywrap_server_lib\u001b[0m\u001b[1;33m\u001b[0m\u001b[1;33m\u001b[0m\u001b[0m\n\u001b[0;32m     24\u001b[0m \u001b[1;32mfrom\u001b[0m \u001b[0mtensorflow\u001b[0m\u001b[1;33m.\u001b[0m\u001b[0mpython\u001b[0m\u001b[1;33m.\u001b[0m\u001b[0mdata\u001b[0m\u001b[1;33m.\u001b[0m\u001b[0mexperimental\u001b[0m\u001b[1;33m.\u001b[0m\u001b[0mservice\u001b[0m \u001b[1;32mimport\u001b[0m \u001b[0m_pywrap_utils\u001b[0m\u001b[1;33m\u001b[0m\u001b[1;33m\u001b[0m\u001b[0m\n",
      "\u001b[1;32m~\\anaconda3\\lib\\site-packages\\tensorflow\\python\\data\\experimental\\ops\\compression_ops.py\u001b[0m in \u001b[0;36m<module>\u001b[1;34m\u001b[0m\n\u001b[0;32m     14\u001b[0m \u001b[1;31m# ==============================================================================\u001b[0m\u001b[1;33m\u001b[0m\u001b[1;33m\u001b[0m\u001b[0m\n\u001b[0;32m     15\u001b[0m \u001b[1;34m\"\"\"Ops for compressing and uncompressing dataset elements.\"\"\"\u001b[0m\u001b[1;33m\u001b[0m\u001b[1;33m\u001b[0m\u001b[0m\n\u001b[1;32m---> 16\u001b[1;33m \u001b[1;32mfrom\u001b[0m \u001b[0mtensorflow\u001b[0m\u001b[1;33m.\u001b[0m\u001b[0mpython\u001b[0m\u001b[1;33m.\u001b[0m\u001b[0mdata\u001b[0m\u001b[1;33m.\u001b[0m\u001b[0mutil\u001b[0m \u001b[1;32mimport\u001b[0m \u001b[0mstructure\u001b[0m\u001b[1;33m\u001b[0m\u001b[1;33m\u001b[0m\u001b[0m\n\u001b[0m\u001b[0;32m     17\u001b[0m \u001b[1;32mfrom\u001b[0m \u001b[0mtensorflow\u001b[0m\u001b[1;33m.\u001b[0m\u001b[0mpython\u001b[0m\u001b[1;33m.\u001b[0m\u001b[0mops\u001b[0m \u001b[1;32mimport\u001b[0m \u001b[0mgen_experimental_dataset_ops\u001b[0m \u001b[1;32mas\u001b[0m \u001b[0mged_ops\u001b[0m\u001b[1;33m\u001b[0m\u001b[1;33m\u001b[0m\u001b[0m\n\u001b[0;32m     18\u001b[0m \u001b[1;33m\u001b[0m\u001b[0m\n",
      "\u001b[1;32m~\\anaconda3\\lib\\site-packages\\tensorflow\\python\\data\\util\\structure.py\u001b[0m in \u001b[0;36m<module>\u001b[1;34m\u001b[0m\n\u001b[0;32m     20\u001b[0m \u001b[1;32mimport\u001b[0m \u001b[0mwrapt\u001b[0m\u001b[1;33m\u001b[0m\u001b[1;33m\u001b[0m\u001b[0m\n\u001b[0;32m     21\u001b[0m \u001b[1;33m\u001b[0m\u001b[0m\n\u001b[1;32m---> 22\u001b[1;33m \u001b[1;32mfrom\u001b[0m \u001b[0mtensorflow\u001b[0m\u001b[1;33m.\u001b[0m\u001b[0mpython\u001b[0m\u001b[1;33m.\u001b[0m\u001b[0mdata\u001b[0m\u001b[1;33m.\u001b[0m\u001b[0mutil\u001b[0m \u001b[1;32mimport\u001b[0m \u001b[0mnest\u001b[0m\u001b[1;33m\u001b[0m\u001b[1;33m\u001b[0m\u001b[0m\n\u001b[0m\u001b[0;32m     23\u001b[0m \u001b[1;32mfrom\u001b[0m \u001b[0mtensorflow\u001b[0m\u001b[1;33m.\u001b[0m\u001b[0mpython\u001b[0m\u001b[1;33m.\u001b[0m\u001b[0mframework\u001b[0m \u001b[1;32mimport\u001b[0m \u001b[0mcomposite_tensor\u001b[0m\u001b[1;33m\u001b[0m\u001b[1;33m\u001b[0m\u001b[0m\n\u001b[0;32m     24\u001b[0m \u001b[1;32mfrom\u001b[0m \u001b[0mtensorflow\u001b[0m\u001b[1;33m.\u001b[0m\u001b[0mpython\u001b[0m\u001b[1;33m.\u001b[0m\u001b[0mframework\u001b[0m \u001b[1;32mimport\u001b[0m \u001b[0mops\u001b[0m\u001b[1;33m\u001b[0m\u001b[1;33m\u001b[0m\u001b[0m\n",
      "\u001b[1;32m~\\anaconda3\\lib\\site-packages\\tensorflow\\python\\data\\util\\nest.py\u001b[0m in \u001b[0;36m<module>\u001b[1;34m\u001b[0m\n\u001b[0;32m     32\u001b[0m \"\"\"\n\u001b[0;32m     33\u001b[0m \u001b[1;33m\u001b[0m\u001b[0m\n\u001b[1;32m---> 34\u001b[1;33m \u001b[1;32mfrom\u001b[0m \u001b[0mtensorflow\u001b[0m\u001b[1;33m.\u001b[0m\u001b[0mpython\u001b[0m\u001b[1;33m.\u001b[0m\u001b[0mframework\u001b[0m \u001b[1;32mimport\u001b[0m \u001b[0msparse_tensor\u001b[0m \u001b[1;32mas\u001b[0m \u001b[0m_sparse_tensor\u001b[0m\u001b[1;33m\u001b[0m\u001b[1;33m\u001b[0m\u001b[0m\n\u001b[0m\u001b[0;32m     35\u001b[0m \u001b[1;32mfrom\u001b[0m \u001b[0mtensorflow\u001b[0m\u001b[1;33m.\u001b[0m\u001b[0mpython\u001b[0m\u001b[1;33m.\u001b[0m\u001b[0mutil\u001b[0m \u001b[1;32mimport\u001b[0m \u001b[0m_pywrap_utils\u001b[0m\u001b[1;33m\u001b[0m\u001b[1;33m\u001b[0m\u001b[0m\n\u001b[0;32m     36\u001b[0m \u001b[1;32mfrom\u001b[0m \u001b[0mtensorflow\u001b[0m\u001b[1;33m.\u001b[0m\u001b[0mpython\u001b[0m\u001b[1;33m.\u001b[0m\u001b[0mutil\u001b[0m \u001b[1;32mimport\u001b[0m \u001b[0mnest\u001b[0m\u001b[1;33m\u001b[0m\u001b[1;33m\u001b[0m\u001b[0m\n",
      "\u001b[1;32m~\\anaconda3\\lib\\site-packages\\tensorflow\\python\\framework\\sparse_tensor.py\u001b[0m in \u001b[0;36m<module>\u001b[1;34m\u001b[0m\n\u001b[0;32m     23\u001b[0m \u001b[1;32mfrom\u001b[0m \u001b[0mtensorflow\u001b[0m\u001b[1;33m.\u001b[0m\u001b[0mpython\u001b[0m \u001b[1;32mimport\u001b[0m \u001b[0mtf2\u001b[0m\u001b[1;33m\u001b[0m\u001b[1;33m\u001b[0m\u001b[0m\n\u001b[0;32m     24\u001b[0m \u001b[1;32mfrom\u001b[0m \u001b[0mtensorflow\u001b[0m\u001b[1;33m.\u001b[0m\u001b[0mpython\u001b[0m\u001b[1;33m.\u001b[0m\u001b[0mframework\u001b[0m \u001b[1;32mimport\u001b[0m \u001b[0mcomposite_tensor\u001b[0m\u001b[1;33m\u001b[0m\u001b[1;33m\u001b[0m\u001b[0m\n\u001b[1;32m---> 25\u001b[1;33m \u001b[1;32mfrom\u001b[0m \u001b[0mtensorflow\u001b[0m\u001b[1;33m.\u001b[0m\u001b[0mpython\u001b[0m\u001b[1;33m.\u001b[0m\u001b[0mframework\u001b[0m \u001b[1;32mimport\u001b[0m \u001b[0mconstant_op\u001b[0m\u001b[1;33m\u001b[0m\u001b[1;33m\u001b[0m\u001b[0m\n\u001b[0m\u001b[0;32m     26\u001b[0m \u001b[1;32mfrom\u001b[0m \u001b[0mtensorflow\u001b[0m\u001b[1;33m.\u001b[0m\u001b[0mpython\u001b[0m\u001b[1;33m.\u001b[0m\u001b[0mframework\u001b[0m \u001b[1;32mimport\u001b[0m \u001b[0mdtypes\u001b[0m\u001b[1;33m\u001b[0m\u001b[1;33m\u001b[0m\u001b[0m\n\u001b[0;32m     27\u001b[0m \u001b[1;32mfrom\u001b[0m \u001b[0mtensorflow\u001b[0m\u001b[1;33m.\u001b[0m\u001b[0mpython\u001b[0m\u001b[1;33m.\u001b[0m\u001b[0mframework\u001b[0m \u001b[1;32mimport\u001b[0m \u001b[0mops\u001b[0m\u001b[1;33m\u001b[0m\u001b[1;33m\u001b[0m\u001b[0m\n",
      "\u001b[1;32m~\\anaconda3\\lib\\site-packages\\tensorflow\\python\\framework\\constant_op.py\u001b[0m in \u001b[0;36m<module>\u001b[1;34m\u001b[0m\n\u001b[0;32m     23\u001b[0m \u001b[1;32mfrom\u001b[0m \u001b[0mtensorflow\u001b[0m\u001b[1;33m.\u001b[0m\u001b[0mcore\u001b[0m\u001b[1;33m.\u001b[0m\u001b[0mframework\u001b[0m \u001b[1;32mimport\u001b[0m \u001b[0mtypes_pb2\u001b[0m\u001b[1;33m\u001b[0m\u001b[1;33m\u001b[0m\u001b[0m\n\u001b[0;32m     24\u001b[0m \u001b[1;32mfrom\u001b[0m \u001b[0mtensorflow\u001b[0m\u001b[1;33m.\u001b[0m\u001b[0mpython\u001b[0m\u001b[1;33m.\u001b[0m\u001b[0meager\u001b[0m \u001b[1;32mimport\u001b[0m \u001b[0mcontext\u001b[0m\u001b[1;33m\u001b[0m\u001b[1;33m\u001b[0m\u001b[0m\n\u001b[1;32m---> 25\u001b[1;33m \u001b[1;32mfrom\u001b[0m \u001b[0mtensorflow\u001b[0m\u001b[1;33m.\u001b[0m\u001b[0mpython\u001b[0m\u001b[1;33m.\u001b[0m\u001b[0meager\u001b[0m \u001b[1;32mimport\u001b[0m \u001b[0mexecute\u001b[0m\u001b[1;33m\u001b[0m\u001b[1;33m\u001b[0m\u001b[0m\n\u001b[0m\u001b[0;32m     26\u001b[0m \u001b[1;32mfrom\u001b[0m \u001b[0mtensorflow\u001b[0m\u001b[1;33m.\u001b[0m\u001b[0mpython\u001b[0m\u001b[1;33m.\u001b[0m\u001b[0mframework\u001b[0m \u001b[1;32mimport\u001b[0m \u001b[0mdtypes\u001b[0m\u001b[1;33m\u001b[0m\u001b[1;33m\u001b[0m\u001b[0m\n\u001b[0;32m     27\u001b[0m \u001b[1;32mfrom\u001b[0m \u001b[0mtensorflow\u001b[0m\u001b[1;33m.\u001b[0m\u001b[0mpython\u001b[0m\u001b[1;33m.\u001b[0m\u001b[0mframework\u001b[0m \u001b[1;32mimport\u001b[0m \u001b[0mop_callbacks\u001b[0m\u001b[1;33m\u001b[0m\u001b[1;33m\u001b[0m\u001b[0m\n",
      "\u001b[1;32m~\\anaconda3\\lib\\site-packages\\tensorflow\\python\\eager\\execute.py\u001b[0m in \u001b[0;36m<module>\u001b[1;34m\u001b[0m\n\u001b[0;32m     19\u001b[0m \u001b[1;32mfrom\u001b[0m \u001b[0mtensorflow\u001b[0m\u001b[1;33m.\u001b[0m\u001b[0mpython\u001b[0m \u001b[1;32mimport\u001b[0m \u001b[0mpywrap_tfe\u001b[0m\u001b[1;33m\u001b[0m\u001b[1;33m\u001b[0m\u001b[0m\n\u001b[0;32m     20\u001b[0m \u001b[1;32mfrom\u001b[0m \u001b[0mtensorflow\u001b[0m\u001b[1;33m.\u001b[0m\u001b[0mpython\u001b[0m\u001b[1;33m.\u001b[0m\u001b[0meager\u001b[0m \u001b[1;32mimport\u001b[0m \u001b[0mcore\u001b[0m\u001b[1;33m\u001b[0m\u001b[1;33m\u001b[0m\u001b[0m\n\u001b[1;32m---> 21\u001b[1;33m \u001b[1;32mfrom\u001b[0m \u001b[0mtensorflow\u001b[0m\u001b[1;33m.\u001b[0m\u001b[0mpython\u001b[0m\u001b[1;33m.\u001b[0m\u001b[0mframework\u001b[0m \u001b[1;32mimport\u001b[0m \u001b[0mdtypes\u001b[0m\u001b[1;33m\u001b[0m\u001b[1;33m\u001b[0m\u001b[0m\n\u001b[0m\u001b[0;32m     22\u001b[0m \u001b[1;32mfrom\u001b[0m \u001b[0mtensorflow\u001b[0m\u001b[1;33m.\u001b[0m\u001b[0mpython\u001b[0m\u001b[1;33m.\u001b[0m\u001b[0mframework\u001b[0m \u001b[1;32mimport\u001b[0m \u001b[0mops\u001b[0m\u001b[1;33m\u001b[0m\u001b[1;33m\u001b[0m\u001b[0m\n\u001b[0;32m     23\u001b[0m \u001b[1;32mfrom\u001b[0m \u001b[0mtensorflow\u001b[0m\u001b[1;33m.\u001b[0m\u001b[0mpython\u001b[0m\u001b[1;33m.\u001b[0m\u001b[0mframework\u001b[0m \u001b[1;32mimport\u001b[0m \u001b[0mtensor_shape\u001b[0m\u001b[1;33m\u001b[0m\u001b[1;33m\u001b[0m\u001b[0m\n",
      "\u001b[1;32m~\\anaconda3\\lib\\site-packages\\tensorflow\\python\\framework\\dtypes.py\u001b[0m in \u001b[0;36m<module>\u001b[1;34m\u001b[0m\n\u001b[0;32m     35\u001b[0m \u001b[1;32mfrom\u001b[0m \u001b[0mtensorflow\u001b[0m\u001b[1;33m.\u001b[0m\u001b[0mtools\u001b[0m\u001b[1;33m.\u001b[0m\u001b[0mdocs\u001b[0m \u001b[1;32mimport\u001b[0m \u001b[0mdoc_controls\u001b[0m\u001b[1;33m\u001b[0m\u001b[1;33m\u001b[0m\u001b[0m\n\u001b[0;32m     36\u001b[0m \u001b[1;33m\u001b[0m\u001b[0m\n\u001b[1;32m---> 37\u001b[1;33m \u001b[0m_np_bfloat16\u001b[0m \u001b[1;33m=\u001b[0m \u001b[0m_pywrap_bfloat16\u001b[0m\u001b[1;33m.\u001b[0m\u001b[0mTF_bfloat16_type\u001b[0m\u001b[1;33m(\u001b[0m\u001b[1;33m)\u001b[0m\u001b[1;33m\u001b[0m\u001b[1;33m\u001b[0m\u001b[0m\n\u001b[0m\u001b[0;32m     38\u001b[0m \u001b[0m_np_float8_e4m3fn\u001b[0m \u001b[1;33m=\u001b[0m \u001b[0m_pywrap_float8\u001b[0m\u001b[1;33m.\u001b[0m\u001b[0mTF_float8_e4m3fn_type\u001b[0m\u001b[1;33m(\u001b[0m\u001b[1;33m)\u001b[0m\u001b[1;33m\u001b[0m\u001b[1;33m\u001b[0m\u001b[0m\n\u001b[0;32m     39\u001b[0m \u001b[0m_np_float8_e5m2\u001b[0m \u001b[1;33m=\u001b[0m \u001b[0m_pywrap_float8\u001b[0m\u001b[1;33m.\u001b[0m\u001b[0mTF_float8_e5m2_type\u001b[0m\u001b[1;33m(\u001b[0m\u001b[1;33m)\u001b[0m\u001b[1;33m\u001b[0m\u001b[1;33m\u001b[0m\u001b[0m\n",
      "\u001b[1;31mTypeError\u001b[0m: Unable to convert function return value to a Python type! The signature was\n\t() -> handle"
     ]
    }
   ],
   "source": [
    "import pandas as pd\n",
    "\n",
    "import numpy as np\n",
    "\n",
    "import librosa\n",
    "\n",
    "import tensorflow as tf\n",
    "\n",
    "import os\n",
    "\n",
    "from sklearn.model_selection import train_test_split\n",
    "from sklearn.preprocessing import LabelEncoder\n",
    "\n"
   ]
  },
  {
   "cell_type": "code",
   "execution_count": 2,
   "metadata": {},
   "outputs": [],
   "source": [
    "import pandas as pd\n",
    "import numpy as np\n",
    "import librosa\n",
    "import os\n",
    "from sklearn.model_selection import train_test_split\n",
    "from sklearn.preprocessing import LabelEncoder\n",
    "\n",
    "# Load CSVs\n",
    "train_df = pd.read_csv('/Users/muhammadluay/Desktop/cv-corpus-10.0-delta-2022-07-04/sw/train.tsv', sep='\\t')\n",
    "test_df = pd.read_csv('/Users/muhammadluay/Desktop/cv-corpus-10.0-delta-2022-07-04/sw/test.tsv', sep='\\t')\n",
    "\n"
   ]
  },
  {
   "cell_type": "code",
   "execution_count": 3,
   "metadata": {},
   "outputs": [
    {
     "data": {
      "text/html": [
       "<div>\n",
       "<style scoped>\n",
       "    .dataframe tbody tr th:only-of-type {\n",
       "        vertical-align: middle;\n",
       "    }\n",
       "\n",
       "    .dataframe tbody tr th {\n",
       "        vertical-align: top;\n",
       "    }\n",
       "\n",
       "    .dataframe thead th {\n",
       "        text-align: right;\n",
       "    }\n",
       "</style>\n",
       "<table border=\"1\" class=\"dataframe\">\n",
       "  <thead>\n",
       "    <tr style=\"text-align: right;\">\n",
       "      <th></th>\n",
       "      <th>client_id</th>\n",
       "      <th>path</th>\n",
       "      <th>sentence</th>\n",
       "      <th>up_votes</th>\n",
       "      <th>down_votes</th>\n",
       "      <th>age</th>\n",
       "      <th>gender</th>\n",
       "      <th>accents</th>\n",
       "      <th>locale</th>\n",
       "      <th>segment</th>\n",
       "    </tr>\n",
       "  </thead>\n",
       "  <tbody>\n",
       "    <tr>\n",
       "      <th>0</th>\n",
       "      <td>0ac2b2e3e44a446fb9f6989da2b67a98ea65b963ef35ea...</td>\n",
       "      <td>common_voice_sw_31911896.mp3</td>\n",
       "      <td>Unatakiwa kumaliza kazi mapema.</td>\n",
       "      <td>12</td>\n",
       "      <td>0</td>\n",
       "      <td>thirties</td>\n",
       "      <td>male</td>\n",
       "      <td>NaN</td>\n",
       "      <td>sw</td>\n",
       "      <td>NaN</td>\n",
       "    </tr>\n",
       "    <tr>\n",
       "      <th>1</th>\n",
       "      <td>0ac2b2e3e44a446fb9f6989da2b67a98ea65b963ef35ea...</td>\n",
       "      <td>common_voice_sw_31940313.mp3</td>\n",
       "      <td>Kama fuza wana wengi</td>\n",
       "      <td>2</td>\n",
       "      <td>0</td>\n",
       "      <td>thirties</td>\n",
       "      <td>male</td>\n",
       "      <td>NaN</td>\n",
       "      <td>sw</td>\n",
       "      <td>NaN</td>\n",
       "    </tr>\n",
       "    <tr>\n",
       "      <th>2</th>\n",
       "      <td>0ac2b2e3e44a446fb9f6989da2b67a98ea65b963ef35ea...</td>\n",
       "      <td>common_voice_sw_31940315.mp3</td>\n",
       "      <td>Raisi wa kenya echu chukivochi chukibika kura ...</td>\n",
       "      <td>3</td>\n",
       "      <td>1</td>\n",
       "      <td>thirties</td>\n",
       "      <td>male</td>\n",
       "      <td>NaN</td>\n",
       "      <td>sw</td>\n",
       "      <td>NaN</td>\n",
       "    </tr>\n",
       "    <tr>\n",
       "      <th>3</th>\n",
       "      <td>0ac2b2e3e44a446fb9f6989da2b67a98ea65b963ef35ea...</td>\n",
       "      <td>common_voice_sw_31940522.mp3</td>\n",
       "      <td>Ukenda nyita name nje.</td>\n",
       "      <td>2</td>\n",
       "      <td>0</td>\n",
       "      <td>thirties</td>\n",
       "      <td>male</td>\n",
       "      <td>NaN</td>\n",
       "      <td>sw</td>\n",
       "      <td>NaN</td>\n",
       "    </tr>\n",
       "    <tr>\n",
       "      <th>4</th>\n",
       "      <td>0ac2b2e3e44a446fb9f6989da2b67a98ea65b963ef35ea...</td>\n",
       "      <td>common_voice_sw_31940900.mp3</td>\n",
       "      <td>Wachu wadodi wadodi hupenda kupiga wenthao mas...</td>\n",
       "      <td>2</td>\n",
       "      <td>0</td>\n",
       "      <td>thirties</td>\n",
       "      <td>male</td>\n",
       "      <td>NaN</td>\n",
       "      <td>sw</td>\n",
       "      <td>NaN</td>\n",
       "    </tr>\n",
       "    <tr>\n",
       "      <th>...</th>\n",
       "      <td>...</td>\n",
       "      <td>...</td>\n",
       "      <td>...</td>\n",
       "      <td>...</td>\n",
       "      <td>...</td>\n",
       "      <td>...</td>\n",
       "      <td>...</td>\n",
       "      <td>...</td>\n",
       "      <td>...</td>\n",
       "      <td>...</td>\n",
       "    </tr>\n",
       "    <tr>\n",
       "      <th>336</th>\n",
       "      <td>4a574662c2671fd653b989b76e93981b1c4974bfe1ffb1...</td>\n",
       "      <td>common_voice_sw_31998346.mp3</td>\n",
       "      <td>Ana mshipa huo ukimshika hata kuinuwa mguu haw...</td>\n",
       "      <td>4</td>\n",
       "      <td>0</td>\n",
       "      <td>twenties</td>\n",
       "      <td>female</td>\n",
       "      <td>My accept is to recognize and record different...</td>\n",
       "      <td>sw</td>\n",
       "      <td>NaN</td>\n",
       "    </tr>\n",
       "    <tr>\n",
       "      <th>337</th>\n",
       "      <td>4a574662c2671fd653b989b76e93981b1c4974bfe1ffb1...</td>\n",
       "      <td>common_voice_sw_31998404.mp3</td>\n",
       "      <td>Kijaliwa tafunga saumu angu.</td>\n",
       "      <td>8</td>\n",
       "      <td>0</td>\n",
       "      <td>twenties</td>\n",
       "      <td>female</td>\n",
       "      <td>My accept is to recognize and record different...</td>\n",
       "      <td>sw</td>\n",
       "      <td>NaN</td>\n",
       "    </tr>\n",
       "    <tr>\n",
       "      <th>338</th>\n",
       "      <td>4a574662c2671fd653b989b76e93981b1c4974bfe1ffb1...</td>\n",
       "      <td>common_voice_sw_31998405.mp3</td>\n",
       "      <td>Watoto wanataja aina za rangi</td>\n",
       "      <td>8</td>\n",
       "      <td>0</td>\n",
       "      <td>twenties</td>\n",
       "      <td>female</td>\n",
       "      <td>My accept is to recognize and record different...</td>\n",
       "      <td>sw</td>\n",
       "      <td>NaN</td>\n",
       "    </tr>\n",
       "    <tr>\n",
       "      <th>339</th>\n",
       "      <td>4a574662c2671fd653b989b76e93981b1c4974bfe1ffb1...</td>\n",
       "      <td>common_voice_sw_31998408.mp3</td>\n",
       "      <td>Mwalimu anavuka mto</td>\n",
       "      <td>4</td>\n",
       "      <td>0</td>\n",
       "      <td>twenties</td>\n",
       "      <td>female</td>\n",
       "      <td>My accept is to recognize and record different...</td>\n",
       "      <td>sw</td>\n",
       "      <td>NaN</td>\n",
       "    </tr>\n",
       "    <tr>\n",
       "      <th>340</th>\n",
       "      <td>4a574662c2671fd653b989b76e93981b1c4974bfe1ffb1...</td>\n",
       "      <td>common_voice_sw_31999394.mp3</td>\n",
       "      <td>Unatakiwa kurudia kufanya mazoezi kila siku.</td>\n",
       "      <td>4</td>\n",
       "      <td>0</td>\n",
       "      <td>twenties</td>\n",
       "      <td>female</td>\n",
       "      <td>My accept is to recognize and record different...</td>\n",
       "      <td>sw</td>\n",
       "      <td>NaN</td>\n",
       "    </tr>\n",
       "  </tbody>\n",
       "</table>\n",
       "<p>341 rows × 10 columns</p>\n",
       "</div>"
      ],
      "text/plain": [
       "                                             client_id  \\\n",
       "0    0ac2b2e3e44a446fb9f6989da2b67a98ea65b963ef35ea...   \n",
       "1    0ac2b2e3e44a446fb9f6989da2b67a98ea65b963ef35ea...   \n",
       "2    0ac2b2e3e44a446fb9f6989da2b67a98ea65b963ef35ea...   \n",
       "3    0ac2b2e3e44a446fb9f6989da2b67a98ea65b963ef35ea...   \n",
       "4    0ac2b2e3e44a446fb9f6989da2b67a98ea65b963ef35ea...   \n",
       "..                                                 ...   \n",
       "336  4a574662c2671fd653b989b76e93981b1c4974bfe1ffb1...   \n",
       "337  4a574662c2671fd653b989b76e93981b1c4974bfe1ffb1...   \n",
       "338  4a574662c2671fd653b989b76e93981b1c4974bfe1ffb1...   \n",
       "339  4a574662c2671fd653b989b76e93981b1c4974bfe1ffb1...   \n",
       "340  4a574662c2671fd653b989b76e93981b1c4974bfe1ffb1...   \n",
       "\n",
       "                             path  \\\n",
       "0    common_voice_sw_31911896.mp3   \n",
       "1    common_voice_sw_31940313.mp3   \n",
       "2    common_voice_sw_31940315.mp3   \n",
       "3    common_voice_sw_31940522.mp3   \n",
       "4    common_voice_sw_31940900.mp3   \n",
       "..                            ...   \n",
       "336  common_voice_sw_31998346.mp3   \n",
       "337  common_voice_sw_31998404.mp3   \n",
       "338  common_voice_sw_31998405.mp3   \n",
       "339  common_voice_sw_31998408.mp3   \n",
       "340  common_voice_sw_31999394.mp3   \n",
       "\n",
       "                                              sentence  up_votes  down_votes  \\\n",
       "0                      Unatakiwa kumaliza kazi mapema.        12           0   \n",
       "1                                 Kama fuza wana wengi         2           0   \n",
       "2    Raisi wa kenya echu chukivochi chukibika kura ...         3           1   \n",
       "3                               Ukenda nyita name nje.         2           0   \n",
       "4    Wachu wadodi wadodi hupenda kupiga wenthao mas...         2           0   \n",
       "..                                                 ...       ...         ...   \n",
       "336  Ana mshipa huo ukimshika hata kuinuwa mguu haw...         4           0   \n",
       "337                       Kijaliwa tafunga saumu angu.         8           0   \n",
       "338                      Watoto wanataja aina za rangi         8           0   \n",
       "339                                Mwalimu anavuka mto         4           0   \n",
       "340       Unatakiwa kurudia kufanya mazoezi kila siku.         4           0   \n",
       "\n",
       "          age  gender                                            accents  \\\n",
       "0    thirties    male                                                NaN   \n",
       "1    thirties    male                                                NaN   \n",
       "2    thirties    male                                                NaN   \n",
       "3    thirties    male                                                NaN   \n",
       "4    thirties    male                                                NaN   \n",
       "..        ...     ...                                                ...   \n",
       "336  twenties  female  My accept is to recognize and record different...   \n",
       "337  twenties  female  My accept is to recognize and record different...   \n",
       "338  twenties  female  My accept is to recognize and record different...   \n",
       "339  twenties  female  My accept is to recognize and record different...   \n",
       "340  twenties  female  My accept is to recognize and record different...   \n",
       "\n",
       "    locale  segment  \n",
       "0       sw      NaN  \n",
       "1       sw      NaN  \n",
       "2       sw      NaN  \n",
       "3       sw      NaN  \n",
       "4       sw      NaN  \n",
       "..     ...      ...  \n",
       "336     sw      NaN  \n",
       "337     sw      NaN  \n",
       "338     sw      NaN  \n",
       "339     sw      NaN  \n",
       "340     sw      NaN  \n",
       "\n",
       "[341 rows x 10 columns]"
      ]
     },
     "execution_count": 3,
     "metadata": {},
     "output_type": "execute_result"
    }
   ],
   "source": [
    "train_df"
   ]
  },
  {
   "cell_type": "code",
   "execution_count": 4,
   "metadata": {},
   "outputs": [
    {
     "data": {
      "text/html": [
       "<div>\n",
       "<style scoped>\n",
       "    .dataframe tbody tr th:only-of-type {\n",
       "        vertical-align: middle;\n",
       "    }\n",
       "\n",
       "    .dataframe tbody tr th {\n",
       "        vertical-align: top;\n",
       "    }\n",
       "\n",
       "    .dataframe thead th {\n",
       "        text-align: right;\n",
       "    }\n",
       "</style>\n",
       "<table border=\"1\" class=\"dataframe\">\n",
       "  <thead>\n",
       "    <tr style=\"text-align: right;\">\n",
       "      <th></th>\n",
       "      <th>client_id</th>\n",
       "      <th>path</th>\n",
       "      <th>sentence</th>\n",
       "      <th>up_votes</th>\n",
       "      <th>down_votes</th>\n",
       "      <th>age</th>\n",
       "      <th>gender</th>\n",
       "      <th>accents</th>\n",
       "      <th>locale</th>\n",
       "      <th>segment</th>\n",
       "    </tr>\n",
       "  </thead>\n",
       "  <tbody>\n",
       "    <tr>\n",
       "      <th>0</th>\n",
       "      <td>184cb4d570c6c8ed1de5cbd2efeae921de818db23178ab...</td>\n",
       "      <td>common_voice_sw_32195361.mp3</td>\n",
       "      <td>Chuza vyema</td>\n",
       "      <td>2</td>\n",
       "      <td>1</td>\n",
       "      <td>NaN</td>\n",
       "      <td>NaN</td>\n",
       "      <td>NaN</td>\n",
       "      <td>sw</td>\n",
       "      <td>NaN</td>\n",
       "    </tr>\n",
       "    <tr>\n",
       "      <th>1</th>\n",
       "      <td>1cc634ad9e9493ddcb81222bfc9c4703bbf19e38a2cbfe...</td>\n",
       "      <td>common_voice_sw_32366407.mp3</td>\n",
       "      <td>Watoto watukutu wamfuja mimeangwa</td>\n",
       "      <td>2</td>\n",
       "      <td>0</td>\n",
       "      <td>NaN</td>\n",
       "      <td>NaN</td>\n",
       "      <td>NaN</td>\n",
       "      <td>sw</td>\n",
       "      <td>NaN</td>\n",
       "    </tr>\n",
       "    <tr>\n",
       "      <th>2</th>\n",
       "      <td>29beef8989fd406aa6780bb17280677e2715a80ad79fea...</td>\n",
       "      <td>common_voice_sw_31855477.mp3</td>\n",
       "      <td>Biashara ni biashara</td>\n",
       "      <td>2</td>\n",
       "      <td>0</td>\n",
       "      <td>twenties</td>\n",
       "      <td>male</td>\n",
       "      <td>NaN</td>\n",
       "      <td>sw</td>\n",
       "      <td>NaN</td>\n",
       "    </tr>\n",
       "    <tr>\n",
       "      <th>3</th>\n",
       "      <td>2e24be12bc19f0679eadc7c2a4dbf730107935541223fc...</td>\n",
       "      <td>common_voice_sw_32436632.mp3</td>\n",
       "      <td>Hachufungi idirisha la mwisho.</td>\n",
       "      <td>2</td>\n",
       "      <td>0</td>\n",
       "      <td>NaN</td>\n",
       "      <td>NaN</td>\n",
       "      <td>NaN</td>\n",
       "      <td>sw</td>\n",
       "      <td>NaN</td>\n",
       "    </tr>\n",
       "    <tr>\n",
       "      <th>4</th>\n",
       "      <td>35c7da0a1c2aff40b03ad51ca6421fd4d797ab3dbfd7ff...</td>\n",
       "      <td>common_voice_sw_31855552.mp3</td>\n",
       "      <td>Ni kama hapa ukimwambia mtu twenda kubaua hata...</td>\n",
       "      <td>2</td>\n",
       "      <td>0</td>\n",
       "      <td>twenties</td>\n",
       "      <td>female</td>\n",
       "      <td>NaN</td>\n",
       "      <td>sw</td>\n",
       "      <td>NaN</td>\n",
       "    </tr>\n",
       "    <tr>\n",
       "      <th>...</th>\n",
       "      <td>...</td>\n",
       "      <td>...</td>\n",
       "      <td>...</td>\n",
       "      <td>...</td>\n",
       "      <td>...</td>\n",
       "      <td>...</td>\n",
       "      <td>...</td>\n",
       "      <td>...</td>\n",
       "      <td>...</td>\n",
       "      <td>...</td>\n",
       "    </tr>\n",
       "    <tr>\n",
       "      <th>297</th>\n",
       "      <td>76bf68cdeba9de8923e99eed3b82ce7effc8e94be78904...</td>\n",
       "      <td>common_voice_sw_32320548.mp3</td>\n",
       "      <td>Jambo baya, jambo zuri</td>\n",
       "      <td>2</td>\n",
       "      <td>0</td>\n",
       "      <td>twenties</td>\n",
       "      <td>male</td>\n",
       "      <td>NaN</td>\n",
       "      <td>sw</td>\n",
       "      <td>NaN</td>\n",
       "    </tr>\n",
       "    <tr>\n",
       "      <th>298</th>\n",
       "      <td>76bf68cdeba9de8923e99eed3b82ce7effc8e94be78904...</td>\n",
       "      <td>common_voice_sw_32320636.mp3</td>\n",
       "      <td>Tunataka kuanzisha Taasisi.</td>\n",
       "      <td>2</td>\n",
       "      <td>0</td>\n",
       "      <td>twenties</td>\n",
       "      <td>male</td>\n",
       "      <td>NaN</td>\n",
       "      <td>sw</td>\n",
       "      <td>NaN</td>\n",
       "    </tr>\n",
       "    <tr>\n",
       "      <th>299</th>\n",
       "      <td>76bf68cdeba9de8923e99eed3b82ce7effc8e94be78904...</td>\n",
       "      <td>common_voice_sw_32320656.mp3</td>\n",
       "      <td>Sada kajibu swali aliloulizwa</td>\n",
       "      <td>2</td>\n",
       "      <td>0</td>\n",
       "      <td>twenties</td>\n",
       "      <td>male</td>\n",
       "      <td>NaN</td>\n",
       "      <td>sw</td>\n",
       "      <td>NaN</td>\n",
       "    </tr>\n",
       "    <tr>\n",
       "      <th>300</th>\n",
       "      <td>76bf68cdeba9de8923e99eed3b82ce7effc8e94be78904...</td>\n",
       "      <td>common_voice_sw_32320692.mp3</td>\n",
       "      <td>Watoto wameharibu mashine ya kunyolea nywele.</td>\n",
       "      <td>4</td>\n",
       "      <td>0</td>\n",
       "      <td>twenties</td>\n",
       "      <td>male</td>\n",
       "      <td>NaN</td>\n",
       "      <td>sw</td>\n",
       "      <td>NaN</td>\n",
       "    </tr>\n",
       "    <tr>\n",
       "      <th>301</th>\n",
       "      <td>76bf68cdeba9de8923e99eed3b82ce7effc8e94be78904...</td>\n",
       "      <td>common_voice_sw_32320704.mp3</td>\n",
       "      <td>Habib kauza nyumbaye</td>\n",
       "      <td>2</td>\n",
       "      <td>0</td>\n",
       "      <td>twenties</td>\n",
       "      <td>male</td>\n",
       "      <td>NaN</td>\n",
       "      <td>sw</td>\n",
       "      <td>NaN</td>\n",
       "    </tr>\n",
       "  </tbody>\n",
       "</table>\n",
       "<p>302 rows × 10 columns</p>\n",
       "</div>"
      ],
      "text/plain": [
       "                                             client_id  \\\n",
       "0    184cb4d570c6c8ed1de5cbd2efeae921de818db23178ab...   \n",
       "1    1cc634ad9e9493ddcb81222bfc9c4703bbf19e38a2cbfe...   \n",
       "2    29beef8989fd406aa6780bb17280677e2715a80ad79fea...   \n",
       "3    2e24be12bc19f0679eadc7c2a4dbf730107935541223fc...   \n",
       "4    35c7da0a1c2aff40b03ad51ca6421fd4d797ab3dbfd7ff...   \n",
       "..                                                 ...   \n",
       "297  76bf68cdeba9de8923e99eed3b82ce7effc8e94be78904...   \n",
       "298  76bf68cdeba9de8923e99eed3b82ce7effc8e94be78904...   \n",
       "299  76bf68cdeba9de8923e99eed3b82ce7effc8e94be78904...   \n",
       "300  76bf68cdeba9de8923e99eed3b82ce7effc8e94be78904...   \n",
       "301  76bf68cdeba9de8923e99eed3b82ce7effc8e94be78904...   \n",
       "\n",
       "                             path  \\\n",
       "0    common_voice_sw_32195361.mp3   \n",
       "1    common_voice_sw_32366407.mp3   \n",
       "2    common_voice_sw_31855477.mp3   \n",
       "3    common_voice_sw_32436632.mp3   \n",
       "4    common_voice_sw_31855552.mp3   \n",
       "..                            ...   \n",
       "297  common_voice_sw_32320548.mp3   \n",
       "298  common_voice_sw_32320636.mp3   \n",
       "299  common_voice_sw_32320656.mp3   \n",
       "300  common_voice_sw_32320692.mp3   \n",
       "301  common_voice_sw_32320704.mp3   \n",
       "\n",
       "                                              sentence  up_votes  down_votes  \\\n",
       "0                                          Chuza vyema         2           1   \n",
       "1                    Watoto watukutu wamfuja mimeangwa         2           0   \n",
       "2                                 Biashara ni biashara         2           0   \n",
       "3                       Hachufungi idirisha la mwisho.         2           0   \n",
       "4    Ni kama hapa ukimwambia mtu twenda kubaua hata...         2           0   \n",
       "..                                                 ...       ...         ...   \n",
       "297                             Jambo baya, jambo zuri         2           0   \n",
       "298                        Tunataka kuanzisha Taasisi.         2           0   \n",
       "299                      Sada kajibu swali aliloulizwa         2           0   \n",
       "300      Watoto wameharibu mashine ya kunyolea nywele.         4           0   \n",
       "301                               Habib kauza nyumbaye         2           0   \n",
       "\n",
       "          age  gender  accents locale  segment  \n",
       "0         NaN     NaN      NaN     sw      NaN  \n",
       "1         NaN     NaN      NaN     sw      NaN  \n",
       "2    twenties    male      NaN     sw      NaN  \n",
       "3         NaN     NaN      NaN     sw      NaN  \n",
       "4    twenties  female      NaN     sw      NaN  \n",
       "..        ...     ...      ...    ...      ...  \n",
       "297  twenties    male      NaN     sw      NaN  \n",
       "298  twenties    male      NaN     sw      NaN  \n",
       "299  twenties    male      NaN     sw      NaN  \n",
       "300  twenties    male      NaN     sw      NaN  \n",
       "301  twenties    male      NaN     sw      NaN  \n",
       "\n",
       "[302 rows x 10 columns]"
      ]
     },
     "execution_count": 4,
     "metadata": {},
     "output_type": "execute_result"
    }
   ],
   "source": [
    "test_df"
   ]
  },
  {
   "cell_type": "code",
   "execution_count": 5,
   "metadata": {},
   "outputs": [],
   "source": [
    "merged_df = pd.concat([train_df, test_df], ignore_index=True)\n"
   ]
  },
  {
   "cell_type": "code",
   "execution_count": 6,
   "metadata": {},
   "outputs": [],
   "source": [
    "import pandas as pd\n",
    "from collections import Counter\n",
    "\n",
    "# Create DataFrame\n",
    "data = merged_df[['path','sentence']]\n",
    "train_df = pd.DataFrame(data)\n",
    "\n",
    "# Count the occurrences of each word in the entire dataset\n",
    "all_words = ' '.join(train_df['sentence']).split()\n",
    "word_counts = Counter(all_words)\n",
    "\n",
    "# Function to check if a sentence can be moved to the test set\n",
    "def can_move_to_test_set(sentence):\n",
    "    words = sentence.split()\n",
    "    for word in words:\n",
    "        if word_counts[word] <= 1:\n",
    "            return False\n",
    "        word_counts[word] -= 1\n",
    "\n",
    "    # Check if each word still appears in the remaining dataset\n",
    "    for word in words:\n",
    "        if word_counts[word] == 0:\n",
    "            for w in words:\n",
    "                word_counts[w] += 1  # Rollback the changes\n",
    "            return False\n",
    "\n",
    "    return True\n",
    "\n",
    "# Form the test set\n",
    "test_set = train_df[train_df['sentence'].apply(can_move_to_test_set)]\n",
    "\n",
    "# The remaining data is the training set\n",
    "train_set = train_df.drop(test_set.index)\n",
    "\n",
    "# Reset word_counts to its original state\n",
    "word_counts = Counter(all_words)\n",
    "\n",
    "\n"
   ]
  },
  {
   "cell_type": "code",
   "execution_count": 7,
   "metadata": {},
   "outputs": [],
   "source": [
    "common = pd.merge(train_df, test_df, on=['path', 'sentence'])\n",
    "\n",
    "# Getting the indexes of the common rows in train_df\n",
    "common_indexes = train_df.merge(common, on=['path', 'sentence']).index\n",
    "\n",
    "# Dropping the common rows from train_df by using the indexes\n",
    "train_df = train_df.drop(common_indexes)\n"
   ]
  },
  {
   "cell_type": "code",
   "execution_count": 8,
   "metadata": {},
   "outputs": [],
   "source": [
    "test_df = test_df[['path', 'sentence']]"
   ]
  },
  {
   "cell_type": "code",
   "execution_count": 9,
   "metadata": {},
   "outputs": [],
   "source": [
    "# Function to extract features\n",
    "def extract_features(audio_path):\n",
    "    y, sr = librosa.load(audio_path, sr=None, duration=5)  \n",
    "    mfccs = librosa.feature.mfcc(y=y, sr=sr, n_mfcc=13)\n",
    "    return mfccs.T"
   ]
  },
  {
   "cell_type": "code",
   "execution_count": 10,
   "metadata": {},
   "outputs": [
    {
     "name": "stderr",
     "output_type": "stream",
     "text": [
      "/var/folders/3l/17dnx9js48x23xqxldbjmkj00000gn/T/ipykernel_66728/1115905171.py:2: VisibleDeprecationWarning: Creating an ndarray from ragged nested sequences (which is a list-or-tuple of lists-or-tuples-or ndarrays with different lengths or shapes) is deprecated. If you meant to do this, you must specify 'dtype=object' when creating the ndarray.\n",
      "  X_train = np.array([extract_features(os.path.join(base_dir, path)) for path in train_df['path']])\n",
      "/var/folders/3l/17dnx9js48x23xqxldbjmkj00000gn/T/ipykernel_66728/1115905171.py:3: VisibleDeprecationWarning: Creating an ndarray from ragged nested sequences (which is a list-or-tuple of lists-or-tuples-or ndarrays with different lengths or shapes) is deprecated. If you meant to do this, you must specify 'dtype=object' when creating the ndarray.\n",
      "  X_test = np.array([extract_features(os.path.join(base_dir, path)) for path in test_df['path']])\n"
     ]
    }
   ],
   "source": [
    "base_dir = '/Users/muhammadluay/Desktop/cv-corpus-10.0-delta-2022-07-04/sw/clips'\n",
    "X_train = np.array([extract_features(os.path.join(base_dir, path)) for path in train_df['path']])\n",
    "X_test = np.array([extract_features(os.path.join(base_dir, path)) for path in test_df['path']])\n"
   ]
  },
  {
   "cell_type": "code",
   "execution_count": 11,
   "metadata": {},
   "outputs": [
    {
     "data": {
      "text/plain": [
       "341"
      ]
     },
     "execution_count": 11,
     "metadata": {},
     "output_type": "execute_result"
    }
   ],
   "source": [
    "len(X_train)"
   ]
  },
  {
   "cell_type": "code",
   "execution_count": 12,
   "metadata": {},
   "outputs": [
    {
     "data": {
      "text/plain": [
       "302"
      ]
     },
     "execution_count": 12,
     "metadata": {},
     "output_type": "execute_result"
    }
   ],
   "source": [
    "len(X_test)"
   ]
  },
  {
   "cell_type": "code",
   "execution_count": 13,
   "metadata": {},
   "outputs": [],
   "source": [
    "le = LabelEncoder()\n",
    "\n",
    "y_train = le.fit_transform(train_df['sentence'])\n",
    "y_test = le.transform(test_df['sentence'])\n"
   ]
  },
  {
   "cell_type": "code",
   "execution_count": 14,
   "metadata": {},
   "outputs": [
    {
     "name": "stdout",
     "output_type": "stream",
     "text": [
      "Model: \"sequential\"\n",
      "_________________________________________________________________\n",
      " Layer (type)                Output Shape              Param #   \n",
      "=================================================================\n",
      " bidirectional (Bidirection  (None, None, 512)         552960    \n",
      " al)                                                             \n",
      "                                                                 \n",
      " bidirectional_1 (Bidirecti  (None, 512)               1574912   \n",
      " onal)                                                           \n",
      "                                                                 \n",
      " dense (Dense)               (None, 341)               174933    \n",
      "                                                                 \n",
      "=================================================================\n",
      "Total params: 2302805 (8.78 MB)\n",
      "Trainable params: 2302805 (8.78 MB)\n",
      "Non-trainable params: 0 (0.00 Byte)\n",
      "_________________________________________________________________\n"
     ]
    }
   ],
   "source": [
    "# Build Model\n",
    "model = tf.keras.Sequential([\n",
    "    tf.keras.layers.Input(shape=(None, 13)), \n",
    "    tf.keras.layers.Bidirectional(tf.keras.layers.LSTM(256, return_sequences=True)),\n",
    "    tf.keras.layers.Bidirectional(tf.keras.layers.LSTM(256)),\n",
    "    tf.keras.layers.Dense(len(np.unique(y_train)), activation='softmax')\n",
    "])\n",
    "\n",
    "# Compile Model\n",
    "model.compile(optimizer='adam', loss='sparse_categorical_crossentropy', metrics=['accuracy'])\n",
    "\n",
    "# Print Model Summary\n",
    "model.summary()\n"
   ]
  },
  {
   "cell_type": "code",
   "execution_count": 15,
   "metadata": {},
   "outputs": [
    {
     "name": "stdout",
     "output_type": "stream",
     "text": [
      "(341,)\n",
      "(341,)\n",
      "(302,)\n",
      "(302,)\n"
     ]
    }
   ],
   "source": [
    "print(X_train.shape)\n",
    "print(y_train.shape)\n",
    "print(X_test.shape)\n",
    "print(y_test.shape)\n"
   ]
  },
  {
   "cell_type": "code",
   "execution_count": 16,
   "metadata": {},
   "outputs": [
    {
     "name": "stdout",
     "output_type": "stream",
     "text": [
      "<class 'numpy.ndarray'>\n",
      "(313, 13)\n"
     ]
    }
   ],
   "source": [
    "print(type(X_train[0]))\n",
    "print(X_train[0].shape)\n"
   ]
  },
  {
   "cell_type": "code",
   "execution_count": 17,
   "metadata": {},
   "outputs": [],
   "source": [
    "from tensorflow.keras.preprocessing.sequence import pad_sequences\n",
    "\n",
    "# Assuming X_train is a list of 2D arrays\n",
    "X_train = pad_sequences(X_train, padding='post', dtype='float32')\n",
    "X_test = pad_sequences(X_test, padding='post', dtype='float32')\n"
   ]
  },
  {
   "cell_type": "code",
   "execution_count": 18,
   "metadata": {},
   "outputs": [
    {
     "name": "stdout",
     "output_type": "stream",
     "text": [
      "Epoch 1/30\n",
      "11/11 [==============================] - 35s 3s/step - loss: 6.0794 - accuracy: 0.0000e+00 - val_loss: 5.6402 - val_accuracy: 0.0298\n",
      "Epoch 2/30\n",
      "11/11 [==============================] - 26s 2s/step - loss: 5.6259 - accuracy: 0.0117 - val_loss: 5.2636 - val_accuracy: 0.0828\n",
      "Epoch 3/30\n",
      "11/11 [==============================] - 25s 2s/step - loss: 5.2634 - accuracy: 0.0411 - val_loss: 4.8055 - val_accuracy: 0.1291\n",
      "Epoch 4/30\n",
      "11/11 [==============================] - 25s 2s/step - loss: 4.8403 - accuracy: 0.0938 - val_loss: 4.2974 - val_accuracy: 0.2715\n",
      "Epoch 5/30\n",
      "11/11 [==============================] - 26s 2s/step - loss: 4.3700 - accuracy: 0.1906 - val_loss: 3.7426 - val_accuracy: 0.4205\n",
      "Epoch 6/30\n",
      "11/11 [==============================] - 24s 2s/step - loss: 3.8576 - accuracy: 0.3196 - val_loss: 3.3297 - val_accuracy: 0.4702\n",
      "Epoch 7/30\n",
      "11/11 [==============================] - 24s 2s/step - loss: 3.4532 - accuracy: 0.3226 - val_loss: 2.8640 - val_accuracy: 0.5497\n",
      "Epoch 8/30\n",
      "11/11 [==============================] - 37s 4s/step - loss: 3.0208 - accuracy: 0.4399 - val_loss: 2.4211 - val_accuracy: 0.6258\n",
      "Epoch 9/30\n",
      "11/11 [==============================] - 27s 3s/step - loss: 2.6325 - accuracy: 0.4927 - val_loss: 2.0185 - val_accuracy: 0.7252\n",
      "Epoch 10/30\n",
      "11/11 [==============================] - 24s 2s/step - loss: 2.3126 - accuracy: 0.5894 - val_loss: 1.7027 - val_accuracy: 0.7517\n",
      "Epoch 11/30\n",
      "11/11 [==============================] - 64s 6s/step - loss: 1.9506 - accuracy: 0.6686 - val_loss: 1.3704 - val_accuracy: 0.8609\n",
      "Epoch 12/30\n",
      "11/11 [==============================] - 128s 7s/step - loss: 1.6318 - accuracy: 0.7449 - val_loss: 1.1817 - val_accuracy: 0.8907\n",
      "Epoch 13/30\n",
      "11/11 [==============================] - 109s 11s/step - loss: 1.3966 - accuracy: 0.7918 - val_loss: 0.9617 - val_accuracy: 0.9371\n",
      "Epoch 14/30\n",
      "11/11 [==============================] - 25s 2s/step - loss: 1.1931 - accuracy: 0.8240 - val_loss: 0.8718 - val_accuracy: 0.9338\n",
      "Epoch 15/30\n",
      "11/11 [==============================] - 25s 2s/step - loss: 1.0807 - accuracy: 0.8299 - val_loss: 0.7004 - val_accuracy: 0.9503\n",
      "Epoch 16/30\n",
      "11/11 [==============================] - 24s 2s/step - loss: 0.8478 - accuracy: 0.8915 - val_loss: 0.5233 - val_accuracy: 0.9868\n",
      "Epoch 17/30\n",
      "11/11 [==============================] - 24s 2s/step - loss: 0.6339 - accuracy: 0.9384 - val_loss: 0.4072 - val_accuracy: 0.9868\n",
      "Epoch 18/30\n",
      "11/11 [==============================] - 25s 2s/step - loss: 0.4951 - accuracy: 0.9648 - val_loss: 0.3289 - val_accuracy: 0.9868\n",
      "Epoch 19/30\n",
      "11/11 [==============================] - 26s 2s/step - loss: 0.4373 - accuracy: 0.9501 - val_loss: 0.2614 - val_accuracy: 0.9934\n",
      "Epoch 20/30\n",
      "11/11 [==============================] - 25s 2s/step - loss: 0.3440 - accuracy: 0.9736 - val_loss: 0.1993 - val_accuracy: 1.0000\n",
      "Epoch 21/30\n",
      "11/11 [==============================] - 87s 8s/step - loss: 0.2896 - accuracy: 0.9795 - val_loss: 0.1726 - val_accuracy: 1.0000\n",
      "Epoch 22/30\n",
      "11/11 [==============================] - 25s 2s/step - loss: 0.2269 - accuracy: 0.9912 - val_loss: 0.1500 - val_accuracy: 1.0000\n",
      "Epoch 23/30\n",
      "11/11 [==============================] - 25s 2s/step - loss: 0.1772 - accuracy: 0.9971 - val_loss: 0.1018 - val_accuracy: 1.0000\n",
      "Epoch 24/30\n",
      "11/11 [==============================] - 29s 3s/step - loss: 0.1340 - accuracy: 1.0000 - val_loss: 0.0788 - val_accuracy: 1.0000\n",
      "Epoch 25/30\n",
      "11/11 [==============================] - 26s 2s/step - loss: 0.0995 - accuracy: 0.9971 - val_loss: 0.0610 - val_accuracy: 1.0000\n",
      "Epoch 26/30\n",
      "11/11 [==============================] - 24s 2s/step - loss: 0.0743 - accuracy: 0.9941 - val_loss: 0.0507 - val_accuracy: 1.0000\n",
      "Epoch 27/30\n",
      "11/11 [==============================] - 24s 2s/step - loss: 0.0629 - accuracy: 1.0000 - val_loss: 0.0414 - val_accuracy: 1.0000\n",
      "Epoch 28/30\n",
      "11/11 [==============================] - 24s 2s/step - loss: 0.0497 - accuracy: 1.0000 - val_loss: 0.0352 - val_accuracy: 1.0000\n",
      "Epoch 29/30\n",
      "11/11 [==============================] - 24s 2s/step - loss: 0.0409 - accuracy: 1.0000 - val_loss: 0.0297 - val_accuracy: 1.0000\n",
      "Epoch 30/30\n",
      "11/11 [==============================] - 25s 2s/step - loss: 0.0333 - accuracy: 1.0000 - val_loss: 0.0260 - val_accuracy: 1.0000\n"
     ]
    }
   ],
   "source": [
    "history = model.fit(X_train, y_train, validation_data=(X_test, y_test), epochs=30, batch_size=32)"
   ]
  },
  {
   "cell_type": "code",
   "execution_count": 19,
   "metadata": {},
   "outputs": [
    {
     "data": {
      "text/html": [
       "\n",
       "                <audio  controls=\"controls\" >\n",
       "                    <source src=\"data:audio/mpeg;base64,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\" type=\"audio/mpeg\" />\n",
       "                    Your browser does not support the audio element.\n",
       "                </audio>\n",
       "              "
      ],
      "text/plain": [
       "<IPython.lib.display.Audio object>"
      ]
     },
     "metadata": {},
     "output_type": "display_data"
    },
    {
     "name": "stdout",
     "output_type": "stream",
     "text": [
      "Transcription: Dalili a mvua ni mawingu.\n"
     ]
    }
   ],
   "source": [
    "# Import IPython.display.Audio for playing audio\n",
    "from IPython.display import Audio, display\n",
    "\n",
    "# Choose a random sample or specific one\n",
    "sample = train_df.sample(1)\n",
    "audio_path = os.path.join(base_dir, sample['path'].values[0])\n",
    "transcription = sample['sentence'].values[0]\n",
    "\n",
    "# Play the audio\n",
    "display(Audio(audio_path))\n",
    "\n",
    "# Print the transcription\n",
    "print(\"Transcription:\", transcription)\n"
   ]
  },
  {
   "cell_type": "code",
   "execution_count": 20,
   "metadata": {},
   "outputs": [
    {
     "data": {
      "text/html": [
       "\n",
       "                <audio  controls=\"controls\" >\n",
       "                    <source src=\"data:audio/mpeg;base64,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\" type=\"audio/mpeg\" />\n",
       "                    Your browser does not support the audio element.\n",
       "                </audio>\n",
       "              "
      ],
      "text/plain": [
       "<IPython.lib.display.Audio object>"
      ]
     },
     "metadata": {},
     "output_type": "display_data"
    },
    {
     "name": "stdout",
     "output_type": "stream",
     "text": [
      "Transcription: Amekuwa mrefu sana\n"
     ]
    }
   ],
   "source": [
    "# Import IPython.display.Audio for playing audio\n",
    "from IPython.display import Audio, display\n",
    "\n",
    "# Choose a random sample or specific one\n",
    "sample = train_df.sample(2)\n",
    "audio_path = os.path.join(base_dir, sample['path'].values[0])\n",
    "transcription = sample['sentence'].values[0]\n",
    "\n",
    "# Play the audio\n",
    "display(Audio(audio_path))\n",
    "\n",
    "# Print the transcription\n",
    "print(\"Transcription:\", transcription)\n"
   ]
  },
  {
   "cell_type": "code",
   "execution_count": 23,
   "metadata": {},
   "outputs": [
    {
     "data": {
      "text/html": [
       "\n",
       "                <audio  controls=\"controls\" >\n",
       "                    <source src=\"data:audio/mpeg;base64,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\" type=\"audio/mpeg\" />\n",
       "                    Your browser does not support the audio element.\n",
       "                </audio>\n",
       "              "
      ],
      "text/plain": [
       "<IPython.lib.display.Audio object>"
      ]
     },
     "metadata": {},
     "output_type": "display_data"
    },
    {
     "name": "stdout",
     "output_type": "stream",
     "text": [
      "Transcription: Bahari inchafuka kwa upepo\n"
     ]
    }
   ],
   "source": [
    "# Import IPython.display.Audio for playing audio\n",
    "from IPython.display import Audio, display\n",
    "\n",
    "# Choose a random sample or specific one\n",
    "sample = test_df.sample(1)\n",
    "audio_path = os.path.join(base_dir, sample['path'].values[0])\n",
    "transcription = sample['sentence'].values[0]\n",
    "\n",
    "# Play the audio\n",
    "display(Audio(audio_path))\n",
    "\n",
    "# Print the transcription\n",
    "print(\"Transcription:\", transcription)\n"
   ]
  },
  {
   "cell_type": "code",
   "execution_count": 24,
   "metadata": {},
   "outputs": [
    {
     "data": {
      "text/html": [
       "\n",
       "                <audio  controls=\"controls\" >\n",
       "                    <source src=\"data:audio/mpeg;base64,SUQzBAAAAAAAI1RTU0UAAAAPAAADTGF2ZjU3LjU2LjEwMQAAAAAAAAAAAAAA//s4xAADwAABpAAAACAAADSAAAAETEFNRTMuOTkuNVVVVVVVVVVVVVVVVVVVVVVVVVVVVVVVVVVVVVVVVVVVVVVVVVVVVVVVVVVVVVVVVVVVVVVVVVVVVVVVVVVVVVVMQU1FMy45OS41VVVVVVVVVVVVVVVVVVVVVVVVVVVVVVVVVVVVVVVVVVVVVVVVVVVVVVVVVVVVVVVVVVVVVVVVVVVVVVVVVVVVVVVVVVVVVVVVVVVVVVVVVVVVVVVVVVVVVVVVVVVVVVVVVVVVVVVVVVVVVVVVVVVV//s4xGGDwAABpAAAACAAADSAAAAEVVVVVVVVVVVVVVVVVVVVVVVVVVVVVVVVVVVVVVVVVVVVVVVVVVVVVVVVVVVVVVVVVVVVVVVVVVVVVVVVVVVVVVVVVVVVVVVVVVVMQU1FMy45OS41VVVVVVVVVVVVVVVVVVVVVVVVVVVVVVVVVVVVVVVVVVVVVVVVVVVVVVVVVVVVVVVVVVVVVVVVVVVVVVVVVVVVVVVVVVVVVVVVVVVVVVVVVVVVVVVVVVVVVVVVVVVVVVVVVVVVVVVVVVVVVVVVVVVV//s4xJ4DwAABpAAAACAAADSAAAAEVVVVVVVVVVVVVVVVVVVVVVVVVVVVVVVVVVVVVVVVVVVVVVVVVVVVVVVVVVVVVVVVVVVVVVVVVVVVVVVVVVVVVVVVVVVVVVVVVVVMQU1FMy45OS41VVVVVVVVVVVVVVVVVVVVVVVVVVVVVVVVVVVVVVVVVVVVVVVVVVVVVVVVVVVVVVVVVVVVVVVVVVVVVVVVVVVVVVVVVVVVVVVVVVVVVVVVVVVVVVVVVVVVVVVVVVVVVVVVVVVVVVVVVVVVVVVVVVVV//s4xJ4DwAABpAAAACAAADSAAAAEVVVVVVVVVVVVVVVVVVVVVVVVVVVVVVVVVVVVVVVVVVVVVVVVVVVVVVVVVVVVVVVVVVVVVVVVVVVVVVVVVVVVVVVVVVVVVVVVVVW2na6wAAyJQyhs1644Cs04ISwgtGdIYc8uEexqCLOiuABv5uBQCTgI4Bi4cbJho0GHgJMCJghELKxBEaM+GNARNOQNcLA3IjAAMWcQQcEeLaxK6JViKgDpZwAGyOaQxljgIMtggjHQC4IQMHWhnweieRJ7lAPUj6B+//s4xJ4DwAABpAAAACAAADSAAAAEh7jngcdKIAACsDhuvBJeMLUPiEy3Oqxi9p48eRPiG/fv2N+nzrV5ZgQ1E4v4e6Uhv95vd/GVk7BEpTUNcKUWBFuf+d4yhex/7tyZMBhZQAQMC6zx9MUg74qbCL/lCkMf/1S/k/wQ5eXD6gGfxvk9gKMzCMaEvoYsAxdtZjvs3lkNS7DGcprNLvKzKpSzwwBAwJ81ExesYwlUPU1qZ5B8tv4yiSmPDxKtDN2s8tOwAVOgJoaYYgLZM+sXsZSldsi4Lucd//s4xJ4DwAABpAAAACAAADSAAAAEM1albFOwA0FcTANs8whhBkRV8nEye2ENU91euHtI7Qul0K+r4SszqrPr3+84mSZ0Ok+7cUDF9N1eIIDAbybKRGcFt5dh9YUHPZLgIghwP1H1sAkLmEoQZDIaGT9VqV845b5z/1l+uYazmJG9pRLE43vKWb/X/lvsAKKsl3/cblepB5C2SeEgBAROP5ah/DCveg9YV+aPly7HYtLFXrKKBBE8SkyhRsdbO0z6oU3boJ+hy2NITCw4K6yJ9z5gdI4Nh6Fn//s4xP+AD+x8QS1rJ+GMFyENh5l4x5Y7/xXe3yHqcs7bk0pqAAAFopJC5RIifFB3YhJbjXpPfpZ+/+tazz/nPzutjBIoDki8Kw1zndYfhnjJG0U2jWN3HPLluAQcMDgyzyx7du73CmEyQdzcafMq+iTBMkKQREfvnV6flFrb1V8DfE+gkBkQxGDh1h1mazk3srHBKWCq/G6z/y4fSD5BkE/h+9Lzgha1cgDGJ27Daiw5KHkshQZSmpNU+5Rn+d27GKLO1vPTVAuMKGI/j0nysR2X1MNWfwy1//s4xO+DFGzzCC5p69IbnqKNzLG4IogtWHMM6TDdyHH0Q3EaHJTqtWsfzitSUJIa+9ekJldKgNIvwJwvZ9pDUjBNtmlVcSikcoDyVFR1SnEYwJuBLmTW64vhvYoBOFcCDkh7/4huXidzRBp6KrEFnwAAFqG3bgQrO/QDhVZSNI9mnT1TqWCJVXjUci5iPCDHSnb381L3+70YzDGJqO/f78RjLY6B+Bfjw1vFsbbj+nV0fGt6frRLzHU4hynTmd5h332GJVqitL45i5jhKFiLe6UDPb//WMUe//s4xLuDkKzzFmy9mgImHeKNvD14sykQ2qUnDA6yr/OZF8sdKhpC7rWAi9TWCyUBNgpk6wXVTPpQKrAwdtOg45WfagzoqRrOzKM6ILAMjFgKxugm6Ztvw2tY1aRVubWsvISlmZmH7//+EMxrOvdcwhknwoXGSDqr2NA+PTW37ciYrChKXMZtmtf/f1iLPe0Y41tdutGDr7K9KpmEweWUTo3p1VnKLUmVAAAFgSIWyACs54nNACjXSIDDTLIUnVtttbpFDPzFiGVQSCsRWl+MWtbut+W8Tsar//s4xJWBkDjxGGwh5wHjHiNdubz4bLFZI2/Coeq6iQYUl95h3UKG1rNbMRQEHFqHabRBoiNYzSYc69P4jCdFku7JMqmtTp5MMu/96zq9I9JyrkNxjYIyv/6IJualKpxhMglFbTN7rDkAAH8R52zI8eioUMgnn7cNh8YqXu0+OHPTWrvrRVKrou3KFik7+sa8WSmDHMjEzrMOd48hnQccJqzB3jGK7rXF9fG2E+C/CWQhPo3ELO6/Na33WrFI0oEgxSjOSkG2fT41/v6bZ2msQP//3kRK0FVF//s4xHmCEEDzFm2x58H2HiNesPAAnixtBILsDaYi4mMh5QAAAAAM2AGJjXIMvApznkVQdpB0KidOuM0WlI13rhSPuI3O2o6Ld/esJglTe3J6HDHVkAlmrl+V4S8AnP+s0ERUcxFaifscektWRlckPCEMu4qSZYZmkzQzdu5KRYOhw1u0SdlDqDRLeyxYTcW/OWxsQmmKWMn01f////ubv/////+P8ua0+LZH17tIBK2WA0pAfDco1lUwVNBgacILqAJ2i1JIGcKHoBUCcQvi12A4rT08ag6V//s4xFsAEXUjFnj3gAJYHmCHn4AAw7UmZFRJHNSjMhoY/NyqnWitEVE45MfKCpTUjVutDb4WW9nIpQU774iAbTSqJ22urpcV0netSnHXaT9VreEBRBrzArlO1mHccd8x/HHfJqmi8VcWW8l1ae0P00v0yGfNbzCnIkyzzgw6XhliAwQAEojbDNucYJJ5DppbcVp5m5VsWXEzwJRyjuZ91WMY2XQGEaaLcSPuA0jSnefP0U7l6PHkZoTkggMCDkrb5DuVlYYLDt//c6sSn87KgUnfjFGpwEQY//s4xCuADdWDFUSUfEnVrmGMwo+JWhIJIAKrOkYL67+Mak1mWqp79YbcWTooAADkEXsXMUq9ZsDjNGl64rFKIspbMO+cnIKhEYmLdcfcYbnN9VS8J2O0XXypXdFpjR6nfRXA2hFmPJu9rCsHg4YBWY7p+LjynMYUGBEFKfv/qilifDjdtIzal8I6Zf24gpkPoztJ/bTkdk3FNkThA+fEU42IA4hpQAsEsIvrFMBEiiIt9KU9QV8LZmD7YD0J+UJssRLGvYqhD4XJImPnNzQrCeBgeV3p1J4p//s4xBsADwDvCCMwr9j6k+QoEJk4hLb64+OWI5gcPlgGhBCQ0SNynfyuU75qeYovCgUJBiGSpOrt2Yf/ztUvr+6BJZ3YSx3AXpC82G9dkK/2u0rpvn6QUMFAltH/gGRNpbrJSmyyFD4CEsejJB5hRh4MSXD/H6IucZv/7ZJGA7JelpZv/+8uNHjEfjXzRE6fTkcOsd9dAAAjQYo40+reaebl2VMKHS62Obuw/gHSacFUi95bhMKmF8g7VhoSWmTShPAgTIiUQGZ9Zd5kdGTyzEOoyI8myJSG//s4xCEDjq2FCmYkVsGVmCGIhg4oEiGP/9yzWqkujUo6GX2bsjMU2CEygImoMw2RX1L4g8W0b0c7xklKUiIzUk0o6LzXvEI1ZeUhBpICxReiEmtjBRz8zYeywjsgIISxK4/2v1X2S4oUDwrgda+0FY6ng6E1zmM/0LSo7FNMxCQ1rzzhTYU0P1tOoYCDQbQFvWXY4NEUpS5jqT7BUcEjVr7XDokhQHENCEKTy1BtAArMhaA8B5uVunGbIuq+Pl2meiAQZ0bikdZ47SbFQYzf4epppGEO3LN///s4xBUCCZirEkSZJ8ISnaLesvAAz7m5PpJEsicQEmqN1jxwRFVg8+D7CHygPba0f1qfb/T9raYAAECQYSiccOH1HTFROOs5VQiAEDGQMbTQYwDRUr+tbEwQ0E2AJwBWBDDnOsl6lHrQu0n/+fr41Fas738bpnwYMkmaYzp4r3NsNBkiw0+QcFQCoDAWSEFkJIPyOhjYsxKSz63u/nfRT80wQGzON/////4iR4j4P//j1oVQUUf+1ppJpi2q21ioDItW/90Y2lsAAA3HrsEO2F0oBASZPt9l//s4xA2ADbUHY7mGgBFZoCs3sNACprhOhlaHnbNGY+AIBPChJQKQS8N8+iCeBIS8MEKSHWapzg2m813WSBp55DpWTN0ROxPAvhcWi5kPgT4LiXfWkSj3Vs3djh0x9bd3+3/54TP8H06AAAAG9gOgAzgM3VJAoDhyKKUsVuU/MI1A0NT0vDaAmwWSY3ksZO5mfZa6CN7vTSLxmdL6iQKB39dWv9Sl9Kseo9Tqv/+qr//Us3pKPk88eLg5i4bEKbYwQADtAIwAnOikiKJDcwc6Ti48EjqARcXY//s4xA0AC0z1Y64w69GTHyw1sx8CMAgEWATyoShuDp7Pz7OQvtEyt5k+UYrpV9te8co0giOH4IDDn17lFnX+t+/f+ZZ2///+lHVzFG5MBgPDCwTjTVIiGGALkAoABAGiEKUKHBgyi+MHBUKVFlKjDQZLZnWUchdHDUWjNNa/GQ5ZVY9Hcv/6tBblcnu5YMEh6AK8MmAhKvbjckeQhnYVPx7aKpaUPfbmlFX///+zaGwgB8EJiAuF4ZL0VYAAAABEQVwAz1TB8wtcDsG3a6jMhKAh6QMaQgSH//s4xA6ACkj3U6ywqwlWnuc1ow2Y62rRKetq3r10OgqhpaXQyiuYz9WqHQ639pqlZAMAwGFvqHRUzW/63Wn8qFaZ4kLCww1BIWxAAAECfqBKACIJfRSRzewf1M0FMEVMoDMsbMOKYu/Mrdro4lQKj2oh4JClGJEcCjZ0yLZtUOLiy1gYVeP/Y1Upuz0BCo///spRlpyf/lSvNdQESVVARAAAidYJAAdVOZPE1quOZaC6aECoUAYKBXGp4+/uDtjzJGyTUlCCCKVz3PzfNCGMxkFkFmWiKg+K//s4xBwACkzzLU2gTclTnys2mLAHW/7i46GKSKrYUCTNX+xUIolAb+iqC/mpAnFMJuXfbaxtgBncMlyqA2LoZj+vP8SHi/QCALjWhDDhQaHjEeCYz+2MqvlFtxTI/+GMOf/8VfN9Mhib4Wfe+32yX3TWsg0rhj1DnE9wyt73ttjUDuHx6nPZNNC6pNNpUYQ0AAAKteZdt2U/AbEpWAkDahjzfp6ISUJiZidwac57CYQROToPyBQ6xiOj/FEhuNfgCMQkawJx2mHCHfVo80YJWXMvg7iwo6BS//s4xCmAExUna7mHkhFQG+53noADAhi6U31tszBd13D3tOKghA9H1eLDbVRe96Upm28Tqh89OsQgJAjI0rm70u4ibT6EKBcwv/v////hXnsPxsiUj///yquWP5HLLLJmgAANR4h3n2EMQhyJELmhRwP7PIq6ewLuYYeHYN0xKE4u89vCjaq6ghDI0j9xd7+4/iY4eRFpx1Db+v1+VZoZ5DoGwtqsN60NFSTYouXFFZmJSbRnPagGACIdmBCNMgqPvJHoI4ErhdKcrW4CJ5etzgALHyrbybG1//s4xBSACtR7a+1wyQFcjnH9pgneP9cdOGp19AgTXKkUlDxn1u83vd4jqQ32o1h9bRQ2eVfhtRYPAFJwKJab9Qeg1Ms7TMsy3VuMAS2ONlXcFCwsWm2Ar5BC88ZoSxgw0DIZybg0Se19gKER34TPosQhEjvqcZu16jnykUZAAAH5xAISAO4gBIXB8QixYfq8KgBYAulOsaQSeaYFAgckKVBfgCcenJ+VjZT9d9Ag0D89YNjrM51fCk72eR6WPhIQCtP1xqWLreXHtXszNkuFNT836KX/s7Cg//s4xB8ACsjVbewwsMlLoG3xgqKmsW6sshk9mRFb2YDB2VHQaVD78u2AgX81rFTAiCKFAUsMUbKAWGQtfZkjMk28i9Oq9itzBk73b+5jj/x6ZnZTAT80uZsj8jrBA1+lGq3VhcaBWQplSUpSMv3Rm6EMDxKSi/f//t/7NcwKHmKqiFGAATBBeAG8sXDKbSNv1gQTMecIygyYHa+nsDhUTb1xEpmwD+eZeZVKqIbLo6b/DFC0N4qJPm872/lHWoecQUoxiJPRnp+iJ///zBwqNhsRIHphAygf//s4xCuACmkDX6w86YFXICrdp5UpgBSWazKTbEFWyp0wBNVgR7UH0ByaacsChh6PZlls8CTOCujts3ERgGR1cugtdREugy4iXq2peJFoNFQwTDDsU6G0X/h8TZZnMZ/61lqx3FhVpYwzU3LIiWwAPBlkyF2CNOa/GtARA8kevFEcDy3Y/ibIUzcqicGkcx1EvjJIlw0SSuOMMFfKMlHZ7Eg7a82vgR8//9OQ1gCcdNP/9RUv6/8zEexyioCJmjCDJcksRkADUZqCElQLKfhDRiGENqZTtC2n//s4xDiACtj7Y6w8q7lPn+w1h4m3P0inNc2ETTw0Mdb6ZiZ+F3vVhdUtuc+XX+tqm0qSQK1m7y/+M8/8rRFQ10k1b+Qbp//Cuxq2IJcatWEwSaXgKvWepkHs0roZWjwBYg1nDAbiwQkLYxtw413L32I/PqqGKQOVKzUhGkujlRys8pjAJGfmJDZ6nbT/RDhEPBEBkTN/5imHuPD3v9yhwfAAAJUIAd2mbwwaEzpbOTPYuAQJzZJ8zygMDLIMiCkN2mLdFPyAGo+Z4SZJGBNbR3fBxvKoTbWJ//s4xESACjDLTy00sTFSlKhlzSSmx/IwIYy2c/Sn/V////e+1UtJQSD/0vW824VlJIkqAAAABjaIgADDkdQEEzD9PO3A80gFSzwWJprZakwiX2oM97cX5d9YquQ5Nzj1U0oVeLzrS2eBa+INlWh4ckMVdd+U3xf+qqSeLWkjQ4NO/XGiyEEoUMkTEALD/YYTEEsjxUmzAAYTT51DC4kDDUGjC8zzNJIzBQkDPMrjDsSjJINjH1IjOeZzLMGzAdwzWxwFAmdoqphgeHqS4AASjHP5YP1soBlv//s4xFKACtCjObXEACJlG2TDO8AAm+Y28Lv2db+Vc3Kd8zx5v8b1/n7+ml7PAcABIEQ/L5JfpWZGIxmYjG5ZB541u4tswGAAQAkErR2g0+v/8/7z+//////42/jv9X5q4AAPdhcACF1YwzohK47xqnY0YQrXi8YvZ9iEOFIig5YoMcaRpnSut8yNFJFynL5fopGblwxH0g3//084yC1ltb///qpmxiW3UbueLxcKJOBZMARUFrLjuA6oiAAfUhl6TEXExGTRwlNAWArmLRQ7osWIbxDVFZvY//s4xDwBCuTtV12JgBlHnaqpp5VySYLOKhQSKfUvh+oXxbw50Z86VkeyHvl6CuCBgHoRXV75GE6GtGjkURMn////9dDFE0QQhSHWiGAA8/KyyQFGkxPUa/z0bYfWwPaUxhPRCzefXtRDf9BaxCIu6pIpYrwZZ1LO/imd1IwjfQ+UI1/HxvPMvepi+mpCGOolv///7fpdgQouAAgRAPAASyX1iEIDaXZdx4VMTPwMFVfJQ7fp+p1fGmTTspVuUmtZ3WDASBrBeeQZWp7jR1fL8ClOWOku//+v//s4xEkAClTxXay8S/FTnarphiFolTKr/qJv/9wkMEM4zR4ShSubcgcPusMVujBUwAtY9iI6UaOlgnA7Upl1Naz5e1a+/vdSmzx5/1cddz7+Ewu6RqqyGF42p2ah6epcf9KlcokkxvTKQjH7lK36YGRppM+sJUYXHVYf5pya1AZiEOs3ZRJUADBoLoIiOPIvokRaMvgahxrakN0hmKrkvoq5YsJmjSWGA/i+qECgMdmfp1D75iv9/qLAcXHnEAmhNZn/ScYKkHjhECO5NtWmXRmqguPqZDS1//s4xFaACqjrYUwJOJFQH+w1h5Tv3joOBduXbRA0nMEHgLN9VaKdyYq10u7I8L8dThdeplKUq37hCVk++2TPvrmfdolahAQsf9lIUMaia//VZQQTDQ+rU//saqDCqg6je317FDpBRYgW7b4UQFABl38LkG4SSiGLzjKS9ugnso1XrK0j1HPUw0PnOhv1O/qfkI05zsMer//VJw4YpP/+iFuQKni4BxeBcXtKl778UW/Rxc/VgAJrtZRJVAFPL/ysF/1u03KXbmgqTEbvKrfvxZms5l1796jw//s4xGMACqEFX4wksvEyoC308SJvLPub2+PedsQRHejoZKQeQAHlgnnFT7N6P/gkXcwGEg6O9X//MRCnEQ6InT3X79zDpYADIIWrbsArACMyT7l0RWo/yuRS3q0holrdT6rLGJ7119VtZyypi0JOiHYaKaTRRvumjtN/ize73ogiTBo+yffHN/bTh+HHv3hmrv1Ci0PBssMNfeqkBFu2RAFQARmT0sElB5xW21RFyGtl/zLIdnw4wjudb2uQrJ6VzQxbUedI2/+J0vJLfoL5kYmMyoYUeuOe//s4xHOACqEBa6wgsxlUGSz9lYpgxHBiCgkQ4pvjn/1CB4+g8xGAGf/oQ8Q5gBmqwy1AAkAJI+tsmEQm+el3wcoZcrP5BmIUdpZKFfH9J4uLBLDuhEOwfJuGP8UaWYDT2lyr+jZpHGrfvar3wbnFjbPk1UcuFDI5TmKAvrIKZARCVphmAAoAITHd/g2C6ZQbbCKIUhXPqroI2CAeGiqCei2IarjI57MsbF8lTwr6uh+yHOocZWyMZq9UMQgMICJm6Kqf6EFFQupUrqhU+M+woYtxAUBnp0gA//s4xIAACoTJbaeYuBlFFG989ZpWc4A2+rGegNwrGc3yXvyDhcI5QmYA4SMnDwnrzHrf8D39ifoW3XOkjhqyr2hGVgpsZbMq5HDBkwkBomtoCIklyj6xFvkgXaOByqQiY3JIlAVJ7dyUJ0sFiEdVsMjm2Y8+rYAtid1te6zjDJ0WpxhvRHU5UHHhgeH+juVTCw9iiAhuSvQykiCrU7osnRXHnIg5EiCqv6FWJgwwgicOq9BADuxAE3ACYpMpSupvJQ8T4At4OjDkbXms4v9FGgEuusgLLT0e//s4xI6ACmEBf+eU1XE+FO289g2YPz9GFnOc7gIOlZ0crInIJiIwBlnccurfJFClESTGoy+5kOcIKbM6pb/VlHCDOP1VrMKSVcMT9r14I4yGQS1eTfwTGJWaEOd2dz1hvNMTyWKSMcWoKfWnsWeQTAMDPsYqvomriYQQwhFmt7vnc8WCMXodDmKSRaOJFFbE//1IITIVjW6gQAkyUQXAArFM1izFfTBgBDXO67Arl5wTIOg29ZPVcMrsv6eh1h7cvy4gBoW2RJeRl8dfLLYNwajovk11hAbL//s4xJ6ACnz9c4wwrLlVHuz1hhXRAkRLno/oRjgwZ7tf/3U5ysOQxCB6lZUgQhEyE1hXgBcNrGJAFlrAyAPyEaJiP67UEkjRlYMCNEUCj52mzRAzernEKRJFU8ENmxIu0YJEMrP3IMJFyMdkMwONJZK3R9aoEDnavX/9k7UHJhIhTTJSBdAFIuA2C9XwcZPE1DFyXMQHYASksZjOBq22BfHDSQvvSQnppWWxCVcBE+P2Za921bfGFKgmV0Fyogcdn/bzsURAR2T2t6lQ7VerPRAYsqrBBBFE//s4xKsACljvcWw8rPlWH+209ApblsJ4AHSr+dxwW2hJxy5TWkmPoQN/HbQXkFHhVuqWbpgBiTCEklSbOcPHop3nmL17OTdRiK0qGFKQmQcRj9K6kMKiYdZ+9rNciEqLMQEHs6zcJsiEgABoFYAVspQY5E+wpwFQXecI84Ist4+HUZqT7+rerJsSNB54QVRyNZ1cD7wyKfp9PpOVUIExjDWIYiiBRIc3qWyUo5hjF6uW7S0U7NZh5Xxq7JaAKCdCeACHHY3hwjobbG8BvNRNm6eEWAKhlddo//s4xLgACnkBb+eksIFRoK409ZZLLGAsyGezji+yVOnn1ddN1OUT+FEsVF6vKwj9t2hZmWeFBsfwuE192CBaJy/apKy7KJevQIcjqBBABBcALAFTiEuBbdOXB6IojmhHIxFXrI4l9I4HaOufzdHlT0LFNr25Ue5qPHsDDqad+YdftVqBrgQ4NVNBcP+rka3w2DFAiGpJ9Bm04Rgg0NBQByqwIAAACoEoAVKmL+I2nxTNFKcF5AkgjCpeqlGgqBOtkyQrqPTGIPpLFb4Bd1+b0xbFWFu8Ud6r//s4xMUACrD3c6eksJlMHu209BZTRwFL/+9VhhRMziGUEqgYsvJ1P7MJUsW2zz7S8a960YIDMLcgAgA1KakbjAzQWZI/xkhVkCrNCV1afFAa7jqx9kuDWuiSBZxgfG/8WSJvqrP+IRP4An1K/6ll9jBzocWue5H0qbqZTX/qMaxf5xPDgxApinKAOALN+MsqBxU5KE9QMODvS9SHp1W4RER4Zoz+SBxou2cNUgMqdeJeJYlqi4Hgic8ItX8lD/hUXvOsv00+CMeNQOhYGxoVCIBULwJDKssg//s4xNIACoDzc6ekbRlVHm30xY7Pwaz9Gmq4xv/JIWrJSSmFuUxsjqAwFAAgAmajwuoCgM1b9JQMVBmVqBFUtNKLjCB1rjAmlJViwdHZDVxjz+0v45YWILcGKh5b2ceOe9NP/OW2mJ10nxcthCWgHg0cJTEwyljJmSxFKcZRlGCv/j1r8cvLiqhfyYLVAEcAAQBLqWAl0Eg4MeVoz2BFeS4QAEw2WTdhjbxc7QZOigmcVMosKnpRq8LJB8AxhnMl8+KZC5yyW/////3GZh+oF8/tWK4lIBw2//s4xN6ACqzBW6wUdIlQnux1hA4nuKDjU8gSRPf56qCTb/6ym7QuMXfVVQAQAXFLCCgBhnUf5eRhaPMguW1zAceC42eW5q0Z0jEgKH6sYCAAQRYCHKhGiweeX90KVL/ybzS1BEPtviCeP/Ce0RjV7nAcH74vioTjiX88y+HiStHpxVxjkFwMhvxTTBEo81AVAIIy5kBgC9Hx/AGw/wkKUcqqY6maN7P/L/8xoJU8d7r6HSwHz/PdPk3N/rsrjcZU5VIqm/KgcYQoZIWoRgEhaOiGqv2EF/G4//s4xOsBDHD5Rm0xDoGOnefps6aRs3d6SsHMYUHgJjx5mhxQNIg6PwyJAAgBCCYMBohjTYGHlCUKAgSRSUMcVN2DhZilAgAJ/GOjHCBG4UCAeWaIhhaMs+8EOr1U+7k6681Sb5UsXpX3lfsASsAAAN///01B3FHujBRnffqR5j//6/UFPtKYpZ+9Wfd3Ig6TfzMAtYnqKRpuR99Gcyh3o6l+LKKKJWJOJOtbQ0HAmcgQYYWAtErijioAVMkIdgI2hdUOnswLSX0LbNbVjfLB9ZW113dwzKp///s4xOiADCDpNO4kz4mRIOh1gb376aUAACAAbYgAAf/t///s6WCkQpn7OUzEeHOzf/QQJTUBiKWagr4V4ne7VCCQheGu6JefqiVq5FKLAQQZ5e3M012nBcwEsWUOV9dMsjHeFAb3IoNDA2oH0/X///RZUIFvjtbGZKIrHQOCin/o/xDbh3sTmbUsR/tuBxyZgnQWEuRPE+aSwJ2q0KPEZLOhRtF3FtDYhFMOA9iYP2+2bQ5Xs+0MAAN2AAAPl////7Tkd6FQPuqseA/6nFxdP9X9zfN1P+4Q//s4xOcCE70nNUeLTYG8oegoAWF7g5JGdPoQuCahUJcBXDEgMhfiYObKDhHkTdiFyQ8cw9KqOEm4PM8Z6uE9FezscLYgAATAXfwCgLBh//RjUbPvS7JRchXjcWNwInve6nXN/jw7KAvhYEtNn////f/zmBlnlpjfr7/cV5lMw5JVczkKaFAsJgtFYYCNM5MGijR63qSFwFyUKYMI/UgoH1XV4MSJQNUAVWiAZ4/gAAA+lW50T2ACMDisBgY7vrfOkWOk6mQAdiiYNmMDc4DdALDA5MrrZlrT//s4xMIBSikBT6El/Bk2IOnoVL+CWaBqKSlLNw6AnCOHMQNf/1vdA47epFXQEIAwnB3CsKxIcPh/XrTcwX3xlIjxYeE8PEq1n0KixDusRMRdUCQBcuigsYIfnCrZo2YbgXAUTQOAIW88sXMjEmO9C6MKZcjEJXaE4Bh1D0dyXZ6f+Z52NWVIv9yc2956A4CxTZY7e35k7///zPAkUSDEoBATTqdOHgqZNodVVmVVEAAALMVFgFMcAtTCvBxs00EV3MQABVTAFwLcxyMjLc5O7p8CDAwKA2DA//s4xNQASjkHUUKl/BmHIOr0A70rUamnRelQuBwkjCYIyamrqJL9llSujO71jPQnC+QEG64SgKRMRNwacSJoTACagim6ThqAcwgY3iBFsYhxlon20C/54yRnSkbfegcRQon2RS0XqdlM9bblwqoAiJ0FFb2Eg991bJgQOWZF1dClXDiEqeNZTPqanLBIL+dV8mUDhSi9JXtigmFFubSXm8Nf9nv0DLE4qXK68D2dzqkAcMTm42DFd5uUDpn0zl8j8Jm22HnEjQ6DLmf2w3D8WT/Vfw65v9nz//s4xNuADNT3Y+mVmll0mq39tgojDZJiRAAPycQSmKUgAAIyTMaeEdBjNi4/MKd9BOWAcWcTQwKdpnqR9RadXeLrd1QrBmkS/aLOSkRVXWcfu8/cEJrOtPmxa6DweTKHJgjFttNWofkVl7w/E9/7KIqBA8330k/Ouv5b/8Np3zXNdsJQFRpIIeegAAATFvFIEExB6REOPX4PiQYnaMUfM+yIgUO2qBrw0GneRuu4uY1wFTVkVGD6vteBaRU1dWFma62YVHX8/tf9FB0PmtW6Ym9a2u1Zmv/T//s4xNsAUWjvW+/yZ5nJHmnxvK1wy/r5QFFSB5YANKAAugw0CY6YedHBgpyq4ZCEgwIMhNDIhkiAWvRF/ccauDotdvZRFnMgdGxD9VVSpBmDkz7NBwqtsTa9mdu2YCTK0Y/N80rf/uv5jeNAYGD0U/+BRKRA2ESh5cwMPEgDduGjn9jlgUtZVOabaoVgQnO/OW8LqJDCsrKjkV9io9IA8JrWNLKTRyX7vigaa9//rdrAGe/TQPGPUgAACLicX4+YYBUlPZ62CaPWXLl4sv+Kkloo14QsADnw//s4xL2ADTjzSI3ha0FZHmixpBYxHaFc3pTmlFS2d7flUY9///fX/6tabkWZ6NvsyoBCZeDBAUChy0HSzZbBNwDgRjAwjCoHFrEyGrP3VAYIDreo5eU8xn816NrtC1gqNM78LTBwPs+fNb5R4cwWKGOQscno1CfoQgQAECOgBlHG6trdWm6uPCoMVQZ6YDgwY1JQbWFQY+A6ZTmmZqtYcJM6euxuaGTcaRPqc6o6Fw2NBeDRI03sQNUMEbAEAFxE9GgbjeL7wPSWKmq9/mefO772vyvqkl9i//s4xL8CCqzzKM2MswkVD2QNlQ0wxvme689NU1zOku07tumX/RTBIOZQUGMERt2UfRcG1LBsi8fzxnFA4xg8jj8vh+tSUnMPt95rmFi3fo56/bzyqTdebuytc7E3Lf9chbAAFGtAczwCYWpRYIR1f///QCSznlb9ZRgMAyIZgyAZhYRhkMPZlOfhiEYBj6FhvmDxp2dRiy3RsXMBqiVxsaKxmQjJhMRpg4CpjEBhWDidLYX9feGoOktFPX5uvy4xmyJm6BEyV5nfDUKRRl3d2PmrUPoygEUM//s4xNMCBtR5J0SEbMFkmqJBowopBNjSWI6VeM1FBIEKBVHNc7OHTnZdar2r9Xuu85//v98///L9b1lSv7O0tVlSwxdISJoYRJjOrM0NgAAGSQBEASh9DIQVNv1c7OxzIQ8C654onbKIJhUMGPhQYEpDRRhrghcUUDxSUIvlC2myGrP/D7/SqXV7xh6sh7NvZrJUzbX//HoESAyJBxD////1fU8m6hw0GzgAAAAW3gAABlK5GRmMCQhFBhAHDQomV0cGxYaGJgMmcEmWQB2JACSkTsLQcFAw//s4xOyDVhT9Eg7vL4J0H2OJ026REEDxgiJB6egqxX7T7S2zv82I6u7/5pJjnqjKLlN/7iAiYeBRMASf////4mQJDVUAAC3aCAANTKhxjAASqXKmIW4MaGQhYdFpVapYatwC1pQOB3vcuS29dTpM/5uucTXhlnEFV72l4uHyvafQaboPUf/+ZmYKDWHNdv///9iiQeMPgIFJEiQB2ZVSM1QXCXe8CA9RmWz2Vuzuz2bl0qeatLlcPFOcgSXM4cCQRw0DDAAXqiog4yt958/FDCmy7bXNjFzn//s4xKcAC5T1P65k5dFznea13RUovvasJgOh5eGr41znyhhjalDBgB0BEZJ6hCFX7/8PUJ+bvimfKu89+lYtnH8jC1CFKyrdiiQBGIoCoRHMcEUm0Lm/zw0WeS6lwCuA89ekEv63NutLGoHBUFdA4C5iYrna7LXzlztQ9VjOniZ6n01+IuhE4alX8DBAMiv57HEldfxC23/ZsBxFnXU+i9mNWIQlDTCIPAsLiywylXAlu2AA4QA4OAsBq3SPrx2oofudxpHq8pVBKL1jSZlnKRKLgm9TKnzS//s4xKuCClzvR00ssvm8nmhpl6bLHf//7SMSoGavFJW7b2630k3tznPFEbBkwYl1vNdr3mymwjEhCQkQUJic8REVDaatpAVAAAG4TAVE6G0rR6stSFtygBQJUXJVb6ajgq8/+PzG0umqn/6v84TMmqz/27d/+7wwECDUmVohQ4GA1IBweVs8dx9s355aXW05z/tUZ2IkATYAtzuYyIVMv/w+r7Gtq5uyQLqGCrTFoIQsYExmVTSCgkQO6CFz6weR56/9unn///9TBcwvl3NGLB0nBMmWRIhl//s4xKwADZUDW6RhEvFSnuhws6bJxCY2d3ORJTJwsIYZFNnCzBNuAANLqAABpM9jF///IAR2/vXZ9+VM2euXJ3DhveFSMxpYOAAqMMOwSQZwGmgmqxNU82mIgThsUMYN3sI5P/2a1s884oDRMaFi+LgOIHZEECAySsl+v/+U1/z9q0I9DQ6OXhz9d2gkqTwMt+ctJnZukij2v6fsMWLajyBuaPr//5/zjjtL/M91iDBUno/B0O5QhLNyTiJHl6pUgjbQ61cdPu11ABKIAhAAFACGNiKMsj////s4xKyASoD5P6UZk0lHoGf0FI5x/J+2c6zOwRlwq/7Sq8YoEJ+nWM00waByKBhmnr+zbMUIVtMf//8CGHAGLVeaI4rixauLDMT3X0nLWYI4Uk7Vac5TZOFhFKIgDAAAACaZCNLMmCYJdt0EjFemQCRrfl911//+i6KSTmhtUXk8umpmHwkNcR6JSHKHKBvQG6RKDODkFYWLT0b/+sYJgVn5lEzgjxcVm/s0VIodoVdNvbRgIkwBhBxgGCIhXI9YVIxgGKGDCUdznGjTWoWzxWBRuec+ZECM//s4xLsASfjJYaLg9LFOnydgF7KgAKW3WFhw0zW/60PIJ/nw4KKlGIURF2i4GBwsDi6NahTk7fzM/xMPig13//5yAg9CZHtbRQG2wBdrUJALjh8TMPiYweIDJi1M+XQwWHDSBXMPgQz4IB4vJ2tCficCA1O2//zlYH/++ygbyBX91tEN9znZiThKeznlo2MKRMIpCJn4mP5rj3gij+0d6x6Z/64v3NxpBOAekeakKkAQC9vgG0gBhNYJ2C58uf6+dBcar3M7X9pssZa/1WpVmIpbiTWS8ax1//s4xMqACm0JN6C9FIlVnma1iBV5ju+FtJiB7mfzB8UOddC6edlR63nzCMahuOC0K6J88wxdDCJGPf//qUJiRBABETVXnFg+sAgAFJz6dLlAcsvq/O/v8c6Skfhh4EAhqhuGZcOZ1xx6YcniXqFTEtGOPJRUrT3QbGzLD2EyW3+0Jnv/+y0NuiAAAAALYADA0HjgFcDAoWTXg3wKChj2FZhuCosOBkgBphcCphOHhMI7FeRmLw1dq7j6yLDdXdQBFYQYMBGJCgsAGYh540cAjRxUdUTHMXIm//s4xNeACxD3Ua7oqJGmnuo1wS3aDMywx8HR9MHC2bxpnKTXNXaaAmnU/8bu5cntf/MdUy+2vXJXz+4OyxHnf//rY/2VP5ytS978mpozAusqaz3uXX/aXby/Wta+U18697yR93QR/Gqavwuc3z+jWAAABeAYAGJglZAUNBMdMHjw6O3TEoNAwyMVE9IEAgSFuTWbSneSpaQ/mXSlMbMXijMxaAOXSwBoBmHI+GM4XPaho1gyLD5pS5GTlUCU3QsAL9PlNQ+/EM/GbncncfWWWqu7kAaw7U3///s4xNeASoD1V6yZVBEfCmu+n8AC/j/cday//1/d95//xPVFaN0uOV7X7lcM5Y/fw5n9KDB0mCKh/3f2/Hq/u/IB5Tk1BJIdgbZXoAHzNyw8tIMREi4TKo9KtW6XHn9/59fmtXp/H8DmJSQZC4MWv3SN7Xzb58LeYNbQVCoMuu/0pEICV79/9P/+/6uLesJEiWirLjIZP5k1RGI2qbfbXz+W9a9f20ZUAUcY1O4s6skgud8kbExKRt//VdqZ7OsiG/+v/7Wfs9wqgD+BccMyBjCVw7x+HhCK//s4xOsAFVT1JHndgAJfGyOLOdAAsrQ4m/IBg4fBdMBhtQc0MnAINYlDR17nQuJvS9uawDssDpS7AKRNlFkkUu8jFNUm14FASgBfC7vueGPc7OePK05fYQYhwcBdx5+scdSv71zHPtIig3Rei607AgSHGH8w7z8/1rfMMsZy7vuG42XjYemHK2SXIxhSc///+f///67z//9///7qYoa4AgIEgEBMu1AISmwAAE/E176Tbwtu10IAlmpW8qTQQRnam0OJpgwDHSz6wiP7fN+GDM9zy9giVRuV//s4xKsDCShrIH23gADmjuQOslAAKpMwYHzgmGoQamnq4kNRhfUunb2deF13mUh/dWW7u5/46jNFGlBJDORNib8uXADqQP7oPJAj75Sqt2hhixbuJ9vo7kYxzqy/OAFvRF37P773cM401jn/rLu////////7Uh7nY8WKusAAAKILoAe9qFxHhIBublppoDwYdMtdbhu/RzsumAaBBSi8JRofCEMIEgoHAdC1DXRDTP////+Er+Zt/Q+BSogssXHP39OTLdT6RPP/+13f/+SYTXUkIZvWgCIE//s4xMsAEzEjFhm8gAqBIen3MYAA4Auy6lMWSK1DvMAOMuMiCEQIwZcqQh4cVgi7ZE0ja+AgOpGMPi2Sep2WL/jSihZSGygBDANB/cac+B0/vPzMzMzMzM0fEh80tT60M3Hw1J1jY1Oz0cCePB+dQZfsu2116/3xgUkh849U7v/6NuphDKrEAAAiCoAIet1xw6kZhP4MbA7YDANes6wMai3Vx0L3fnYu/NFfi0kn3qgGGnPX/RCxCWk4fL//8qC44i3RaoUHRUSEpSQZgg3/qtRs6qBkBs69//s4xI+BCyEBVV2EABnNICkdph6hDDn8QLTQsAVwBT3I+DZE+YQv8eEdsVEDM4ml6CKYdjTcxbY6B+gRXJufIJuNIpLLkEaYmhmUL20nttQ623N+YRAUOlQv1KQOqpSFDwmZv5R9DsjAMLCpA7SCzP8WVYAAAMQQHXiD0gjlIudQxDpYbdtsQODXEnygmTsSjLMtqqdYZxrFXXaj/OmzVhT/XQhFG9eRz0tNT9BISV/+ZlNAYPCwqZfzGKRWKsRArltTf8XDQ4srAEjmU6jRQifcUAVKjjg6//s4xIqBCuTHVUwcdNFiGWldl5XYiazGGvOU70EAUCXSdpZZjyUEMMDgGKx1YeDWLKzgUaUdgoGGP3lWnz2mp+qjR2/9FKkWnHIb6qhIbHm6Z1090MJP0JUIAsuCAFaG00TS+DykH6jFNN1sqSZnLUupspXOMSQAFqYKXgoKhgoIpkFTpWCJAyRDLHVs6y5/Zv4+s+tPe6g8QTaGvY7/UVVEEAZjaPiIszSH//QVJoAKKCk5TSDwWKFALmPtGsLqHyEc5anpt4C6L8lojHMBh4sudAoInPVw//s4xJQBCmzJSSygtDFUm+dNrBy4m/IWgMMUHh8JjImAu1+OXfrVshQiGOhNiOjURejm/p6UGjhgR/If7veqAkAMWjJ8nLxC5K3cr3LeniZlP3rMOzzWmxgYarYIixgw1Q1SU3lceRMEUDEAcMQgYarMshV8gx7fnxlmoEKBACO+VSH1d2dtkb5BYIDWfpR+3xcS7ZQvg5hiJ5SQhI2Y5HtBPrR76eEnjSa3BU5J8DwQ2icscFQVtZlayAZFJxcs4y+UVxlUarZXXoCgAiCvK1mlr2K3/zf9//s4xKEBCqC5NO0YtkFMlGTJrJz4/nN87dm3EJH/+UqvNBdBe5GpoOOFJ/KVy6a53VNEJTEnOTxiZe0t6GGPzdMsKjGoGagUBFwKtz4xLkfASIY4By6grRyGaQRDF7edmntfn3+5zaIa96zxRQadOf2H9Itovo+C3YPBwWoj6IuCkWtQt6Uz9VgumhNNCiZ05tmYKodmHSIfd0lBYF3Gn6CrsxjM8dImgLTsUNuB6KmvT0/n9jtFUjgICrOv6uoArm9P9zlC/qogBhfjgIgwkBIQRMBKa+yQ//s4xK4DSmCjIE0MtkFCEeOFlmCodDU1Wkm6XtZqaS4LLSe+oQygwj+TiFRvnFNW1///piVzl+Y8tijf0en///VGX9OvoAAADggw0osDY8rkHio4gYzITJyYFi0p0pr4Sv4rn8U4N735q3I43UYPkAKGnmd3uoM54axcxhVHUxHxXdmOsij//pqqNJ7+9FrKagMhtWb8SZoRp4SO/hX9fvtRK9HsM9qNsBU870P+V/1N6n///0/87cbQAAFUFg4OosjcUl85WFmFQYMEnANPFukaG/Jw6ZQq//s4xL2DyqCRGgwnMkFKEqNA82pIyU0xqQlI7FZeygHK8yJ64fjCwKgEmmEkSosRZ5skzNTUNRbSqLzMZR6dTzjLdecq00o7FbjIEeW1Bk+IlGV/DhSGNCTahlD2nG3/Bhr1Bw7QkCi8PIbuZVSJniOLcFKNRcpmBgjIaFAINEUAkKFcncG4vX6EVrk+LL8A7CBGUQsELGoWF3ohJeLTiHopizDpJLRlz0jXBCd6jaSFN8ZQMPRKCpo1RFQlWMQXqBl4qlH/t8Xzbu3hRR2/3rbfZcvf7nel//s4xMsDCBiRJGG17QEqEeLMl6LAl7a/hD+C9u5YYtqZDQQAuHxWTJEoByJruUgDpgYtGURycKORDiy9XRzdIOiakbSMv3MTJoOy0NcKu8KggzIoc0/ZZTwxiQcBoR8zeYJ6Ii/1r1sfNZX3dmm5p8unZrLedXj1Dbpv1fy+F/p9z+IK4cEwjHhgojgRtJFzoYsVIlsI0BiFBQgXNkChggJdUfEdbUd7VpAEBDvLorb212uCd/6cYnSKTGx8kDLNkQTwhyp35Jj03esZ6E5/xDf4ZbFNGOqR//s4xOaABQh3JuCEZ8IlsaAYww8gseaOQf8YtH2fz3dVd9crGhPn6HtQjdWOABQWMRBNZIebFEjqZLSKzMEwgVpSsfbVCoSfglKF1r5tLLobLCBmpkcaSPcgqkmG3xqTZUnMio4aJ84CC3IhZxMSSwiWJX0epthREMHS+Qo0Omi4ByTojJy6SG04hHdsoj1oJEqqIGm0ixhxItIo3Zq6U5AgfCh86aRsnuFmW21KtqM/aU2umRpleu/L4UXsHyYyMDQyltNXpkWdHLO5lxOGx7JUiGVJOQM+//s4xO8DjKzfAiSYeAmBFGCEZJgBNbt74mc8KxpSX9LZpr+/kdwBYUQqEmC4p9PnITORbmeBMeptjRG5+GhU0Oy0z1VjLzjdbyN8yPhGR5Qr4MhC3loEZKHsz4OmtCe/VG5JGo/fv/9pUE1SLW0gKcv1gFa6C/XbVQxCt1CHSc4Pgjcja2Bt8mc+oaGiE66ZbZGwY6lNTOv01RdGIeRmgo6PEIhMD4UtZeFTKHnnYjOuyH5nnaf0yA6CgLzncgtTHSVxdwpuGH57TVGZ1WbcSBAAQlGwgwR5//s4xO2DjRUxAgSYdolPkmFIYwz4RM3As+25QTV5Y3jRNmPprspr2azIlR35TkdvGt3RNMQQdWns9lMxz20f23RmXp0eV6Aq8LM7Ck4uPnmLQuENEf3y+0WFYMtUgloZCJmDmgLBZrQWEptGEDmh/yQ1voYPQ1aKpqzo4NkAW8UYcKwqGDhE3Pa0kWcMQkpkGEl1AFnJTYt1dqL6vx1brna7njkqKnrhjSQdM+QqW2cRLMxkJ8243ekuRnVS9ItM/t/+5TIydCNHJhX8KHwXsaNsWm5kwU/X//s4xPCDDYEdAAYkbclJl2IIYY2VsImBAwcVLocPZhznvEwIqgUu50CALrIG7bHzQeOQkqEyBlprc5RTm5Km1VnCT/CmpiYQZFYKjKOR+xfTi9oMDzwskPNHP5Jw+7KfyPBjuX4h7fU0pJwqyfZ8UuDLcypf8/K0/pWXHFc8dSoAiUwvEVhUmBwTRR4MvqYLWS/QqfWudsJwJk8LKOD5OWlJco25OJhUCDVjGGFzKa5BjaSwKcQMPSpBEmly9Mwq6jpkJTtYIWeyozoQOA3YglHhZy6NkTeT//s4xPKACtkXFMGEemnAMWEckw348tKefmZl50iTkQizBH8MZy3igySevvJor7DCStL/Mgwe1NCvXw5RIfrj2gyml0wIouh8kDjwnyVdbxUkieICCAlejQrh9jmFDTEm2Wp4kyqRI6OuLJskWocVRG2SA0QkBKiRoShplBTVEKTdqST6GDV5NP+VXl71i7XK5lw/+1JCzQy6m98qWVv2IPQBYKMKmaIAGoBdMCCc0eBagXtQYBRzNL+EwZNPmxDYG2H7b56/xeaI1EdgQcWDpgtYfsFyOPw9//s4xPCDjIF3CESYacmFryEIkw05myt4SkbcL1XLOoefTNDOFpfeMdilXcGj3/7c07tbW6e4+J3EKd90gVBEOqIP0ztrCO0xg/NQ67dLWUd0t9NISW24QVuoabGp1arimpKIA4EUiEtD9LeZ1eXP2TtzPk7I5lmtWeXofelzq1ig4gkPJXUjz1yyPO39rB0kden2h7VfJXFbvMcUcc3VUqiqdilW+rb5GocLKSA8RPuXXtpIViON9YVkzytNqnEITTEjFjYQIo2Rw6oIazL5UFs8Yw40MO8g//s4xO8Djj0/ACSYeknfrOCExI44LRUTVwaO13IcgrVFIRI+H4ceK7jWT2b9OzvPwdQOTP9cy6B3Veeltzs//+KMBBIEJ4QmhZABHyyYoYBYnYcw2BmaUkCWoiY10QSHMcWNTg9tXTEizDV3DnMSnFNXZw5IatmnvWFn1qhd1y6DJciPmkt2I7Hd9nmRuur0s6VnVptj6NI5FPXdqtbUzalZFhJNA4SUNBFcLW+gQAXSqJHA5wjcCjCTguwzsYRNTdEw1qXXA1mFGNGEI4lD9tfoHJpIaiF9//s4xNuDjAEFCEMkdElop2EIYw1xY3b5/fKA2ET/v/b+2ua+JDEjI43xRy28kfAp+k3XXP1KcR7y/+fPRljNWwQw5eDcajJeSlh4bxadMYwKx/Ekjj4QuEIYPBU2BHnmAp6tSBgxMiJLxB0/KufnvTAs+mb47PLNC9OGCzpYVsrP3SIWMnX6d/P0/WV1pOey7eP4dRTlSthkDvI/7ZMVU+2lREZaSacbkkCh1Q1Ui8vU3ekOua5m0CVd0d+r/XHM3L/31XCtOpPc99vxVidxRAAgKjEgBGAk//s4xN+DjJzTAgYYdkmPsKCIYYtQsYYHQSHywJhYekKSyoAHEQtQpDIqNHTEa8vltenLy4+PRoDMzkyQxiUT0qGTQ+K272ZHHD+548WkUSN9XRnjBE4fTblS9bBbMLqHNXzh2M+IriKzsNeDTDcmbjZKbmMzyEM+++Z8iY1Ark45yBoRGiYnsiY1LO0jOkYhBcPMUMdhYygLEUKRGaHDhsS6ucbNPIwDogpO0Qy9nlJHU4EXEGVueevFopAyP2A0Be1H2+xUHH2P4RERCnveExd7a0JFxOmZ//s4xNyDi8yLBCSwwomElKCEwwm5WPSael8qnomIDrHndTEfVEiilovWAIsEKsZ4KMDkojXVmromhBXHGmCkzk1kvKWTC92jLNQjAMXGDducFCXPKVU/ddMIbqzJ9eXSJCzrZ7Ft8Qky70iBbjldcygGJcYIjQaC4x6JxSF+9bKzxI2qMWyEVEwFUlIPPXUFBXKbzhR42QDaRdMTHBA0keCEzLkTmppBzlJpPSJ2bu3pIJoplMUfzEIrTyJ1zid7RRqVmlwVXvJVBsaUzLbtMzv01KheBJZc//s4xN4ABbADJaCIYCI1L99Aww/JiT3pQ2QaUW952T1fQXyP5a4xwaz/BugIAAU3IBO+EMXRJMwCAdY2Mk8jfFZ1RpIQylNsRuAFuzVWZPsZhFWd1apjbLawPYhjvq9MU6HIz67ruQLRnrnd3l7qpFo6nYgTJXk2GYn1qfACVv6bVisDjLQVhAy0/CQsJBgPRpooCTGvBJAyj7IMYSJvFucsmfxAmjiSdAtMXqRleR0M1EmewJa9k1ye2XUi5Ziad+kVI75Klw9KlkwVW2HF5QPqQ50t2auF//s4xOIDClyjBgSYa8FlHyDIkwz4jN4v2F2WFHdgxILVY8tRilJFLGdNQUIigmKgUiAhknISjYpEYoOoCRTYaIQNm5iA+wUShWHlJQ1LJpF2oo0J41yRxbXrJwUoFfINWqhxhRAJipTZwYAbs4Ez6E2hFTJwQcv3zVySflNtFP0zrGRd7nE4eSbc8krZJCf7FYxDUQmuCa9e2AABhZ6GDFYZVZp1rApZlFq006EHc5MfhY/YXuUo08ejGPs9iVIqpO9qmVnaa97hpEHM+dJpLbmrqOJFrcs9//s4xO0BDVj7AAYYb8lcq2GoMIqZ2BVHYuKXPwYvNFHABiBXbvIoUEROph9QSEJ2gExMAoyG2F2DY1hEyR5J2bRG2dcmL9SkrOZT7+WNe1f6+2mp9CqwlMvvj/lfKj/B2Xbe+v7uVvP11UxzzX/Z3BnL9c1tAImKIj8prylN2jyg/h6wbKWDOFo/RIzh5s5YuYHrpTw2H+LWKhBNwGUsY1ijwL9ki8XEETKCrhsewGYGw4MK8DlrCsJqiEDLZ5YeH0P8T3BkReydjCDIw55crwqRlMtYZ990//s4xO2DjY2FAiSYa9G2r+AAkYtZjK58DnFIs5/g4mY2s3MTAmcgGgwmk40WXhOnxEhRA/BGiw8YVKMASWWgBhsLFZLkolN+CHGIOUmbMvR954wAYZ6ypCHpEQgQ/y9C8fOEuZptzekR0tpSef5kMh/shcJMizaEjF8PnzTGJMdgomYrms7HSDn6Bt/AFGDlAeKGRcg6hpcUSNJEHrifuJaNUiTjOHMaIE2MjcStSHvSIy3IsJb5v/oDHEFAaoWXXQs7839iRSGkky+bGVkQv2ItMtSakTmY//s4xOIACrSNBkYkw4EgmiKYEI29LPlqRz17e8l5lvYzAErGGDDUMUQtajGmrAxkFH4yaR5o82ouUilMQUV3YkIILgsWgCmDc1akD9GBmHXiZjpOMIBdHU4qBmuZHHJ3Ij8iT+mfysckLBsXZsdi5WSJ5IbddTx2RzqnwtzMT3heZfi5D4PETzoAAkUOCNCkosBiS7a2ISpQ8Bk3CgYETYH2EwbDCEMar7JZx/Z9PPKB5o7a9eOtD7iBZO+0dojx1NqeHT1Jw22gcKHd28z07Pvm8vWz6ZT7//s4xPSBjkV4/iYYdkmXqaBUkw4hSvl1YWkymNb+xQPaOvTtOs6smq7/J5azFhlTxbkNGMM5OKc9lQ/YkWoI5qA9gqaTp4LG2k5WUfHTxqozD0GWaeXWLu17wNpQ6OKdB8sqhMamnkpPO5TTMuTzXznnoYhY58t4vd7b/2sff+vqmmrIctW77WPPwhdaKwAGhxcfCsZRppJmY1lcYonb2yyrQrKJQRe4iDiCGPsTVylDbTbRz5Sn//k6fVDJKZ8FXh2YAVOvD/fe85lf7/+Z7eZf0T9atd5n//s4xOoDC0FFCkGEcAmesGDI8wy58/oKPIaRhcP+X8//MUWpSmII+4jMnA5h+GKhx4oYXiNmMonq7JJ2FPZABiDgAIMcYaMil9OCqus4FlLe8iDPsPpVUXIMTSRp0iW6xdyqqRUjC/CLQgrpaUWEUCNafUySGjRIo1SoCDz745LWtOWAs1OdWqC4OqmmPQTiDVEOsO8oWTSjksvanRBkUHSKPNhFjRxzaZK5atlhJ/NOIzODzs4vc8297g1exj0adphk1zo/jNv77TzG3+xNEEG4G8V4kvKR//s4xOqDjOFJBEeYacmDnmDI8w2poofUiAAaGBSkpH8GkSQW5Qw5mSMcFItNpyhANKpDjKiTZEZHc0vessLfIuXmi7XaTtr/cgXKsyeKPEikHCKq8NGIMhmIiAjM2zNOMcS+b4cjlV//JEsdi3MkPb7Dh/B+PhaEPhbrVz2WJ0PYeKrYgth0DwmHfFUAZAKktDDREvMwDCyFKY7Tff6sRVVUV91T1My3va3R6CHEzj1Agq+dWlADlQJcwkFWBs8BLanz7FPRhVfWEiSKTwYpUOcafHCh1TXo//s4xOgDi6CVCEY8wwmXG+CA8w24AA4U7CrbYTIBlJcZcltuLIxMtsE1XgDJ0IrKKe7nOY/U+/VqxCzd3njd7vKu/kog2IV9TkkidzfKSD2uQ58Teh7TNwtmkzy73+bt4z9qzcsw66zZWbSx9Z+A0ZRkA5v/v4coo3fhydeJOgaIC4RjQEJKCIRhgEh6mqIAgxk7MNpTBKAkiTdG0xKgMaYafPmH/////4cOK7i7eb/+fzf8OSQTGxArEC9LQwAZf2iZIvywAXIrbaTX0EA7WquuzsWIxmBo//s4xOgACbj9FsSET+nKLuCI9I15pnzWFvDf//j/4pCvr//6///zavvvHvE/xjW0g0wLaxjOpt4x843TON01mSG8Y3znSdsct0kV0eWKciEmmK4P0AVH0EeH0PUoUJFhJmRydcD+H8/LsgoUZ7HYaQb8lHI8XiL+GoKM6Fr+X4rSNZlVo8yOqppGQh15cIi1a/SsGIi5aIXktRj4xDh9dBNfDjBVV1h69hZUKlQkkTEf6NOWEzupXT989oexhlElw4QcpcDKCHDdPgKkmJoF7MVWI5V1eSwL//s4xOkACYB3FvSxAALfpSIHM7ACyzUEohbC6iNtNB0ClokmqabrRnrLZiRDyWU9jp85l/wTKTH5dbswqmclzNVvZCC9YnkpU6pNMo3Vw1sqvKTJGtstpr5RoKiNHogQf/+/ixjr6oCly8EmHkgAFDCfoXqhTjOhqBJutY7kZ7RKxmAR1wFLabrOlyNAQ/UL/CsYmn8Xvn9DIzH0NlTpZ4acmWeIg7zwlBrBr/+twxIw8uMAhAGTyZBjw1A4N1i6AAWD06RlYJjZ5NN7ST1myjDZEJ7m6Bj8//s4xMiDTPD/Ij2HgBGgn2MBhD24itBIkR7AJ5Z9gigckXKHrrWAfxtYKAuX10UbhrfjzHtNqSd7/491wXDW//bY1k3a+v//bl9Kr//jxmvB1j1W/SjmsQSKSFE00vTMVWUnvLXOz/ICfNqte5mn3x0VF2NMQA+1J0kXPHY5mKoeGQhKtE6NaD4hEViFktZZR4TZJKMmToIPLYB3hsYldQCUXTRQC4ZWL1vnLztBhAj7ItvhuKlsdBA1MwpRAUkUEGJKOVNRyuDF7ZZXPGh9CxEJSJwItB2f//s4xMIDCtTnHGeMzYFIFCII9IziADgaLMNrNVoGLeWY6vqJsilJekL9B/uSfYGLRYMPK5wPAe1idSMmSwFJJIw5b7BtcwgSGCrKtINHrMS8J3Ol16pbCpvFWaYTl87P7+0zsbul63CP2LvQ4uABWxnuSaF3JA574/C8oy3+F1+IO+/7303lEjB8Z1YAQACDcEMawjNtkGRObN6C3Knm0kvjIyqI6RHQxpntOEzFt0+HCjH7filWG6Fj/XGnLX0y/oY43r+d6IzoRTK/lqyldzNrBTUdJDOi//s4xM8DizBlCEYkxUkji+GIYwj4Oi6E1UhgjElffGABvHOIFlEao8kwkpGPZZnk1m905cdkuQ7cd2cVJOpUR12DwZRnVqLToNJSnGI4p/+bwn6WdpVfzIvf1MwpOe539zazInetMsUeCKZuz7kYPwz/LxASdO/pU45hdx7oJQCRBJCTkgVDNuimMKbiDKRaQurjBxyOOfHHYTcGVJLizKoF+XbOu92bdcEySsSxv7uiJ0zx2Ulgqup+W59Jgh+T6/vCDAz3euVlPil+LvdU49eEw8Ai5/0M//s4xN8DimiXBiYkZcFunWDIww05wvyoUAAGG4R7EstnQNAOCIZsV1ttd9PvWN/DkYpBpxjIZvk5TluZu2NecIib5Qp7aiqqz6drlBMc/Zc77+eI5l732khLZYiN5fbGMpxIORVoFIB5MDwTGOczc+/Raf2sdtEmrWvna7VpVerI0GRXSgABixep25MNDvjglCZU2SEW+UUPgZTDqR9sJIpOSG1aZCFa9c8QzIIVxF9O779acm3iey5zC/zmNvs3D81LLuUsr9lldmCpFAGSSvrKzARCFlwU//s4xOkCCtF3DOMMT8l9r2EIko7IQCgM4lDWHcjjI7TMWjAKAGIMPYOCoSIvYjQyMv+XzeJvFyP7F9V7fdWNtZ7F3LsTv28aEAFKIIjwG59x+6wEGsFhem8KvK9YEOZhHZP27qeeQQZ/Y+5E3arP2iIiORDuHFA+OWF2PUhcdrkMOi68YljTVNxCAyWNLVfN3izWntEjKNLDomx9uMMtkeSLvpMLlVhCxEghL5dRIRSDpq4j0BvXIIFs085T1j1abAAPddqs3hzE+HQsKRopH+R+6/t/SQxj//s4xO+AC5k5D0GIegmur2EIxYo5RcheksSDgOxFxYrr0ozfMX4ZylqsVg6OnXSlwtVucy7VsnJ1J0YIkJCr2GpaLwFQCj7MTNnsmAbh6e8UNYCTMgOEYiHKyEZEZ+ofe8rZvS8z5CyORfl+uaWU6ST5/uCvApHTDSzII4tVGQNIjbuesUuQCohdGL50UQppNe1hUDRMfICbo0KnplEAkgWDDE3sqQG6OhoEhCGULBMIkT8Mnqwc6V9r0+TRKlKYCeonZz7b+UpUWYylYwJ2KyARmd/VKl7+//s4xOyDUXERDkwPDZHIIWNJguG5UBHOlQ1//CHbc5quT+24AK8WMpajwAEOURkibX1BIoiNQRW6Oljto2Y6IibkWh653FE61mcjsLub2/7O8tjqh2FPuWRfhsQSvWyyJWBRhs3PXsb/J38W+rd/EmldWYd6/9ezgY7GdQCZK3U6FCNouO5rzqkFvbjtjAcySFzZGTTDyL5CCC4oJlGYDh1OtQOgq0sE7crBQmhj5qY622vGz8vEpL9DI4Ks7RRbMo/6B3k/I4Gok5gaYvlk5/IkJ5P/dXf9//s4xM8DSgUBIkeVjclDH+MA8aXw+DuddSE1/j2cmhIyXoBNZOiAhuTilH++fmrYMR55K8RAbtrgaEJpAwy3InbD1WjNvOPCTusP1KOUSrDY6Z0itgIzFstHa/ncavg65ltq3zf/6XY1lzzplizDW/t8ZGVECeC/prUAAkf55SEoPoaGGbzioDHFATDEHldB/IFi5IkrYaSiFHoLn0RBdLlp2rEMYkhRrN6zvmxF+65GjfBemRigRFdg8HSTeCZCr12aigxdThBKLwMSpOIBE+W0MT88aKBQ//s4xOADCRjtGmekRQFfGeGIwwy5o7Y4uRaOEZWEn6SpBQ8VXjQAjrnHTiRkL8vyqSHcnHlENFo0nhnhjSbSp8Sjip1n88vwlkHWRBhK8soagwBz5KyskHgqhfloQHtf4qePTGC4TbJExo8aHFLFKf6tyTQnsQuQlwaecUoalQALxOsqdGKZQtpPHw9SEgImEiUYXXW7OkYmgaQ3mkFG2aFCboYSh2B1tBOpHg1h+EnTyn+VVvBAyyX9SOlxvz56HxqcOUjVV5v0r8tTz9PhXhOpVT82FQS7//s4xPEDDSTTAiekbcldmCGIZ4xRtb3AH2Uz4V8pKLBKiDSyANFiZEhKWOo3sY3JEdnLA4eXUaWZNolD6dWomrFhW1DV0otq3XpEhiywz4bSI5ybBqaLgq2CKaLzmXTNdF9suGrdOb8M5ZM24g/B5DnvK0+WN1/0QTv8aM4P7mXnw8SqAJEjbPEBwsCWA8gh5wgUxAYmNOgkgxhAqgsMN7JpLSB8uCHRmSyooxA6K6S0ENKLTdXR1K9eMOIXUF0AhVAAIrKLDoRYsE6RMAbxZLB0/49yiCyy//s4xPIDjWThCEykTYFxmWHJgw2oRAjYFApUR6mhE0tBComAAZVd6UAwSKBaEI21xlkgTkmQjTMhRc1B5iKCCsMvuvY7M8OVDH1I+fd3njP/zFVUPrPzIgutpokWHCLA9LECDz6gzPw+ANjsBEQVQtpbA1T5fT9GTPuuASUx0vIC+glB1eYgPHsChpIWBgdbcwYIiODwGFtbJoIjOxcgZP2YHV4nttmAeVlhYwsjV1A+Pa5xebHblLwON2v7d6HDfPLPveYFR4V9aPz6WB7QxyBhZBSLdzEZ//s4xO+DjFVPCkeYaUmSH6CIkYtR2vWevM7TsczlD5Q51Wy2xdpE5gYMmf671t7r4sVoZbkFdYeW7sPJ4EAhKJC43sFtSuST3HfzidXiJupaQ21t2gf7Xsow6w03J+U7HPN6zZ/b5rF783HTrs0dwQmMRX5WbaDNttUJkDU8J3ChRbCT//fso+z9lQACyzNruLJGlkDQQuiEnoUqEAOZKZJKgKRRnvVEonfM4ghssaw4Yd5JxA+iGuXEiijTBIfkwhBtcTrJaVLNYyxRObQ9mT+iure5EEVe//s4xO0DjCilAiYkyAFjFeGIbBgg863miapc0a1YDT//+LK/qzAKRBsHYNdlHo32A9qiElaE/N6fyKy1MZRIIn58fvrtaH7Nvz3O67hTbGkAvWaSBFG9ZtnLryTgovEgMdndcm0hbBtEQd7nyijj7JX/+9QobzyrLKSTM6gAom3jLCoQlIiwelZWGu2iWiunZcDI7Gizq29DL0ReiY0t4yke3Q4Y6vYqgJkfH/9fpKWDY70RzGMusgtCbrnN9bR0ktS2++q6PQtdEioS4k0AEQLYuouAh0hg//s4xPGDj+T5CCxthIFNGqMJgRnQrxbzRQw6jdfrsEQQIkxkHw4aFhvCjTbUB6l1UAgSRMlqj3sih0DXImjLANohFCX7Tj4fPabQksNgGiwrDB9dN0is79/0jHFCxxFhzcjoYYVc3Q03xfGb7B9lj1/w+G2x9/xsIZabJpkNSsmOv+2CARSRCaoWMzkRIR0u1jCRrFyjRgoLRGBBqawOBx3eWw8iCVR0JtIM/3zLfU5j+FMSelRnffge9/L444gFkhH/hnbrkH2w5zZ7N3m53dvfQeDMkYMq//s4xOmDC7zrFEyxCIFcmaNNgwm4mZsYqqBopFsZGz4qgA4wTGWfqXD5ILeAikaXlSSTeqtZcDA6QChrAFNd1lLRQoXLpSipFT6hUytrW7w7T63GfNp+7i5ftSu7Mapvs3JFOMxkZiW2CbeHcZWpnU2RmxyLQ0YxgpkrVDjSkbNxCxbi8j91AX+EaNeQ0eZpWag1ZLVeQyFdag3CD4tG9cWbiowIif9ZrGaV7ir01ilX0Xr2WJY2iqkGq+Hp/L05W0lnf7byRXuxyS+Ng0m+/WstZJusOgU///s4xPCDCaz5HGeMTIHxHmAA9KHx3MQASAFWIJGiCyeA8umpZp6ZbHKXNF6icZP1MwUn3rZzFqqkSeZBWuAuEsMQRP0+AiIFU+Ss5fzktNKhUyMhf7zkJMiIjzIqN0PocPLLVQ7uXCerrcGPalIu9O3IvJv5yiXWIgeYJ0oDgwuUwqOiFLRz0UehFB8LBUAYQCkXPLEsM9l6kzZdiwko5K3RVHLLap2ibnJyexuNnCHuMyeRxmhyIYKMLmXTGGX4mclo2RA7JhHXGsTW/b+JiaAjZ7H3vkUv//s4xO0ACciFFSGEUuncsCAEkw8ZwVaQ7i2wSkmLAoTOr4HLQjLSPaKc0uhZmOA0EBJo/U+xAnvUQw8z+G2W564OLjSiC4KdpnDgGJR+M1SG8M82M1TrP/aXZ9NT78v/S3akcK3/hF5EDF3J/m8h0zvDyP5/xW2MsXxOGGtnaiSAEpuUCER7TOkR0yiIZSqf+ZCa5OWWkKup/31/4G3OOfoESz7kdGUE2ci2FgaGxCDaIgNmC5k7dFlQzV1Tth195ndRFWOb6PbsqEY2FdVqqrwpUgIaFgvN//s4xOuBCmTbDEMMTYmVL+DkYw05pgOJVZ0scSF5YkPHCoflQzKdUO5Zmj76U6WOVLRg062QEaI+oJDTqyH250lvElJDkRxzPclSpHQdSvZEBCtVFBK7lcVvvfpQkiA0sg++WdISdnDOmkCkuoP/Y38r0ZVASFxGcyy/89Uhg2OEDeU4aopVA6UNKwbh1rswoteEiZOwvFhYOsog0cGArKupbUBqmWHXK+RCzq8F3cf0lW8hRBajNHMfHooqTQQD7h76/JHnwucvB/w/fHf/rJuPZkI3PVP4//s4xPCDjGS1AiSYb4mEr+CIkw14ntqrgys579u/swKQEnJYFWh0Emr1YpHpKjMW7pTntHSF56S7XQ1OMCnyRk9zyBaf3c4GjilV3bLCIcfB25khvZpoCIytEHaX0v1NCil/xSsaB6R7XItIUmMNpcGNG4wdKgAawS8YLFKcSsKsvKH46uJkYGHO7hcFswzVLLo80xEhNwU/LST6H3gUkRSHjCUoRRTGH7DIX+f01ewNCu1TSBdRlRMOhxgZVpxukCZFbLlqOsGfNohuWd5OgF6ULyY2waEo//s4xO+ACn2JDuGEXEHZLp/Eww8Jq4M/NaKMx3gUzxQiYBF8QtLrqCebjOo4sGTxa7IheIQQtVIOvT8WVQXLzm2zhndg2AIKtUAmZwEIdXeBFdT+6nc69KG/TRcyOM9PmeevbD3/83mt19bzhlphjOx3z+mX8cEu8VuatSI0hfEpsDQuAIy0HxsyZbRrtQVhFia52CDERI8SqioC06yzIDISbEGsOWyYlzy+kkW6kYZTO2dGJL1K4LJ3OEjRYUKI4tSTH2p36RJdtX9q7/vhrvmsKLhqp/sZ//s4xOuAC2SNBCMg0IlYLCIcMI+BmW/pxyB/Dq//mmv/y7Y0GD6BYsGVYRTWQ0pFboGVD+tsozTUtWElIwqr7KYYiMIxfDLEQnKgmrWMKSugUyKnFLmVzTh+yNCuX5l7nSc7zmu9nOHCS7+nz31P6STfP7rw+77US6GTr5hqPqFt450yVQR7xCylFHGkKg9lDkoqSIQmmAukhwtJkYFi2OEWPlbSO992uqOmT2yfWc+G5nW5p2oGPpDmnwxzPHztdU5Pt3ZClv55j4XkNkKeolPt16d8PDu+//s4xPQDDdGHAkSYcUmJMKDIkwz4gGU7QDAgqH0RwbPnDpZU+iUWiTKa1niZIDZUjXIXIpZ1kJ+CSpD22+5ZGvrbarTWdRFdIi1xHmt01FyDzzKHzf1JTbBSjZ406mqHVmaEh/1EY/zJs/Y8rdfK8rRYu1LobGhpFX2ONtJlBT04f6qhBa2qEjKElI6RIqFpnjU+JNJDzajEG4pomCLlJkKEZaPtIiy9xlklEK6LsvW0aHVpSrV18WciSh7iau4eYKPL0N903KbSBHv4doWmW+bRCTTi/FtR//s4xO0DjDy3AiSYcwmFLeCIlA6JH7VP/zTv5+8Ho9X3a1wYGx/iHQMGGFhxkIMk69KEpAgI2UFnbYIzTkrZxt26ixB0TmJkkLRbzOJmHQbA6dSWSGeGUUFzdRJJ6lHbd5JNpmQx7TpGf8PWasZcyyWU+m/IqU/PJlmWefw7oV5zvSy+SHO9tca/StUSCCKbkCqDRbwcoENa07tYFoi4GT6FAqGRrLX4+yIWcEOlB7QyJNya7Tc7OopeiF3ieZeitB2XT9m+GG1YmLhVj+JPT4uf9pXupok+//s4xOyDCszpCkMIbAm3MWAElI25tMlozsbSP4KyihxxobwxPSSgDnF5MhGOlM0MXjl963RCMwyWSFEumYmx4YDTlJxtmsR0pMsULSZHx0QLTqQwimohJWKVm2O3vTE1Vf+O1feHQ2vlmRmWYxKI46N65xzMcy8iLys6GXJcN7ahN4XfM7X5XJzQknclB4UzBwRCMzmIl/p8bxbESwm1HViR8XHTwegpEDPb+O3MQNVpEDEE+68KQjM1CbI4NfVP0M/JnvGPyd4RdN3SsVKlntRyFSbwSrsm//s4xOuDjITdAASYegmMMGCIkw4ZHzzUiW8BWg42GcLxAMA0VeE0qwRrQM9GZRJmUfcyOOCxtWjiqy+y8QgRlu1Y0r3JvY2GAiumze2drf7GF0X2JXhqi0/Z9X0HYFfPQ7kaUUQv8dwSf//LvG9F/9b8ZR/NmYMfl+Lr65d+lQAqw8iTFkKDV2VFtJSAJCBIU4EkpLCBi0uTNbdhA+XNVucpdvEquqMisCUyktU4MZAjyikVdeeVjQ7zbKYIzIo1M4X4ccy3+OqkrFwodNqGyKvLBi2Stnqy//s4xOkAC0FvDuGMa8mmJOAAww35Eu/mIPVzjQaADpWcDLEHSEoDixiSNVlSiI4FacYc5gyjtTaTqN7IQVOyQXyynEV6yjVDp6h0MqvVBF1YvKT+YjSQsi+sfWXVvjJdAB8QY1QtwIURsR6FkC2NxDcVDy+xrhy5TmXlqTfw8yOzmKI9sUoAhQjsq0iJUDIoXTWAKuJDRImQIZDqRLRobNqCKhWMdGo7wfY8fUKOHk08VIUUaZDNcePOOgyTgqFL7C0VXt2YUghT8HGQvycE+ASfiibXddll//s4xOiDi6T3BCSYcMFckeDIZJmRZR964Wvtb/dlVyVjncX9f4C8YuG/+1YILG4MBmSiJRhulWXym/KViRIJMQQDE44cR5VPidKCmJKg+RLMyMXeeBQZ5kQMET8Iy4lL2Ez1yKZnXp/5pDm7X6c/W+blO8OzyzI9DKZZ+0hRj5DnMLX7+Nu1LYaAVQAmgIQhdkQQaWRIGk7TwQMOeoqoh7a8TLSIukg66WII1JXnVp0yuYCKQWjDu39dSJhAWzzf88kRZ53+t8NwpV40WbVA5UB2BuXR7ijj//s4xO+DjHk3BkSYa4mYseCIYw14qD/3M1khw/IHLv03aOu0Gs/67kRu5SAAlNwEIFSUQKT1UVcVlTbm9eGSldvfTxV2/pI2JRyrjTlzMkZx4ptaX5H+27Hd2B9jSZlnIuGIyT0y7aS1EqFPML534xJ5qdpoiGZ/3z4ty8+IZ+qSijNK9StBKgCPT3y4qHF4DZktL9DtKnTtEo6Wn5VgWuGKOHo8iGQTgK4yQNtR/DWUT1GWoQHkhNJJGDMXppA0uqz0ri/LZ1a36WZs/wiQBHqlSuyqRuq8//s4xOwDjQDFACSYdpl8rGCIlIz5YoXIvlbE05V/i+pFTQ6U+mVt+lp5ArmT3ekQEDuVCwILUjAQmAMEWgLnVDmiGWGBgIg7Jhy57jl4XXcRHoDXSNa8RtPgRbjp1bXb0kAHmS5rbqER0i8+4lDcmQPkRddQNkmB5NbMZQhAEpyQEXK7E0EXKCLp6Ulr/qdIpLCjQQKdC29DTyJ0g9Wg82ZAmdc0wWbKzOPj4v1hGFPdVJCdga1RIw21u+GFks/fXpx5cnoL/hP0vUZqJpozMTm97OZGPfQ8//s4xOmCDGDpBEMkbUlxrmFcYI7BU1fHlfuf35SKGbu53OasQAAJbcAW1Kd2xrhRgrcGWa0hJLA0JqQo5VJTBMVSEcE2gvyhf5kiwjy6ZtN6pm5dT/zMUjiUkr01Imhm2laHM7/k9pSm6G+1DN8pSc3mvczY/qfey8+iUIV+s+oBhZoUkCMYI0TmQ0saFcE4epEtTZxl6BNG1FaTV2RGGRFIKXALhyz0dV0GlFqZEEw2gw4zufJbwAUipUoXCIOfb+CaZx0cpoWZL/5/SjIe9hJcP0sszhkp//s4xOsDDeV9ACYYc1EeAaIMEIgAEwxOkWid5lZPheLkqxiCa+KoRCQ0pqjYpW9HSURoEZSaBAgc8sFyeBmoFDmNSPLZZFbIEbsiSIIkW8GMmV6XDJPUbMYW8LvY7CoVD1YtnlHqVd35UU/d3diHtQjSDONUNO/5l0wjyur6NVdv9ZsSn0/zqqPm6gAvxBclcIhlA+HpF+HphXLt6KgsLhoKomkDhKkkMcxBsXN2EyF5+dcQEE5kR15/nciO2HqZwj5WOveD5ECVszxqOkrDFrci/hS9aYn///s4xPEADVmDCuMM04FvrqGcEwxZFvFsBxw74CCfIqHUBP4LUmONfTKDskjA7UEiZg5IshMMnCcRtk6s5iNGR2jjrnJYQlbDl5slowfTkDdw3t5ZSKTDTjIQi9Ue6vH0unXor//qY867GNP+yPppwK69XyI5J2V8/PkSaQAnx3uxwknmvSOYI41U1QACQkYYVOieCGcsKnUTJyAM4ijpCNJEpDkIIFusG8IVzCaJy6UTehu0mv/9mQe0WJvhq35aSeRreFce+93N7mnf7lVJyPhP5KXmRVEp//s4xO8BjTWBAiSYdgmOoSBUkwm5wihQ9PP6nMP4MqzwWVcq6amMWOx5giPddAYAFNyBDGbQiqahBIlJH7u+tk1tKLc/VP2Mi+Z0qXM5lXo4Pjkf0L8uiY7tvfai/jXetuW+KnPysrk6rGfn6hlFC/dhh75f48t/UvsXtvDSDAAAIEtygldBzg5PIQupZ1bpkT4c+Eacd1TBjkeR7VFhDUZwRZgRfhaMSIeHEU20Uxm8HzsMpdnzWblLwv9W9JMv55E7l3+zgThywoZQj36bICgv2OdmFUOM//s4xOmDi5z3CESYZ0mVFiBExJkprpJE4rD4OskrKODLRg40UGnrAHSBzd1gLGBLFOlCeyA0sXbnNYVcECLTE2G+ojV5FdwWiYCpkDQ5l/UMasPgzZczJnHpjVEurKjIMiq/1UAlog79KLzxcz4hmcIlK9XL9yOv8NSMwe5rBPdSv+nMOaIEBIKckAmhIHGTiyBsxjTCUoRoBnslOHnw0kMzFvlw53LPdhJpCMbZNT8IWzF2yzKmRseTcnHalUBjMk88X1FVW2NHy7nZ85ERP9z+pR+ZhQyO//s4xOmCDM1HBESYbck9EiHcYIzB21p9LHqmtgALBKuaKjK7jJQlk3k6VWbAYIqtRSIumilPVScTYVUJCiCZtTiQFH8u6rnIJZqGrQRqEDURBUTYGEVn7xjpKRXflP6yZIdyrFXPdShX6dpbI3koKvb20k/mnScmt7dZlYxqocqYUjnINYBAEAKikYZ1EqUY4aiSh8WNBPwomYeQhPkFE5hUUOJhV2y/iqsZtmhsKEpENnTxXPKPAs+SiICiICw7g0DXiVYaWediERPWCssecJj08GsGntKy//s4xPABCt19D0GEeInPsR/Akw9InZ2miymdnqTizIuFokgUUJEiD0LYsy7zc1EkJAgI8xNSQKDCRIgmMDokjRQosy81njK+zRCNB86UXQN5uSlcNzYy2f/8v//+TKGBggToZMrBQoIGjyy2WWWWoZGrWAqBu//8JpiaShNERZLSTEFNRTMuOTkuNaqqqqqqqqqqqqqqqqqqqqqqqqqqqqqqqqqqqqqqqqqqqqqqqqqqqqqqqqqqqqqqqqqqqqqqqqqqqqqqqqqqqqqqqqqqqqqqqqqqqqqq//s4xOwBCx1TDuGEfgmkLiBIkw7Bqqqqqqqqqqqqqqqqqqqqqqqqqqqqqqqqqqqqqqqqqqqqqqqqqqqqqqqqqqqqqqqqqqqqqqqqqqqqqqqqqqqqqqqqqqqqqqqqqqqqqqqqqqqqqqqqqqqqqqqqqqqqqqqqqqqqqqqqqqqqqqqqqqqqqqqqqqqqqqqqqqqqqqqqqqqqqqqqqqqqqqqqqqqqqqqqqqqqqqqqqqqqqqqqqqqqqqqqqqqqqqqqqqqqqqqqqqqqqqqqqqqqqqqqqqqqqqqqqqqq//s4xOyACjCrCUGEcQG1qRREZI+Bqqqqqqqqqqqqqqqqqqqqqqqqqqqqqqqqqqqqqqqqqqqqqqqqqqqqqqqqqqqqqqqqqqqqqqqqqqqqqqqqqqqqqqqqqqqqqqqqqqqqqqqqqqqqqqqqqqqqqqqqqqqqqqqqqqqqqqqqqqqqqqqqqqqqqqqqqqqqqqqqqqqqqqqqqqqqqqqqqqqqqqqqqqqqqqqqqqqqqqqqqqqqqqqqqqqqqqqqqqqqqqqqqqqqqqqqqqqqqqqqqqqqqqqqqqqqqqqqqqqq\" type=\"audio/mpeg\" />\n",
       "                    Your browser does not support the audio element.\n",
       "                </audio>\n",
       "              "
      ],
      "text/plain": [
       "<IPython.lib.display.Audio object>"
      ]
     },
     "metadata": {},
     "output_type": "display_data"
    },
    {
     "name": "stdout",
     "output_type": "stream",
     "text": [
      "Transcription: Kutanguliya si kufika\n"
     ]
    }
   ],
   "source": [
    "# Import IPython.display.Audio for playing audio\n",
    "from IPython.display import Audio, display\n",
    "\n",
    "# Choose a random sample or specific one\n",
    "sample = test_df.sample(2)\n",
    "audio_path = os.path.join(base_dir, sample['path'].values[0])\n",
    "transcription = sample['sentence'].values[0]\n",
    "\n",
    "# Play the audio\n",
    "display(Audio(audio_path))\n",
    "\n",
    "# Print the transcription\n",
    "print(\"Transcription:\", transcription)\n"
   ]
  },
  {
   "cell_type": "code",
   "execution_count": 30,
   "metadata": {},
   "outputs": [
    {
     "data": {
      "text/html": [
       "<div>\n",
       "<style scoped>\n",
       "    .dataframe tbody tr th:only-of-type {\n",
       "        vertical-align: middle;\n",
       "    }\n",
       "\n",
       "    .dataframe tbody tr th {\n",
       "        vertical-align: top;\n",
       "    }\n",
       "\n",
       "    .dataframe thead th {\n",
       "        text-align: right;\n",
       "    }\n",
       "</style>\n",
       "<table border=\"1\" class=\"dataframe\">\n",
       "  <thead>\n",
       "    <tr style=\"text-align: right;\">\n",
       "      <th></th>\n",
       "      <th>path</th>\n",
       "      <th>sentence</th>\n",
       "    </tr>\n",
       "  </thead>\n",
       "  <tbody>\n",
       "  </tbody>\n",
       "</table>\n",
       "</div>"
      ],
      "text/plain": [
       "Empty DataFrame\n",
       "Columns: [path, sentence]\n",
       "Index: []"
      ]
     },
     "execution_count": 30,
     "metadata": {},
     "output_type": "execute_result"
    }
   ],
   "source": [
    "train_df[train_df['sentence'] == 'kauza']"
   ]
  },
  {
   "cell_type": "code",
   "execution_count": 31,
   "metadata": {},
   "outputs": [
    {
     "data": {
      "text/plain": [
       "302      Yapo maneno ambayo mmeyaswahilisha wenyewe.\n",
       "303    Ah Mwanamme yule anawivu na mkewe kwelikweli.\n",
       "304                    Kesho tutaenda kazini mapema.\n",
       "305                         Vijana wamebadilika sana\n",
       "306                              Sana twatumia ndugu\n",
       "                           ...                      \n",
       "638                           Jambo baya, jambo zuri\n",
       "639                      Tunataka kuanzisha Taasisi.\n",
       "640                    Sada kajibu swali aliloulizwa\n",
       "641    Watoto wameharibu mashine ya kunyolea nywele.\n",
       "642                             Habib kauza nyumbaye\n",
       "Name: sentence, Length: 341, dtype: object"
      ]
     },
     "execution_count": 31,
     "metadata": {},
     "output_type": "execute_result"
    }
   ],
   "source": [
    "train_df['sentence'] "
   ]
  },
  {
   "cell_type": "code",
   "execution_count": 25,
   "metadata": {},
   "outputs": [
    {
     "data": {
      "text/html": [
       "<div>\n",
       "<style scoped>\n",
       "    .dataframe tbody tr th:only-of-type {\n",
       "        vertical-align: middle;\n",
       "    }\n",
       "\n",
       "    .dataframe tbody tr th {\n",
       "        vertical-align: top;\n",
       "    }\n",
       "\n",
       "    .dataframe thead th {\n",
       "        text-align: right;\n",
       "    }\n",
       "</style>\n",
       "<table border=\"1\" class=\"dataframe\">\n",
       "  <thead>\n",
       "    <tr style=\"text-align: right;\">\n",
       "      <th></th>\n",
       "      <th>path</th>\n",
       "      <th>sentence</th>\n",
       "    </tr>\n",
       "  </thead>\n",
       "  <tbody>\n",
       "    <tr>\n",
       "      <th>302</th>\n",
       "      <td>common_voice_sw_31996765.mp3</td>\n",
       "      <td>Yapo maneno ambayo mmeyaswahilisha wenyewe.</td>\n",
       "    </tr>\n",
       "    <tr>\n",
       "      <th>303</th>\n",
       "      <td>common_voice_sw_31996785.mp3</td>\n",
       "      <td>Ah Mwanamme yule anawivu na mkewe kwelikweli.</td>\n",
       "    </tr>\n",
       "    <tr>\n",
       "      <th>304</th>\n",
       "      <td>common_voice_sw_31996787.mp3</td>\n",
       "      <td>Kesho tutaenda kazini mapema.</td>\n",
       "    </tr>\n",
       "    <tr>\n",
       "      <th>305</th>\n",
       "      <td>common_voice_sw_31996800.mp3</td>\n",
       "      <td>Vijana wamebadilika sana</td>\n",
       "    </tr>\n",
       "    <tr>\n",
       "      <th>306</th>\n",
       "      <td>common_voice_sw_31996845.mp3</td>\n",
       "      <td>Sana twatumia ndugu</td>\n",
       "    </tr>\n",
       "    <tr>\n",
       "      <th>...</th>\n",
       "      <td>...</td>\n",
       "      <td>...</td>\n",
       "    </tr>\n",
       "    <tr>\n",
       "      <th>638</th>\n",
       "      <td>common_voice_sw_32320548.mp3</td>\n",
       "      <td>Jambo baya, jambo zuri</td>\n",
       "    </tr>\n",
       "    <tr>\n",
       "      <th>639</th>\n",
       "      <td>common_voice_sw_32320636.mp3</td>\n",
       "      <td>Tunataka kuanzisha Taasisi.</td>\n",
       "    </tr>\n",
       "    <tr>\n",
       "      <th>640</th>\n",
       "      <td>common_voice_sw_32320656.mp3</td>\n",
       "      <td>Sada kajibu swali aliloulizwa</td>\n",
       "    </tr>\n",
       "    <tr>\n",
       "      <th>641</th>\n",
       "      <td>common_voice_sw_32320692.mp3</td>\n",
       "      <td>Watoto wameharibu mashine ya kunyolea nywele.</td>\n",
       "    </tr>\n",
       "    <tr>\n",
       "      <th>642</th>\n",
       "      <td>common_voice_sw_32320704.mp3</td>\n",
       "      <td>Habib kauza nyumbaye</td>\n",
       "    </tr>\n",
       "  </tbody>\n",
       "</table>\n",
       "<p>341 rows × 2 columns</p>\n",
       "</div>"
      ],
      "text/plain": [
       "                             path  \\\n",
       "302  common_voice_sw_31996765.mp3   \n",
       "303  common_voice_sw_31996785.mp3   \n",
       "304  common_voice_sw_31996787.mp3   \n",
       "305  common_voice_sw_31996800.mp3   \n",
       "306  common_voice_sw_31996845.mp3   \n",
       "..                            ...   \n",
       "638  common_voice_sw_32320548.mp3   \n",
       "639  common_voice_sw_32320636.mp3   \n",
       "640  common_voice_sw_32320656.mp3   \n",
       "641  common_voice_sw_32320692.mp3   \n",
       "642  common_voice_sw_32320704.mp3   \n",
       "\n",
       "                                          sentence  \n",
       "302    Yapo maneno ambayo mmeyaswahilisha wenyewe.  \n",
       "303  Ah Mwanamme yule anawivu na mkewe kwelikweli.  \n",
       "304                  Kesho tutaenda kazini mapema.  \n",
       "305                       Vijana wamebadilika sana  \n",
       "306                            Sana twatumia ndugu  \n",
       "..                                             ...  \n",
       "638                         Jambo baya, jambo zuri  \n",
       "639                    Tunataka kuanzisha Taasisi.  \n",
       "640                  Sada kajibu swali aliloulizwa  \n",
       "641  Watoto wameharibu mashine ya kunyolea nywele.  \n",
       "642                           Habib kauza nyumbaye  \n",
       "\n",
       "[341 rows x 2 columns]"
      ]
     },
     "execution_count": 25,
     "metadata": {},
     "output_type": "execute_result"
    }
   ],
   "source": [
    "train_df['sentence']"
   ]
  },
  {
   "cell_type": "code",
   "execution_count": 34,
   "metadata": {},
   "outputs": [],
   "source": [
    "filtered_df = train_df[train_df['sentence'].str.contains('upepo', case=False, na=False)]\n"
   ]
  },
  {
   "cell_type": "code",
   "execution_count": 35,
   "metadata": {},
   "outputs": [
    {
     "data": {
      "text/html": [
       "<div>\n",
       "<style scoped>\n",
       "    .dataframe tbody tr th:only-of-type {\n",
       "        vertical-align: middle;\n",
       "    }\n",
       "\n",
       "    .dataframe tbody tr th {\n",
       "        vertical-align: top;\n",
       "    }\n",
       "\n",
       "    .dataframe thead th {\n",
       "        text-align: right;\n",
       "    }\n",
       "</style>\n",
       "<table border=\"1\" class=\"dataframe\">\n",
       "  <thead>\n",
       "    <tr style=\"text-align: right;\">\n",
       "      <th></th>\n",
       "      <th>path</th>\n",
       "      <th>sentence</th>\n",
       "    </tr>\n",
       "  </thead>\n",
       "  <tbody>\n",
       "    <tr>\n",
       "      <th>315</th>\n",
       "      <td>common_voice_sw_31997172.mp3</td>\n",
       "      <td>Upepo watoka upande huu</td>\n",
       "    </tr>\n",
       "    <tr>\n",
       "      <th>327</th>\n",
       "      <td>common_voice_sw_31997397.mp3</td>\n",
       "      <td>Kama jamaa akiwa anadungadunga watu\\t4\\t0\\ttwe...</td>\n",
       "    </tr>\n",
       "    <tr>\n",
       "      <th>433</th>\n",
       "      <td>common_voice_sw_32311566.mp3</td>\n",
       "      <td>Bahari inchafuka kwa upepo</td>\n",
       "    </tr>\n",
       "    <tr>\n",
       "      <th>592</th>\n",
       "      <td>common_voice_sw_32264809.mp3</td>\n",
       "      <td>Paa lya nyumba lyekugwa kwa upepo</td>\n",
       "    </tr>\n",
       "  </tbody>\n",
       "</table>\n",
       "</div>"
      ],
      "text/plain": [
       "                             path  \\\n",
       "315  common_voice_sw_31997172.mp3   \n",
       "327  common_voice_sw_31997397.mp3   \n",
       "433  common_voice_sw_32311566.mp3   \n",
       "592  common_voice_sw_32264809.mp3   \n",
       "\n",
       "                                              sentence  \n",
       "315                            Upepo watoka upande huu  \n",
       "327  Kama jamaa akiwa anadungadunga watu\\t4\\t0\\ttwe...  \n",
       "433                         Bahari inchafuka kwa upepo  \n",
       "592                  Paa lya nyumba lyekugwa kwa upepo  "
      ]
     },
     "execution_count": 35,
     "metadata": {},
     "output_type": "execute_result"
    }
   ],
   "source": [
    "filtered_df"
   ]
  }
 ],
 "metadata": {
  "kernelspec": {
   "display_name": "Python 3 (ipykernel)",
   "language": "python",
   "name": "python3"
  },
  "language_info": {
   "codemirror_mode": {
    "name": "ipython",
    "version": 3
   },
   "file_extension": ".py",
   "mimetype": "text/x-python",
   "name": "python",
   "nbconvert_exporter": "python",
   "pygments_lexer": "ipython3",
   "version": "3.9.13"
  }
 },
 "nbformat": 4,
 "nbformat_minor": 2
}
